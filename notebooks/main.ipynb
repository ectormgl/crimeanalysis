{
 "cells": [
  {
   "cell_type": "code",
   "execution_count": 1,
   "metadata": {},
   "outputs": [],
   "source": [
    "import pandas as pd\n",
    "import numpy as np\n",
    "from pyspark.sql import SparkSession\n",
    "import pandas as pd\n",
    "import os\n",
    "\n",
    "\n",
    "from dash import Dash, dcc, html, Input, Output\n",
    "import plotly.express as px\n",
    "\n"
   ]
  },
  {
   "cell_type": "code",
   "execution_count": 9,
   "metadata": {},
   "outputs": [
    {
     "data": {
      "text/html": [
       "<div>\n",
       "<style scoped>\n",
       "    .dataframe tbody tr th:only-of-type {\n",
       "        vertical-align: middle;\n",
       "    }\n",
       "\n",
       "    .dataframe tbody tr th {\n",
       "        vertical-align: top;\n",
       "    }\n",
       "\n",
       "    .dataframe thead th {\n",
       "        text-align: right;\n",
       "    }\n",
       "</style>\n",
       "<table border=\"1\" class=\"dataframe\">\n",
       "  <thead>\n",
       "    <tr style=\"text-align: right;\">\n",
       "      <th></th>\n",
       "      <th>CONSOLIDADO(S)</th>\n",
       "      <th>ESPECIFICAÇÃO CRIME</th>\n",
       "      <th>MEIO EMPREGADO DEAC</th>\n",
       "      <th>MUNICÍPIO(S)</th>\n",
       "      <th>BAIRRO(S)</th>\n",
       "      <th>ANO DO FATO</th>\n",
       "      <th>MÊS DO FATO</th>\n",
       "      <th>RISP</th>\n",
       "      <th>AISP</th>\n",
       "      <th>DATA DO FATO</th>\n",
       "      <th>...</th>\n",
       "      <th>IDADE VÍTIMA</th>\n",
       "      <th>FAIXA ETÁRIA VÍTIMA</th>\n",
       "      <th>TIPO DE VÍTIMA</th>\n",
       "      <th>COR VÍTIMA</th>\n",
       "      <th>GRAU DE INSTRUÇÃO VÍTIMA</th>\n",
       "      <th>ESTADO CIVÍL VÍTIMA</th>\n",
       "      <th>SEXO AUTOR</th>\n",
       "      <th>IDADE AUTOR</th>\n",
       "      <th>COR AUTOR</th>\n",
       "      <th>GRAU DE RELACIONAMENTO</th>\n",
       "    </tr>\n",
       "  </thead>\n",
       "  <tbody>\n",
       "    <tr>\n",
       "      <th>0</th>\n",
       "      <td>TRAFICO DE DROGAS</td>\n",
       "      <td>NaN</td>\n",
       "      <td>NaN</td>\n",
       "      <td>BELEM</td>\n",
       "      <td>GUAMA</td>\n",
       "      <td>2023</td>\n",
       "      <td>OUTUBRO</td>\n",
       "      <td>01ª RISP</td>\n",
       "      <td>05ª AISP</td>\n",
       "      <td>2023-10-19</td>\n",
       "      <td>...</td>\n",
       "      <td>88888</td>\n",
       "      <td>PJ, EP E OUTROS</td>\n",
       "      <td>PJ, EP E OUTROS</td>\n",
       "      <td>PJ, EP E OUTROS</td>\n",
       "      <td>PJ, EP E OUTROS</td>\n",
       "      <td>PJ, EP E OUTROS</td>\n",
       "      <td>P</td>\n",
       "      <td>66666.0</td>\n",
       "      <td>PARDA</td>\n",
       "      <td>NaN</td>\n",
       "    </tr>\n",
       "    <tr>\n",
       "      <th>1</th>\n",
       "      <td>LESAO CORPORAL</td>\n",
       "      <td>NaN</td>\n",
       "      <td>VIOLENCIA FISICA</td>\n",
       "      <td>BELEM</td>\n",
       "      <td>CAMPINA</td>\n",
       "      <td>2023</td>\n",
       "      <td>AGOSTO</td>\n",
       "      <td>01ª RISP</td>\n",
       "      <td>01ª AISP</td>\n",
       "      <td>2023-08-30</td>\n",
       "      <td>...</td>\n",
       "      <td>45</td>\n",
       "      <td>ADULTO IV (35 A 64 ANOS)</td>\n",
       "      <td>PREJUDICADO</td>\n",
       "      <td>PREJUDICADO</td>\n",
       "      <td>ENSINO MEDIO COMPLETO</td>\n",
       "      <td>PREJUDICADO</td>\n",
       "      <td>M</td>\n",
       "      <td>66666.0</td>\n",
       "      <td>PREJUDICADO</td>\n",
       "      <td>EX-COMPANHEIRO(A)</td>\n",
       "    </tr>\n",
       "    <tr>\n",
       "      <th>2</th>\n",
       "      <td>FURTO</td>\n",
       "      <td>HIDROMETRO</td>\n",
       "      <td>SEM INSTRUMENTO</td>\n",
       "      <td>BELEM</td>\n",
       "      <td>MARACANGALHA</td>\n",
       "      <td>2023</td>\n",
       "      <td>OUTUBRO</td>\n",
       "      <td>01ª RISP</td>\n",
       "      <td>07ª AISP</td>\n",
       "      <td>2023-10-30</td>\n",
       "      <td>...</td>\n",
       "      <td>88888</td>\n",
       "      <td>PJ, EP E OUTROS</td>\n",
       "      <td>PJ, EP E OUTROS</td>\n",
       "      <td>PJ, EP E OUTROS</td>\n",
       "      <td>PJ, EP E OUTROS</td>\n",
       "      <td>PJ, EP E OUTROS</td>\n",
       "      <td>P</td>\n",
       "      <td>66666.0</td>\n",
       "      <td>NaN</td>\n",
       "      <td>NaN</td>\n",
       "    </tr>\n",
       "    <tr>\n",
       "      <th>3</th>\n",
       "      <td>FURTO</td>\n",
       "      <td>HIDROMETRO</td>\n",
       "      <td>SEM INSTRUMENTO</td>\n",
       "      <td>BELEM</td>\n",
       "      <td>UMARIZAL</td>\n",
       "      <td>2023</td>\n",
       "      <td>OUTUBRO</td>\n",
       "      <td>01ª RISP</td>\n",
       "      <td>01ª AISP</td>\n",
       "      <td>2023-10-28</td>\n",
       "      <td>...</td>\n",
       "      <td>88888</td>\n",
       "      <td>PJ, EP E OUTROS</td>\n",
       "      <td>PJ, EP E OUTROS</td>\n",
       "      <td>PJ, EP E OUTROS</td>\n",
       "      <td>PJ, EP E OUTROS</td>\n",
       "      <td>PJ, EP E OUTROS</td>\n",
       "      <td>P</td>\n",
       "      <td>66666.0</td>\n",
       "      <td>NaN</td>\n",
       "      <td>NaN</td>\n",
       "    </tr>\n",
       "    <tr>\n",
       "      <th>4</th>\n",
       "      <td>TRAFICO DE DROGAS</td>\n",
       "      <td>NaN</td>\n",
       "      <td>NaN</td>\n",
       "      <td>BELEM</td>\n",
       "      <td>TAPANA</td>\n",
       "      <td>2023</td>\n",
       "      <td>OUTUBRO</td>\n",
       "      <td>01ª RISP</td>\n",
       "      <td>11ª AISP</td>\n",
       "      <td>2023-10-19</td>\n",
       "      <td>...</td>\n",
       "      <td>88888</td>\n",
       "      <td>PJ, EP E OUTROS</td>\n",
       "      <td>PJ, EP E OUTROS</td>\n",
       "      <td>PJ, EP E OUTROS</td>\n",
       "      <td>PJ, EP E OUTROS</td>\n",
       "      <td>PJ, EP E OUTROS</td>\n",
       "      <td>P</td>\n",
       "      <td>66666.0</td>\n",
       "      <td>PREJUDICADO</td>\n",
       "      <td>NaN</td>\n",
       "    </tr>\n",
       "    <tr>\n",
       "      <th>...</th>\n",
       "      <td>...</td>\n",
       "      <td>...</td>\n",
       "      <td>...</td>\n",
       "      <td>...</td>\n",
       "      <td>...</td>\n",
       "      <td>...</td>\n",
       "      <td>...</td>\n",
       "      <td>...</td>\n",
       "      <td>...</td>\n",
       "      <td>...</td>\n",
       "      <td>...</td>\n",
       "      <td>...</td>\n",
       "      <td>...</td>\n",
       "      <td>...</td>\n",
       "      <td>...</td>\n",
       "      <td>...</td>\n",
       "      <td>...</td>\n",
       "      <td>...</td>\n",
       "      <td>...</td>\n",
       "      <td>...</td>\n",
       "      <td>...</td>\n",
       "    </tr>\n",
       "    <tr>\n",
       "      <th>69613</th>\n",
       "      <td>TRAFICO DE DROGAS</td>\n",
       "      <td>NaN</td>\n",
       "      <td>NaN</td>\n",
       "      <td>BELEM</td>\n",
       "      <td>CAMPINA</td>\n",
       "      <td>2023</td>\n",
       "      <td>SETEMBRO</td>\n",
       "      <td>01ª RISP</td>\n",
       "      <td>01ª AISP</td>\n",
       "      <td>2023-09-12</td>\n",
       "      <td>...</td>\n",
       "      <td>88888</td>\n",
       "      <td>PJ, EP E OUTROS</td>\n",
       "      <td>PJ, EP E OUTROS</td>\n",
       "      <td>PJ, EP E OUTROS</td>\n",
       "      <td>PJ, EP E OUTROS</td>\n",
       "      <td>PJ, EP E OUTROS</td>\n",
       "      <td>P</td>\n",
       "      <td>66666.0</td>\n",
       "      <td>PREJUDICADO</td>\n",
       "      <td>NaN</td>\n",
       "    </tr>\n",
       "    <tr>\n",
       "      <th>69614</th>\n",
       "      <td>TRAFICO DE DROGAS</td>\n",
       "      <td>NaN</td>\n",
       "      <td>NaN</td>\n",
       "      <td>BELEM</td>\n",
       "      <td>TAPANA</td>\n",
       "      <td>2023</td>\n",
       "      <td>SETEMBRO</td>\n",
       "      <td>01ª RISP</td>\n",
       "      <td>11ª AISP</td>\n",
       "      <td>2023-09-05</td>\n",
       "      <td>...</td>\n",
       "      <td>88888</td>\n",
       "      <td>PJ, EP E OUTROS</td>\n",
       "      <td>PJ, EP E OUTROS</td>\n",
       "      <td>PJ, EP E OUTROS</td>\n",
       "      <td>PJ, EP E OUTROS</td>\n",
       "      <td>PJ, EP E OUTROS</td>\n",
       "      <td>P</td>\n",
       "      <td>66666.0</td>\n",
       "      <td>PREJUDICADO</td>\n",
       "      <td>NaN</td>\n",
       "    </tr>\n",
       "    <tr>\n",
       "      <th>69615</th>\n",
       "      <td>ROUBO</td>\n",
       "      <td>EM RESIDENCIA/CELULAR/LEVE</td>\n",
       "      <td>ARMA DE FOGO</td>\n",
       "      <td>ANANINDEUA</td>\n",
       "      <td>CIDADE NOVA</td>\n",
       "      <td>2023</td>\n",
       "      <td>SETEMBRO</td>\n",
       "      <td>02ª RISP</td>\n",
       "      <td>18ª AISP</td>\n",
       "      <td>2023-09-01</td>\n",
       "      <td>...</td>\n",
       "      <td>62</td>\n",
       "      <td>ADULTO IV (35 A 64 ANOS)</td>\n",
       "      <td>PREJUDICADO</td>\n",
       "      <td>PREJUDICADO</td>\n",
       "      <td>ENSINO MEDIO COMPLETO</td>\n",
       "      <td>SOLTEIRO(A)</td>\n",
       "      <td>M</td>\n",
       "      <td>66666.0</td>\n",
       "      <td>PREJUDICADO</td>\n",
       "      <td>NaN</td>\n",
       "    </tr>\n",
       "    <tr>\n",
       "      <th>69616</th>\n",
       "      <td>TRAFICO DE DROGAS</td>\n",
       "      <td>NaN</td>\n",
       "      <td>NaN</td>\n",
       "      <td>ANANINDEUA</td>\n",
       "      <td>MAGUARI</td>\n",
       "      <td>2023</td>\n",
       "      <td>SETEMBRO</td>\n",
       "      <td>02ª RISP</td>\n",
       "      <td>20ª AISP</td>\n",
       "      <td>2023-09-05</td>\n",
       "      <td>...</td>\n",
       "      <td>88888</td>\n",
       "      <td>PJ, EP E OUTROS</td>\n",
       "      <td>PJ, EP E OUTROS</td>\n",
       "      <td>PJ, EP E OUTROS</td>\n",
       "      <td>PJ, EP E OUTROS</td>\n",
       "      <td>PJ, EP E OUTROS</td>\n",
       "      <td>P</td>\n",
       "      <td>66666.0</td>\n",
       "      <td>PREJUDICADO</td>\n",
       "      <td>NaN</td>\n",
       "    </tr>\n",
       "    <tr>\n",
       "      <th>69617</th>\n",
       "      <td>TRAFICO DE DROGAS</td>\n",
       "      <td>NaN</td>\n",
       "      <td>NaN</td>\n",
       "      <td>BELEM</td>\n",
       "      <td>PEDREIRA</td>\n",
       "      <td>2023</td>\n",
       "      <td>SETEMBRO</td>\n",
       "      <td>01ª RISP</td>\n",
       "      <td>08ª AISP</td>\n",
       "      <td>2023-09-12</td>\n",
       "      <td>...</td>\n",
       "      <td>88888</td>\n",
       "      <td>PJ, EP E OUTROS</td>\n",
       "      <td>PJ, EP E OUTROS</td>\n",
       "      <td>PJ, EP E OUTROS</td>\n",
       "      <td>PJ, EP E OUTROS</td>\n",
       "      <td>PJ, EP E OUTROS</td>\n",
       "      <td>P</td>\n",
       "      <td>66666.0</td>\n",
       "      <td>PREJUDICADO</td>\n",
       "      <td>NaN</td>\n",
       "    </tr>\n",
       "  </tbody>\n",
       "</table>\n",
       "<p>69618 rows × 30 columns</p>\n",
       "</div>"
      ],
      "text/plain": [
       "          CONSOLIDADO(S)         ESPECIFICAÇÃO CRIME MEIO EMPREGADO DEAC  \\\n",
       "0      TRAFICO DE DROGAS                         NaN                 NaN   \n",
       "1         LESAO CORPORAL                         NaN    VIOLENCIA FISICA   \n",
       "2                  FURTO                  HIDROMETRO     SEM INSTRUMENTO   \n",
       "3                  FURTO                  HIDROMETRO     SEM INSTRUMENTO   \n",
       "4      TRAFICO DE DROGAS                         NaN                 NaN   \n",
       "...                  ...                         ...                 ...   \n",
       "69613  TRAFICO DE DROGAS                         NaN                 NaN   \n",
       "69614  TRAFICO DE DROGAS                         NaN                 NaN   \n",
       "69615              ROUBO  EM RESIDENCIA/CELULAR/LEVE        ARMA DE FOGO   \n",
       "69616  TRAFICO DE DROGAS                         NaN                 NaN   \n",
       "69617  TRAFICO DE DROGAS                         NaN                 NaN   \n",
       "\n",
       "      MUNICÍPIO(S)     BAIRRO(S)  ANO DO FATO MÊS DO FATO      RISP      AISP  \\\n",
       "0            BELEM         GUAMA         2023     OUTUBRO  01ª RISP  05ª AISP   \n",
       "1            BELEM       CAMPINA         2023      AGOSTO  01ª RISP  01ª AISP   \n",
       "2            BELEM  MARACANGALHA         2023     OUTUBRO  01ª RISP  07ª AISP   \n",
       "3            BELEM      UMARIZAL         2023     OUTUBRO  01ª RISP  01ª AISP   \n",
       "4            BELEM        TAPANA         2023     OUTUBRO  01ª RISP  11ª AISP   \n",
       "...            ...           ...          ...         ...       ...       ...   \n",
       "69613        BELEM       CAMPINA         2023    SETEMBRO  01ª RISP  01ª AISP   \n",
       "69614        BELEM        TAPANA         2023    SETEMBRO  01ª RISP  11ª AISP   \n",
       "69615   ANANINDEUA   CIDADE NOVA         2023    SETEMBRO  02ª RISP  18ª AISP   \n",
       "69616   ANANINDEUA       MAGUARI         2023    SETEMBRO  02ª RISP  20ª AISP   \n",
       "69617        BELEM      PEDREIRA         2023    SETEMBRO  01ª RISP  08ª AISP   \n",
       "\n",
       "      DATA DO FATO  ... IDADE VÍTIMA       FAIXA ETÁRIA VÍTIMA  \\\n",
       "0       2023-10-19  ...        88888           PJ, EP E OUTROS   \n",
       "1       2023-08-30  ...           45  ADULTO IV (35 A 64 ANOS)   \n",
       "2       2023-10-30  ...        88888           PJ, EP E OUTROS   \n",
       "3       2023-10-28  ...        88888           PJ, EP E OUTROS   \n",
       "4       2023-10-19  ...        88888           PJ, EP E OUTROS   \n",
       "...            ...  ...          ...                       ...   \n",
       "69613   2023-09-12  ...        88888           PJ, EP E OUTROS   \n",
       "69614   2023-09-05  ...        88888           PJ, EP E OUTROS   \n",
       "69615   2023-09-01  ...           62  ADULTO IV (35 A 64 ANOS)   \n",
       "69616   2023-09-05  ...        88888           PJ, EP E OUTROS   \n",
       "69617   2023-09-12  ...        88888           PJ, EP E OUTROS   \n",
       "\n",
       "        TIPO DE VÍTIMA       COR VÍTIMA GRAU DE INSTRUÇÃO VÍTIMA  \\\n",
       "0      PJ, EP E OUTROS  PJ, EP E OUTROS          PJ, EP E OUTROS   \n",
       "1          PREJUDICADO      PREJUDICADO    ENSINO MEDIO COMPLETO   \n",
       "2      PJ, EP E OUTROS  PJ, EP E OUTROS          PJ, EP E OUTROS   \n",
       "3      PJ, EP E OUTROS  PJ, EP E OUTROS          PJ, EP E OUTROS   \n",
       "4      PJ, EP E OUTROS  PJ, EP E OUTROS          PJ, EP E OUTROS   \n",
       "...                ...              ...                      ...   \n",
       "69613  PJ, EP E OUTROS  PJ, EP E OUTROS          PJ, EP E OUTROS   \n",
       "69614  PJ, EP E OUTROS  PJ, EP E OUTROS          PJ, EP E OUTROS   \n",
       "69615      PREJUDICADO      PREJUDICADO    ENSINO MEDIO COMPLETO   \n",
       "69616  PJ, EP E OUTROS  PJ, EP E OUTROS          PJ, EP E OUTROS   \n",
       "69617  PJ, EP E OUTROS  PJ, EP E OUTROS          PJ, EP E OUTROS   \n",
       "\n",
       "      ESTADO CIVÍL VÍTIMA SEXO AUTOR IDADE AUTOR    COR AUTOR  \\\n",
       "0         PJ, EP E OUTROS          P     66666.0        PARDA   \n",
       "1             PREJUDICADO          M     66666.0  PREJUDICADO   \n",
       "2         PJ, EP E OUTROS          P     66666.0          NaN   \n",
       "3         PJ, EP E OUTROS          P     66666.0          NaN   \n",
       "4         PJ, EP E OUTROS          P     66666.0  PREJUDICADO   \n",
       "...                   ...        ...         ...          ...   \n",
       "69613     PJ, EP E OUTROS          P     66666.0  PREJUDICADO   \n",
       "69614     PJ, EP E OUTROS          P     66666.0  PREJUDICADO   \n",
       "69615         SOLTEIRO(A)          M     66666.0  PREJUDICADO   \n",
       "69616     PJ, EP E OUTROS          P     66666.0  PREJUDICADO   \n",
       "69617     PJ, EP E OUTROS          P     66666.0  PREJUDICADO   \n",
       "\n",
       "      GRAU DE RELACIONAMENTO  \n",
       "0                        NaN  \n",
       "1          EX-COMPANHEIRO(A)  \n",
       "2                        NaN  \n",
       "3                        NaN  \n",
       "4                        NaN  \n",
       "...                      ...  \n",
       "69613                    NaN  \n",
       "69614                    NaN  \n",
       "69615                    NaN  \n",
       "69616                    NaN  \n",
       "69617                    NaN  \n",
       "\n",
       "[69618 rows x 30 columns]"
      ]
     },
     "execution_count": 9,
     "metadata": {},
     "output_type": "execute_result"
    }
   ],
   "source": [
    "df= pd.read_excel(os.path.join('..', 'data', '20_08_24.xlsx'))\n",
    "df"
   ]
  },
  {
   "cell_type": "markdown",
   "metadata": {},
   "source": []
  },
  {
   "cell_type": "code",
   "execution_count": null,
   "metadata": {},
   "outputs": [],
   "source": [
    "#df[df['MUNICÍPIO(S)']=='BELEM'][df['CONSOLIDADO(S)']=='ROUBO']"
   ]
  },
  {
   "cell_type": "code",
   "execution_count": 10,
   "metadata": {},
   "outputs": [
    {
     "data": {
      "text/plain": [
       "CONSOLIDADO(S)\n",
       "MAUS TRATOS COM RESULTADO MORTE                  1\n",
       "LESAO CORPORAL SEGUIDA DE MORTE                 12\n",
       "LATROCINIO                                      12\n",
       "MORTE NO TRANSITO                               61\n",
       "HOMICIDIO NO TRANSITO                          156\n",
       "MORTE POR INTERVENCAO DE AGENTE DO ESTADO      195\n",
       "ESTUPRO                                        210\n",
       "HOMICIDIO                                      341\n",
       "ESTUPRO DE VULNERAVEL                          849\n",
       "TRAFICO DE DROGAS                             1446\n",
       "LESAO NO TRANSITO                             2739\n",
       "LESAO CORPORAL                                6674\n",
       "ROUBO                                        23871\n",
       "FURTO                                        33051\n",
       "dtype: int64"
      ]
     },
     "execution_count": 10,
     "metadata": {},
     "output_type": "execute_result"
    }
   ],
   "source": [
    "ab= df.groupby('CONSOLIDADO(S)')\n",
    "ab.size().sort_values()"
   ]
  },
  {
   "cell_type": "code",
   "execution_count": 11,
   "metadata": {},
   "outputs": [
    {
     "data": {
      "text/plain": [
       "GRAU DE RELACIONAMENTO\n",
       "DOCENTE                       1\n",
       "GENRO                         1\n",
       "MAE                           1\n",
       "TIO                           1\n",
       "PROFESSOR(A)                  2\n",
       "CUNHADO(A)                    2\n",
       "EX-NAMORADO(A)                4\n",
       "COMPANHEIRO(A)                5\n",
       "EX-COMPANHEIRO(A)             5\n",
       "IRMAO(A)                     10\n",
       "AMIGO(A)                     11\n",
       "PRIMO(A)                     20\n",
       "PARENTESCO POR AFINIDADE     20\n",
       "EX-PADRASTO                  23\n",
       "NAMORADO(A)                  24\n",
       "VIZINHO(A)                   26\n",
       "DESCONHECIDO(A)              30\n",
       "AVO                          52\n",
       "CONHECIDO(A)                 52\n",
       "TIO(A)                       64\n",
       "PAI                          83\n",
       "PADRASTO                    110\n",
       "PREJUDICADO                 169\n",
       "dtype: int64"
      ]
     },
     "execution_count": 11,
     "metadata": {},
     "output_type": "execute_result"
    }
   ],
   "source": [
    "df[df['CONSOLIDADO(S)']=='ESTUPRO DE VULNERAVEL'].groupby('GRAU DE RELACIONAMENTO').size().sort_values()"
   ]
  },
  {
   "cell_type": "code",
   "execution_count": 112,
   "metadata": {},
   "outputs": [
    {
     "data": {
      "text/html": [
       "<div>\n",
       "<style scoped>\n",
       "    .dataframe tbody tr th:only-of-type {\n",
       "        vertical-align: middle;\n",
       "    }\n",
       "\n",
       "    .dataframe tbody tr th {\n",
       "        vertical-align: top;\n",
       "    }\n",
       "\n",
       "    .dataframe thead th {\n",
       "        text-align: right;\n",
       "    }\n",
       "</style>\n",
       "<table border=\"1\" class=\"dataframe\">\n",
       "  <thead>\n",
       "    <tr style=\"text-align: right;\">\n",
       "      <th></th>\n",
       "      <th>CONSOLIDADO(S)</th>\n",
       "      <th>ESPECIFICAÇÃO CRIME</th>\n",
       "      <th>MEIO EMPREGADO DEAC</th>\n",
       "      <th>MUNICÍPIO(S)</th>\n",
       "      <th>BAIRRO(S)</th>\n",
       "      <th>ANO DO FATO</th>\n",
       "      <th>MÊS DO FATO</th>\n",
       "      <th>RISP</th>\n",
       "      <th>AISP</th>\n",
       "      <th>DATA DO FATO</th>\n",
       "      <th>...</th>\n",
       "      <th>IDADE VÍTIMA</th>\n",
       "      <th>FAIXA ETÁRIA VÍTIMA</th>\n",
       "      <th>TIPO DE VÍTIMA</th>\n",
       "      <th>COR VÍTIMA</th>\n",
       "      <th>GRAU DE INSTRUÇÃO VÍTIMA</th>\n",
       "      <th>ESTADO CIVÍL VÍTIMA</th>\n",
       "      <th>SEXO AUTOR</th>\n",
       "      <th>IDADE AUTOR</th>\n",
       "      <th>COR AUTOR</th>\n",
       "      <th>GRAU DE RELACIONAMENTO</th>\n",
       "    </tr>\n",
       "  </thead>\n",
       "  <tbody>\n",
       "    <tr>\n",
       "      <th>1056</th>\n",
       "      <td>ESTUPRO</td>\n",
       "      <td>NaN</td>\n",
       "      <td>NaN</td>\n",
       "      <td>BELEM</td>\n",
       "      <td>GUAMA</td>\n",
       "      <td>2024</td>\n",
       "      <td>MAIO</td>\n",
       "      <td>01ª RISP</td>\n",
       "      <td>05ª AISP</td>\n",
       "      <td>2024-05-12</td>\n",
       "      <td>...</td>\n",
       "      <td>52</td>\n",
       "      <td>ADULTO IV (35 A 64 ANOS)</td>\n",
       "      <td>PREJUDICADO</td>\n",
       "      <td>PREJUDICADO</td>\n",
       "      <td>ENSINO FUNDAMENTAL INCOMPLETO</td>\n",
       "      <td>SOLTEIRO(A)</td>\n",
       "      <td>M</td>\n",
       "      <td>57.0</td>\n",
       "      <td>PREJUDICADO</td>\n",
       "      <td>EX-COMPANHEIRO(A)</td>\n",
       "    </tr>\n",
       "    <tr>\n",
       "      <th>1872</th>\n",
       "      <td>ESTUPRO</td>\n",
       "      <td>NaN</td>\n",
       "      <td>NaN</td>\n",
       "      <td>BELEM</td>\n",
       "      <td>CONDOR</td>\n",
       "      <td>2024</td>\n",
       "      <td>JUNHO</td>\n",
       "      <td>01ª RISP</td>\n",
       "      <td>03ª AISP</td>\n",
       "      <td>2024-03-06</td>\n",
       "      <td>...</td>\n",
       "      <td>19</td>\n",
       "      <td>ADULTO I (18 A 24 ANOS)</td>\n",
       "      <td>PREJUDICADO</td>\n",
       "      <td>PREJUDICADO</td>\n",
       "      <td>ENSINO MEDIO COMPLETO</td>\n",
       "      <td>SOLTEIRO(A)</td>\n",
       "      <td>M</td>\n",
       "      <td>66666.0</td>\n",
       "      <td>PREJUDICADO</td>\n",
       "      <td>VIZINHO(A)</td>\n",
       "    </tr>\n",
       "    <tr>\n",
       "      <th>3149</th>\n",
       "      <td>ESTUPRO</td>\n",
       "      <td>NaN</td>\n",
       "      <td>NaN</td>\n",
       "      <td>BELEM</td>\n",
       "      <td>MARACACUERA</td>\n",
       "      <td>2024</td>\n",
       "      <td>JUNHO</td>\n",
       "      <td>01ª RISP</td>\n",
       "      <td>12ª AISP</td>\n",
       "      <td>2024-06-06</td>\n",
       "      <td>...</td>\n",
       "      <td>14</td>\n",
       "      <td>ADOLESCENTE (12 A 17 ANOS)</td>\n",
       "      <td>MENOR</td>\n",
       "      <td>PREJUDICADO</td>\n",
       "      <td>ENSINO FUNDAMENTAL COMPLETO</td>\n",
       "      <td>SOLTEIRO(A)</td>\n",
       "      <td>M</td>\n",
       "      <td>18.0</td>\n",
       "      <td>PREJUDICADO</td>\n",
       "      <td>DESCONHECIDO(A)</td>\n",
       "    </tr>\n",
       "    <tr>\n",
       "      <th>3747</th>\n",
       "      <td>ESTUPRO</td>\n",
       "      <td>VIOLENCIA DOMESTICA</td>\n",
       "      <td>NaN</td>\n",
       "      <td>BELEM</td>\n",
       "      <td>TAPANA</td>\n",
       "      <td>2024</td>\n",
       "      <td>JUNHO</td>\n",
       "      <td>01ª RISP</td>\n",
       "      <td>11ª AISP</td>\n",
       "      <td>2024-06-06</td>\n",
       "      <td>...</td>\n",
       "      <td>14</td>\n",
       "      <td>ADOLESCENTE (12 A 17 ANOS)</td>\n",
       "      <td>MENOR</td>\n",
       "      <td>PREJUDICADO</td>\n",
       "      <td>ENSINO FUNDAMENTAL INCOMPLETO</td>\n",
       "      <td>SOLTEIRO(A)</td>\n",
       "      <td>M</td>\n",
       "      <td>30.0</td>\n",
       "      <td>PARDA</td>\n",
       "      <td>TIO(A)</td>\n",
       "    </tr>\n",
       "    <tr>\n",
       "      <th>3794</th>\n",
       "      <td>ESTUPRO</td>\n",
       "      <td>VIOLENCIA DOMESTICA</td>\n",
       "      <td>NaN</td>\n",
       "      <td>BELEM</td>\n",
       "      <td>FATIMA</td>\n",
       "      <td>2024</td>\n",
       "      <td>JUNHO</td>\n",
       "      <td>01ª RISP</td>\n",
       "      <td>02ª AISP</td>\n",
       "      <td>2024-06-03</td>\n",
       "      <td>...</td>\n",
       "      <td>28</td>\n",
       "      <td>ADULTO II (25 A 29 ANOS)</td>\n",
       "      <td>PREJUDICADO</td>\n",
       "      <td>PREJUDICADO</td>\n",
       "      <td>ENSINO MEDIO COMPLETO</td>\n",
       "      <td>CASADO(A)</td>\n",
       "      <td>M</td>\n",
       "      <td>27.0</td>\n",
       "      <td>PREJUDICADO</td>\n",
       "      <td>COMPANHEIRO(A)</td>\n",
       "    </tr>\n",
       "    <tr>\n",
       "      <th>...</th>\n",
       "      <td>...</td>\n",
       "      <td>...</td>\n",
       "      <td>...</td>\n",
       "      <td>...</td>\n",
       "      <td>...</td>\n",
       "      <td>...</td>\n",
       "      <td>...</td>\n",
       "      <td>...</td>\n",
       "      <td>...</td>\n",
       "      <td>...</td>\n",
       "      <td>...</td>\n",
       "      <td>...</td>\n",
       "      <td>...</td>\n",
       "      <td>...</td>\n",
       "      <td>...</td>\n",
       "      <td>...</td>\n",
       "      <td>...</td>\n",
       "      <td>...</td>\n",
       "      <td>...</td>\n",
       "      <td>...</td>\n",
       "      <td>...</td>\n",
       "    </tr>\n",
       "    <tr>\n",
       "      <th>68573</th>\n",
       "      <td>ESTUPRO DE VULNERAVEL</td>\n",
       "      <td>MENOR/VIOLENCIA DOMESTICA</td>\n",
       "      <td>NaN</td>\n",
       "      <td>ANANINDEUA</td>\n",
       "      <td>QUARENTA HORAS</td>\n",
       "      <td>2024</td>\n",
       "      <td>MAIO</td>\n",
       "      <td>02ª RISP</td>\n",
       "      <td>18ª AISP</td>\n",
       "      <td>2024-05-17</td>\n",
       "      <td>...</td>\n",
       "      <td>12</td>\n",
       "      <td>ADOLESCENTE (12 A 17 ANOS)</td>\n",
       "      <td>MENOR</td>\n",
       "      <td>PREJUDICADO</td>\n",
       "      <td>ENSINO FUNDAMENTAL INCOMPLETO</td>\n",
       "      <td>SOLTEIRO(A)</td>\n",
       "      <td>M</td>\n",
       "      <td>63.0</td>\n",
       "      <td>PREJUDICADO</td>\n",
       "      <td>PARENTESCO POR AFINIDADE</td>\n",
       "    </tr>\n",
       "    <tr>\n",
       "      <th>69370</th>\n",
       "      <td>ESTUPRO DE VULNERAVEL</td>\n",
       "      <td>MENOR/VIOLENCIA DOMESTICA</td>\n",
       "      <td>NaN</td>\n",
       "      <td>ANANINDEUA</td>\n",
       "      <td>QUARENTA HORAS</td>\n",
       "      <td>2024</td>\n",
       "      <td>MAIO</td>\n",
       "      <td>02ª RISP</td>\n",
       "      <td>18ª AISP</td>\n",
       "      <td>2024-05-18</td>\n",
       "      <td>...</td>\n",
       "      <td>9</td>\n",
       "      <td>CRIANCA (0 A 11 ANOS)</td>\n",
       "      <td>MENOR</td>\n",
       "      <td>PREJUDICADO</td>\n",
       "      <td>ENSINO FUNDAMENTAL INCOMPLETO</td>\n",
       "      <td>SOLTEIRO(A)</td>\n",
       "      <td>M</td>\n",
       "      <td>66666.0</td>\n",
       "      <td>PREJUDICADO</td>\n",
       "      <td>AVO</td>\n",
       "    </tr>\n",
       "    <tr>\n",
       "      <th>69465</th>\n",
       "      <td>ESTUPRO DE VULNERAVEL</td>\n",
       "      <td>MENOR</td>\n",
       "      <td>NaN</td>\n",
       "      <td>BELEM</td>\n",
       "      <td>TENONE</td>\n",
       "      <td>2024</td>\n",
       "      <td>MAIO</td>\n",
       "      <td>01ª RISP</td>\n",
       "      <td>13ª AISP</td>\n",
       "      <td>2024-05-24</td>\n",
       "      <td>...</td>\n",
       "      <td>11</td>\n",
       "      <td>CRIANCA (0 A 11 ANOS)</td>\n",
       "      <td>MENOR</td>\n",
       "      <td>PREJUDICADO</td>\n",
       "      <td>ENSINO FUNDAMENTAL INCOMPLETO</td>\n",
       "      <td>SOLTEIRO(A)</td>\n",
       "      <td>M</td>\n",
       "      <td>66666.0</td>\n",
       "      <td>PREJUDICADO</td>\n",
       "      <td>CONHECIDO(A)</td>\n",
       "    </tr>\n",
       "    <tr>\n",
       "      <th>69475</th>\n",
       "      <td>ESTUPRO DE VULNERAVEL</td>\n",
       "      <td>MENOR/VIOLENCIA DOMESTICA/ERA DO FATO</td>\n",
       "      <td>NaN</td>\n",
       "      <td>BELEM</td>\n",
       "      <td>MANGUEIRAO</td>\n",
       "      <td>2024</td>\n",
       "      <td>MAIO</td>\n",
       "      <td>01ª RISP</td>\n",
       "      <td>10ª AISP</td>\n",
       "      <td>2024-05-25</td>\n",
       "      <td>...</td>\n",
       "      <td>20</td>\n",
       "      <td>ADULTO I (18 A 24 ANOS)</td>\n",
       "      <td>PREJUDICADO</td>\n",
       "      <td>PREJUDICADO</td>\n",
       "      <td>ENSINO MEDIO COMPLETO</td>\n",
       "      <td>UNIAO ESTAVEL</td>\n",
       "      <td>M</td>\n",
       "      <td>47.0</td>\n",
       "      <td>PREJUDICADO</td>\n",
       "      <td>PADRASTO</td>\n",
       "    </tr>\n",
       "    <tr>\n",
       "      <th>69487</th>\n",
       "      <td>ESTUPRO DE VULNERAVEL</td>\n",
       "      <td>MENOR</td>\n",
       "      <td>NaN</td>\n",
       "      <td>MARITUBA</td>\n",
       "      <td>CENTRO DE MARITUBA</td>\n",
       "      <td>2024</td>\n",
       "      <td>MAIO</td>\n",
       "      <td>02ª RISP</td>\n",
       "      <td>22ª AISP</td>\n",
       "      <td>2024-05-25</td>\n",
       "      <td>...</td>\n",
       "      <td>24</td>\n",
       "      <td>ADULTO I (18 A 24 ANOS)</td>\n",
       "      <td>PREJUDICADO</td>\n",
       "      <td>PREJUDICADO</td>\n",
       "      <td>PREJUDICADO</td>\n",
       "      <td>PREJUDICADO</td>\n",
       "      <td>M</td>\n",
       "      <td>66666.0</td>\n",
       "      <td>PREJUDICADO</td>\n",
       "      <td>NAMORADO(A)</td>\n",
       "    </tr>\n",
       "  </tbody>\n",
       "</table>\n",
       "<p>643 rows × 30 columns</p>\n",
       "</div>"
      ],
      "text/plain": [
       "              CONSOLIDADO(S)                    ESPECIFICAÇÃO CRIME  \\\n",
       "1056                 ESTUPRO                                    NaN   \n",
       "1872                 ESTUPRO                                    NaN   \n",
       "3149                 ESTUPRO                                    NaN   \n",
       "3747                 ESTUPRO                    VIOLENCIA DOMESTICA   \n",
       "3794                 ESTUPRO                    VIOLENCIA DOMESTICA   \n",
       "...                      ...                                    ...   \n",
       "68573  ESTUPRO DE VULNERAVEL              MENOR/VIOLENCIA DOMESTICA   \n",
       "69370  ESTUPRO DE VULNERAVEL              MENOR/VIOLENCIA DOMESTICA   \n",
       "69465  ESTUPRO DE VULNERAVEL                                  MENOR   \n",
       "69475  ESTUPRO DE VULNERAVEL  MENOR/VIOLENCIA DOMESTICA/ERA DO FATO   \n",
       "69487  ESTUPRO DE VULNERAVEL                                  MENOR   \n",
       "\n",
       "      MEIO EMPREGADO DEAC MUNICÍPIO(S)           BAIRRO(S)  ANO DO FATO  \\\n",
       "1056                  NaN        BELEM               GUAMA         2024   \n",
       "1872                  NaN        BELEM              CONDOR         2024   \n",
       "3149                  NaN        BELEM         MARACACUERA         2024   \n",
       "3747                  NaN        BELEM              TAPANA         2024   \n",
       "3794                  NaN        BELEM              FATIMA         2024   \n",
       "...                   ...          ...                 ...          ...   \n",
       "68573                 NaN   ANANINDEUA      QUARENTA HORAS         2024   \n",
       "69370                 NaN   ANANINDEUA      QUARENTA HORAS         2024   \n",
       "69465                 NaN        BELEM              TENONE         2024   \n",
       "69475                 NaN        BELEM          MANGUEIRAO         2024   \n",
       "69487                 NaN     MARITUBA  CENTRO DE MARITUBA         2024   \n",
       "\n",
       "      MÊS DO FATO      RISP      AISP DATA DO FATO  ... IDADE VÍTIMA  \\\n",
       "1056         MAIO  01ª RISP  05ª AISP   2024-05-12  ...           52   \n",
       "1872        JUNHO  01ª RISP  03ª AISP   2024-03-06  ...           19   \n",
       "3149        JUNHO  01ª RISP  12ª AISP   2024-06-06  ...           14   \n",
       "3747        JUNHO  01ª RISP  11ª AISP   2024-06-06  ...           14   \n",
       "3794        JUNHO  01ª RISP  02ª AISP   2024-06-03  ...           28   \n",
       "...           ...       ...       ...          ...  ...          ...   \n",
       "68573        MAIO  02ª RISP  18ª AISP   2024-05-17  ...           12   \n",
       "69370        MAIO  02ª RISP  18ª AISP   2024-05-18  ...            9   \n",
       "69465        MAIO  01ª RISP  13ª AISP   2024-05-24  ...           11   \n",
       "69475        MAIO  01ª RISP  10ª AISP   2024-05-25  ...           20   \n",
       "69487        MAIO  02ª RISP  22ª AISP   2024-05-25  ...           24   \n",
       "\n",
       "              FAIXA ETÁRIA VÍTIMA TIPO DE VÍTIMA   COR VÍTIMA  \\\n",
       "1056     ADULTO IV (35 A 64 ANOS)    PREJUDICADO  PREJUDICADO   \n",
       "1872      ADULTO I (18 A 24 ANOS)    PREJUDICADO  PREJUDICADO   \n",
       "3149   ADOLESCENTE (12 A 17 ANOS)          MENOR  PREJUDICADO   \n",
       "3747   ADOLESCENTE (12 A 17 ANOS)          MENOR  PREJUDICADO   \n",
       "3794     ADULTO II (25 A 29 ANOS)    PREJUDICADO  PREJUDICADO   \n",
       "...                           ...            ...          ...   \n",
       "68573  ADOLESCENTE (12 A 17 ANOS)          MENOR  PREJUDICADO   \n",
       "69370       CRIANCA (0 A 11 ANOS)          MENOR  PREJUDICADO   \n",
       "69465       CRIANCA (0 A 11 ANOS)          MENOR  PREJUDICADO   \n",
       "69475     ADULTO I (18 A 24 ANOS)    PREJUDICADO  PREJUDICADO   \n",
       "69487     ADULTO I (18 A 24 ANOS)    PREJUDICADO  PREJUDICADO   \n",
       "\n",
       "            GRAU DE INSTRUÇÃO VÍTIMA ESTADO CIVÍL VÍTIMA SEXO AUTOR  \\\n",
       "1056   ENSINO FUNDAMENTAL INCOMPLETO         SOLTEIRO(A)          M   \n",
       "1872           ENSINO MEDIO COMPLETO         SOLTEIRO(A)          M   \n",
       "3149     ENSINO FUNDAMENTAL COMPLETO         SOLTEIRO(A)          M   \n",
       "3747   ENSINO FUNDAMENTAL INCOMPLETO         SOLTEIRO(A)          M   \n",
       "3794           ENSINO MEDIO COMPLETO           CASADO(A)          M   \n",
       "...                              ...                 ...        ...   \n",
       "68573  ENSINO FUNDAMENTAL INCOMPLETO         SOLTEIRO(A)          M   \n",
       "69370  ENSINO FUNDAMENTAL INCOMPLETO         SOLTEIRO(A)          M   \n",
       "69465  ENSINO FUNDAMENTAL INCOMPLETO         SOLTEIRO(A)          M   \n",
       "69475          ENSINO MEDIO COMPLETO       UNIAO ESTAVEL          M   \n",
       "69487                    PREJUDICADO         PREJUDICADO          M   \n",
       "\n",
       "      IDADE AUTOR    COR AUTOR    GRAU DE RELACIONAMENTO  \n",
       "1056         57.0  PREJUDICADO         EX-COMPANHEIRO(A)  \n",
       "1872      66666.0  PREJUDICADO                VIZINHO(A)  \n",
       "3149         18.0  PREJUDICADO           DESCONHECIDO(A)  \n",
       "3747         30.0        PARDA                    TIO(A)  \n",
       "3794         27.0  PREJUDICADO            COMPANHEIRO(A)  \n",
       "...           ...          ...                       ...  \n",
       "68573        63.0  PREJUDICADO  PARENTESCO POR AFINIDADE  \n",
       "69370     66666.0  PREJUDICADO                       AVO  \n",
       "69465     66666.0  PREJUDICADO              CONHECIDO(A)  \n",
       "69475        47.0  PREJUDICADO                  PADRASTO  \n",
       "69487     66666.0  PREJUDICADO               NAMORADO(A)  \n",
       "\n",
       "[643 rows x 30 columns]"
      ]
     },
     "execution_count": 112,
     "metadata": {},
     "output_type": "execute_result"
    }
   ],
   "source": [
    "df_vulneravel= df[df['CONSOLIDADO(S)']=='ESTUPRO']\n",
    "df_vulneravel= pd.concat([df_vulneravel, df[df['CONSOLIDADO(S)']=='ESTUPRO DE VULNERAVEL']]).dropna(subset='GRAU DE RELACIONAMENTO')\n",
    "#[df['GRAU DE RELACIONAMENTO'].isin(['PADRASTO', 'PAI', 'TIO(A)', 'AVO', 'VIZINHO(A)'])]\n",
    "\n",
    "df_vulneravel= df_vulneravel[df_vulneravel['GRAU DE RELACIONAMENTO']!='PREJUDICADO']\n",
    "df_vulneravel= df_vulneravel[df_vulneravel['FAIXA ETÁRIA VÍTIMA']!='PREJUDICADO']\n",
    "df_vulneravel"
   ]
  },
  {
   "cell_type": "code",
   "execution_count": 196,
   "metadata": {},
   "outputs": [
    {
     "data": {
      "application/vnd.plotly.v1+json": {
       "config": {
        "plotlyServerURL": "https://plot.ly"
       },
       "data": [
        {
         "branchvalues": "total",
         "domain": {
          "x": [
           0,
           1
          ],
          "y": [
           0,
           1
          ]
         },
         "hovertemplate": "<b>%{label}</b><br>Contagem de casos: %{value} <extra></extra>",
         "ids": [
          "ADOLESCENTE (12 A 17 ANOS)/AMIGO(A)",
          "ADULTO I (18 A 24 ANOS)/AMIGO(A)",
          "ADULTO IV (35 A 64 ANOS)/AMIGO(A)",
          "CRIANCA (0 A 11 ANOS)/AMIGO(A)",
          "ADOLESCENTE (12 A 17 ANOS)/AVO",
          "CRIANCA (0 A 11 ANOS)/AVO",
          "ADOLESCENTE (12 A 17 ANOS)/COMPANHEIRO(A)",
          "ADULTO I (18 A 24 ANOS)/COMPANHEIRO(A)",
          "ADULTO II (25 A 29 ANOS)/COMPANHEIRO(A)",
          "ADULTO III (30 A 34 ANOS)/COMPANHEIRO(A)",
          "ADULTO IV (35 A 64 ANOS)/COMPANHEIRO(A)",
          "ADOLESCENTE (12 A 17 ANOS)/CONHECIDO(A)",
          "ADULTO I (18 A 24 ANOS)/CONHECIDO(A)",
          "ADULTO III (30 A 34 ANOS)/CONHECIDO(A)",
          "ADULTO IV (35 A 64 ANOS)/CONHECIDO(A)",
          "CRIANCA (0 A 11 ANOS)/CONHECIDO(A)",
          "ADOLESCENTE (12 A 17 ANOS)/CUNHADO(A)",
          "ADULTO III (30 A 34 ANOS)/CUNHADO(A)",
          "ADOLESCENTE (12 A 17 ANOS)/DESCONHECIDO(A)",
          "ADULTO I (18 A 24 ANOS)/DESCONHECIDO(A)",
          "ADULTO IV (35 A 64 ANOS)/DESCONHECIDO(A)",
          "CRIANCA (0 A 11 ANOS)/DESCONHECIDO(A)",
          "IDOSO (65 ANOS OU MAIS)/DESCONHECIDO(A)",
          "ADOLESCENTE (12 A 17 ANOS)/DOCENTE",
          "ADOLESCENTE (12 A 17 ANOS)/EX-COMPANHEIRO(A)",
          "ADULTO I (18 A 24 ANOS)/EX-COMPANHEIRO(A)",
          "ADULTO II (25 A 29 ANOS)/EX-COMPANHEIRO(A)",
          "ADULTO III (30 A 34 ANOS)/EX-COMPANHEIRO(A)",
          "ADULTO IV (35 A 64 ANOS)/EX-COMPANHEIRO(A)",
          "ADOLESCENTE (12 A 17 ANOS)/EX-NAMORADO(A)",
          "ADULTO I (18 A 24 ANOS)/EX-NAMORADO(A)",
          "ADULTO III (30 A 34 ANOS)/EX-NAMORADO(A)",
          "ADULTO IV (35 A 64 ANOS)/EX-NAMORADO(A)",
          "ADOLESCENTE (12 A 17 ANOS)/EX-PADRASTO",
          "ADULTO I (18 A 24 ANOS)/EX-PADRASTO",
          "ADULTO III (30 A 34 ANOS)/EX-PADRASTO",
          "CRIANCA (0 A 11 ANOS)/EX-PADRASTO",
          "ADULTO IV (35 A 64 ANOS)/GENRO",
          "ADOLESCENTE (12 A 17 ANOS)/IRMAO(A)",
          "ADULTO I (18 A 24 ANOS)/IRMAO(A)",
          "ADULTO II (25 A 29 ANOS)/IRMAO(A)",
          "ADULTO IV (35 A 64 ANOS)/IRMAO(A)",
          "CRIANCA (0 A 11 ANOS)/IRMAO(A)",
          "CRIANCA (0 A 11 ANOS)/MAE",
          "ADOLESCENTE (12 A 17 ANOS)/NAMORADO(A)",
          "ADULTO I (18 A 24 ANOS)/NAMORADO(A)",
          "ADULTO II (25 A 29 ANOS)/NAMORADO(A)",
          "ADULTO III (30 A 34 ANOS)/NAMORADO(A)",
          "CRIANCA (0 A 11 ANOS)/NAMORADO(A)",
          "ADOLESCENTE (12 A 17 ANOS)/PADRASTO",
          "ADULTO I (18 A 24 ANOS)/PADRASTO",
          "ADULTO II (25 A 29 ANOS)/PADRASTO",
          "ADULTO III (30 A 34 ANOS)/PADRASTO",
          "ADULTO IV (35 A 64 ANOS)/PADRASTO",
          "CRIANCA (0 A 11 ANOS)/PADRASTO",
          "ADOLESCENTE (12 A 17 ANOS)/PAI",
          "ADULTO I (18 A 24 ANOS)/PAI",
          "ADULTO II (25 A 29 ANOS)/PAI",
          "ADULTO IV (35 A 64 ANOS)/PAI",
          "CRIANCA (0 A 11 ANOS)/PAI",
          "ADOLESCENTE (12 A 17 ANOS)/PARENTESCO POR AFINIDADE",
          "ADULTO IV (35 A 64 ANOS)/PARENTESCO POR AFINIDADE",
          "CRIANCA (0 A 11 ANOS)/PARENTESCO POR AFINIDADE",
          "ADOLESCENTE (12 A 17 ANOS)/PRIMO(A)",
          "ADULTO I (18 A 24 ANOS)/PRIMO(A)",
          "ADULTO II (25 A 29 ANOS)/PRIMO(A)",
          "CRIANCA (0 A 11 ANOS)/PRIMO(A)",
          "ADOLESCENTE (12 A 17 ANOS)/PROFESSOR(A)",
          "CRIANCA (0 A 11 ANOS)/PROFESSOR(A)",
          "ADULTO IV (35 A 64 ANOS)/SOBRINHO(A)",
          "ADULTO I (18 A 24 ANOS)/SUPERIOR HIERARQUICO",
          "ADOLESCENTE (12 A 17 ANOS)/TIO",
          "CRIANCA (0 A 11 ANOS)/TIO",
          "ADOLESCENTE (12 A 17 ANOS)/TIO(A)",
          "ADULTO I (18 A 24 ANOS)/TIO(A)",
          "ADULTO II (25 A 29 ANOS)/TIO(A)",
          "CRIANCA (0 A 11 ANOS)/TIO(A)",
          "ADOLESCENTE (12 A 17 ANOS)/VIZINHO(A)",
          "ADULTO I (18 A 24 ANOS)/VIZINHO(A)",
          "CRIANCA (0 A 11 ANOS)/VIZINHO(A)",
          "ADOLESCENTE (12 A 17 ANOS)",
          "ADULTO I (18 A 24 ANOS)",
          "ADULTO II (25 A 29 ANOS)",
          "ADULTO III (30 A 34 ANOS)",
          "ADULTO IV (35 A 64 ANOS)",
          "CRIANCA (0 A 11 ANOS)",
          "IDOSO (65 ANOS OU MAIS)"
         ],
         "labels": [
          "AMIGO(A)",
          "AMIGO(A)",
          "AMIGO(A)",
          "AMIGO(A)",
          "AVO",
          "AVO",
          "COMPANHEIRO(A)",
          "COMPANHEIRO(A)",
          "COMPANHEIRO(A)",
          "COMPANHEIRO(A)",
          "COMPANHEIRO(A)",
          "CONHECIDO(A)",
          "CONHECIDO(A)",
          "CONHECIDO(A)",
          "CONHECIDO(A)",
          "CONHECIDO(A)",
          "CUNHADO(A)",
          "CUNHADO(A)",
          "DESCONHECIDO(A)",
          "DESCONHECIDO(A)",
          "DESCONHECIDO(A)",
          "DESCONHECIDO(A)",
          "DESCONHECIDO(A)",
          "DOCENTE",
          "EX-COMPANHEIRO(A)",
          "EX-COMPANHEIRO(A)",
          "EX-COMPANHEIRO(A)",
          "EX-COMPANHEIRO(A)",
          "EX-COMPANHEIRO(A)",
          "EX-NAMORADO(A)",
          "EX-NAMORADO(A)",
          "EX-NAMORADO(A)",
          "EX-NAMORADO(A)",
          "EX-PADRASTO",
          "EX-PADRASTO",
          "EX-PADRASTO",
          "EX-PADRASTO",
          "GENRO",
          "IRMAO(A)",
          "IRMAO(A)",
          "IRMAO(A)",
          "IRMAO(A)",
          "IRMAO(A)",
          "MAE",
          "NAMORADO(A)",
          "NAMORADO(A)",
          "NAMORADO(A)",
          "NAMORADO(A)",
          "NAMORADO(A)",
          "PADRASTO",
          "PADRASTO",
          "PADRASTO",
          "PADRASTO",
          "PADRASTO",
          "PADRASTO",
          "PAI",
          "PAI",
          "PAI",
          "PAI",
          "PAI",
          "PARENTESCO POR AFINIDADE",
          "PARENTESCO POR AFINIDADE",
          "PARENTESCO POR AFINIDADE",
          "PRIMO(A)",
          "PRIMO(A)",
          "PRIMO(A)",
          "PRIMO(A)",
          "PROFESSOR(A)",
          "PROFESSOR(A)",
          "SOBRINHO(A)",
          "SUPERIOR HIERARQUICO",
          "TIO",
          "TIO",
          "TIO(A)",
          "TIO(A)",
          "TIO(A)",
          "TIO(A)",
          "VIZINHO(A)",
          "VIZINHO(A)",
          "VIZINHO(A)",
          "ADOLESCENTE (12 A 17 ANOS)",
          "ADULTO I (18 A 24 ANOS)",
          "ADULTO II (25 A 29 ANOS)",
          "ADULTO III (30 A 34 ANOS)",
          "ADULTO IV (35 A 64 ANOS)",
          "CRIANCA (0 A 11 ANOS)",
          "IDOSO (65 ANOS OU MAIS)"
         ],
         "name": "",
         "parents": [
          "ADOLESCENTE (12 A 17 ANOS)",
          "ADULTO I (18 A 24 ANOS)",
          "ADULTO IV (35 A 64 ANOS)",
          "CRIANCA (0 A 11 ANOS)",
          "ADOLESCENTE (12 A 17 ANOS)",
          "CRIANCA (0 A 11 ANOS)",
          "ADOLESCENTE (12 A 17 ANOS)",
          "ADULTO I (18 A 24 ANOS)",
          "ADULTO II (25 A 29 ANOS)",
          "ADULTO III (30 A 34 ANOS)",
          "ADULTO IV (35 A 64 ANOS)",
          "ADOLESCENTE (12 A 17 ANOS)",
          "ADULTO I (18 A 24 ANOS)",
          "ADULTO III (30 A 34 ANOS)",
          "ADULTO IV (35 A 64 ANOS)",
          "CRIANCA (0 A 11 ANOS)",
          "ADOLESCENTE (12 A 17 ANOS)",
          "ADULTO III (30 A 34 ANOS)",
          "ADOLESCENTE (12 A 17 ANOS)",
          "ADULTO I (18 A 24 ANOS)",
          "ADULTO IV (35 A 64 ANOS)",
          "CRIANCA (0 A 11 ANOS)",
          "IDOSO (65 ANOS OU MAIS)",
          "ADOLESCENTE (12 A 17 ANOS)",
          "ADOLESCENTE (12 A 17 ANOS)",
          "ADULTO I (18 A 24 ANOS)",
          "ADULTO II (25 A 29 ANOS)",
          "ADULTO III (30 A 34 ANOS)",
          "ADULTO IV (35 A 64 ANOS)",
          "ADOLESCENTE (12 A 17 ANOS)",
          "ADULTO I (18 A 24 ANOS)",
          "ADULTO III (30 A 34 ANOS)",
          "ADULTO IV (35 A 64 ANOS)",
          "ADOLESCENTE (12 A 17 ANOS)",
          "ADULTO I (18 A 24 ANOS)",
          "ADULTO III (30 A 34 ANOS)",
          "CRIANCA (0 A 11 ANOS)",
          "ADULTO IV (35 A 64 ANOS)",
          "ADOLESCENTE (12 A 17 ANOS)",
          "ADULTO I (18 A 24 ANOS)",
          "ADULTO II (25 A 29 ANOS)",
          "ADULTO IV (35 A 64 ANOS)",
          "CRIANCA (0 A 11 ANOS)",
          "CRIANCA (0 A 11 ANOS)",
          "ADOLESCENTE (12 A 17 ANOS)",
          "ADULTO I (18 A 24 ANOS)",
          "ADULTO II (25 A 29 ANOS)",
          "ADULTO III (30 A 34 ANOS)",
          "CRIANCA (0 A 11 ANOS)",
          "ADOLESCENTE (12 A 17 ANOS)",
          "ADULTO I (18 A 24 ANOS)",
          "ADULTO II (25 A 29 ANOS)",
          "ADULTO III (30 A 34 ANOS)",
          "ADULTO IV (35 A 64 ANOS)",
          "CRIANCA (0 A 11 ANOS)",
          "ADOLESCENTE (12 A 17 ANOS)",
          "ADULTO I (18 A 24 ANOS)",
          "ADULTO II (25 A 29 ANOS)",
          "ADULTO IV (35 A 64 ANOS)",
          "CRIANCA (0 A 11 ANOS)",
          "ADOLESCENTE (12 A 17 ANOS)",
          "ADULTO IV (35 A 64 ANOS)",
          "CRIANCA (0 A 11 ANOS)",
          "ADOLESCENTE (12 A 17 ANOS)",
          "ADULTO I (18 A 24 ANOS)",
          "ADULTO II (25 A 29 ANOS)",
          "CRIANCA (0 A 11 ANOS)",
          "ADOLESCENTE (12 A 17 ANOS)",
          "CRIANCA (0 A 11 ANOS)",
          "ADULTO IV (35 A 64 ANOS)",
          "ADULTO I (18 A 24 ANOS)",
          "ADOLESCENTE (12 A 17 ANOS)",
          "CRIANCA (0 A 11 ANOS)",
          "ADOLESCENTE (12 A 17 ANOS)",
          "ADULTO I (18 A 24 ANOS)",
          "ADULTO II (25 A 29 ANOS)",
          "CRIANCA (0 A 11 ANOS)",
          "ADOLESCENTE (12 A 17 ANOS)",
          "ADULTO I (18 A 24 ANOS)",
          "CRIANCA (0 A 11 ANOS)",
          "",
          "",
          "",
          "",
          "",
          "",
          ""
         ],
         "type": "sunburst",
         "values": [
          8,
          4,
          2,
          4,
          14,
          40,
          1,
          3,
          5,
          2,
          10,
          31,
          8,
          3,
          1,
          23,
          1,
          1,
          14,
          4,
          3,
          16,
          1,
          1,
          1,
          4,
          3,
          4,
          8,
          4,
          3,
          1,
          2,
          12,
          2,
          1,
          10,
          1,
          6,
          1,
          1,
          1,
          2,
          1,
          20,
          3,
          1,
          2,
          1,
          47,
          5,
          1,
          1,
          2,
          61,
          28,
          3,
          1,
          2,
          52,
          3,
          2,
          17,
          8,
          1,
          1,
          11,
          1,
          1,
          1,
          1,
          1,
          1,
          24,
          2,
          1,
          39,
          14,
          2,
          14,
          239,
          46,
          14,
          15,
          35,
          293,
          1
         ]
        }
       ],
       "layout": {
        "annotations": [
         {
          "align": "left",
          "bgcolor": "lightgrey",
          "font": {
           "color": "black",
           "size": 15
          },
          "showarrow": false,
          "text": "Os maiores números de casos são entre vítimas que tem menos de 17 anos<br>Os maiores números de casos são com pessoas próximas e conhecidas",
          "x": -0.1,
          "y": -0.08
         }
        ],
        "height": 900,
        "legend": {
         "tracegroupgap": 0
        },
        "template": {
         "data": {
          "bar": [
           {
            "error_x": {
             "color": "#2a3f5f"
            },
            "error_y": {
             "color": "#2a3f5f"
            },
            "marker": {
             "line": {
              "color": "#E5ECF6",
              "width": 0.5
             },
             "pattern": {
              "fillmode": "overlay",
              "size": 10,
              "solidity": 0.2
             }
            },
            "type": "bar"
           }
          ],
          "barpolar": [
           {
            "marker": {
             "line": {
              "color": "#E5ECF6",
              "width": 0.5
             },
             "pattern": {
              "fillmode": "overlay",
              "size": 10,
              "solidity": 0.2
             }
            },
            "type": "barpolar"
           }
          ],
          "carpet": [
           {
            "aaxis": {
             "endlinecolor": "#2a3f5f",
             "gridcolor": "white",
             "linecolor": "white",
             "minorgridcolor": "white",
             "startlinecolor": "#2a3f5f"
            },
            "baxis": {
             "endlinecolor": "#2a3f5f",
             "gridcolor": "white",
             "linecolor": "white",
             "minorgridcolor": "white",
             "startlinecolor": "#2a3f5f"
            },
            "type": "carpet"
           }
          ],
          "choropleth": [
           {
            "colorbar": {
             "outlinewidth": 0,
             "ticks": ""
            },
            "type": "choropleth"
           }
          ],
          "contour": [
           {
            "colorbar": {
             "outlinewidth": 0,
             "ticks": ""
            },
            "colorscale": [
             [
              0,
              "#0d0887"
             ],
             [
              0.1111111111111111,
              "#46039f"
             ],
             [
              0.2222222222222222,
              "#7201a8"
             ],
             [
              0.3333333333333333,
              "#9c179e"
             ],
             [
              0.4444444444444444,
              "#bd3786"
             ],
             [
              0.5555555555555556,
              "#d8576b"
             ],
             [
              0.6666666666666666,
              "#ed7953"
             ],
             [
              0.7777777777777778,
              "#fb9f3a"
             ],
             [
              0.8888888888888888,
              "#fdca26"
             ],
             [
              1,
              "#f0f921"
             ]
            ],
            "type": "contour"
           }
          ],
          "contourcarpet": [
           {
            "colorbar": {
             "outlinewidth": 0,
             "ticks": ""
            },
            "type": "contourcarpet"
           }
          ],
          "heatmap": [
           {
            "colorbar": {
             "outlinewidth": 0,
             "ticks": ""
            },
            "colorscale": [
             [
              0,
              "#0d0887"
             ],
             [
              0.1111111111111111,
              "#46039f"
             ],
             [
              0.2222222222222222,
              "#7201a8"
             ],
             [
              0.3333333333333333,
              "#9c179e"
             ],
             [
              0.4444444444444444,
              "#bd3786"
             ],
             [
              0.5555555555555556,
              "#d8576b"
             ],
             [
              0.6666666666666666,
              "#ed7953"
             ],
             [
              0.7777777777777778,
              "#fb9f3a"
             ],
             [
              0.8888888888888888,
              "#fdca26"
             ],
             [
              1,
              "#f0f921"
             ]
            ],
            "type": "heatmap"
           }
          ],
          "heatmapgl": [
           {
            "colorbar": {
             "outlinewidth": 0,
             "ticks": ""
            },
            "colorscale": [
             [
              0,
              "#0d0887"
             ],
             [
              0.1111111111111111,
              "#46039f"
             ],
             [
              0.2222222222222222,
              "#7201a8"
             ],
             [
              0.3333333333333333,
              "#9c179e"
             ],
             [
              0.4444444444444444,
              "#bd3786"
             ],
             [
              0.5555555555555556,
              "#d8576b"
             ],
             [
              0.6666666666666666,
              "#ed7953"
             ],
             [
              0.7777777777777778,
              "#fb9f3a"
             ],
             [
              0.8888888888888888,
              "#fdca26"
             ],
             [
              1,
              "#f0f921"
             ]
            ],
            "type": "heatmapgl"
           }
          ],
          "histogram": [
           {
            "marker": {
             "pattern": {
              "fillmode": "overlay",
              "size": 10,
              "solidity": 0.2
             }
            },
            "type": "histogram"
           }
          ],
          "histogram2d": [
           {
            "colorbar": {
             "outlinewidth": 0,
             "ticks": ""
            },
            "colorscale": [
             [
              0,
              "#0d0887"
             ],
             [
              0.1111111111111111,
              "#46039f"
             ],
             [
              0.2222222222222222,
              "#7201a8"
             ],
             [
              0.3333333333333333,
              "#9c179e"
             ],
             [
              0.4444444444444444,
              "#bd3786"
             ],
             [
              0.5555555555555556,
              "#d8576b"
             ],
             [
              0.6666666666666666,
              "#ed7953"
             ],
             [
              0.7777777777777778,
              "#fb9f3a"
             ],
             [
              0.8888888888888888,
              "#fdca26"
             ],
             [
              1,
              "#f0f921"
             ]
            ],
            "type": "histogram2d"
           }
          ],
          "histogram2dcontour": [
           {
            "colorbar": {
             "outlinewidth": 0,
             "ticks": ""
            },
            "colorscale": [
             [
              0,
              "#0d0887"
             ],
             [
              0.1111111111111111,
              "#46039f"
             ],
             [
              0.2222222222222222,
              "#7201a8"
             ],
             [
              0.3333333333333333,
              "#9c179e"
             ],
             [
              0.4444444444444444,
              "#bd3786"
             ],
             [
              0.5555555555555556,
              "#d8576b"
             ],
             [
              0.6666666666666666,
              "#ed7953"
             ],
             [
              0.7777777777777778,
              "#fb9f3a"
             ],
             [
              0.8888888888888888,
              "#fdca26"
             ],
             [
              1,
              "#f0f921"
             ]
            ],
            "type": "histogram2dcontour"
           }
          ],
          "mesh3d": [
           {
            "colorbar": {
             "outlinewidth": 0,
             "ticks": ""
            },
            "type": "mesh3d"
           }
          ],
          "parcoords": [
           {
            "line": {
             "colorbar": {
              "outlinewidth": 0,
              "ticks": ""
             }
            },
            "type": "parcoords"
           }
          ],
          "pie": [
           {
            "automargin": true,
            "type": "pie"
           }
          ],
          "scatter": [
           {
            "fillpattern": {
             "fillmode": "overlay",
             "size": 10,
             "solidity": 0.2
            },
            "type": "scatter"
           }
          ],
          "scatter3d": [
           {
            "line": {
             "colorbar": {
              "outlinewidth": 0,
              "ticks": ""
             }
            },
            "marker": {
             "colorbar": {
              "outlinewidth": 0,
              "ticks": ""
             }
            },
            "type": "scatter3d"
           }
          ],
          "scattercarpet": [
           {
            "marker": {
             "colorbar": {
              "outlinewidth": 0,
              "ticks": ""
             }
            },
            "type": "scattercarpet"
           }
          ],
          "scattergeo": [
           {
            "marker": {
             "colorbar": {
              "outlinewidth": 0,
              "ticks": ""
             }
            },
            "type": "scattergeo"
           }
          ],
          "scattergl": [
           {
            "marker": {
             "colorbar": {
              "outlinewidth": 0,
              "ticks": ""
             }
            },
            "type": "scattergl"
           }
          ],
          "scattermapbox": [
           {
            "marker": {
             "colorbar": {
              "outlinewidth": 0,
              "ticks": ""
             }
            },
            "type": "scattermapbox"
           }
          ],
          "scatterpolar": [
           {
            "marker": {
             "colorbar": {
              "outlinewidth": 0,
              "ticks": ""
             }
            },
            "type": "scatterpolar"
           }
          ],
          "scatterpolargl": [
           {
            "marker": {
             "colorbar": {
              "outlinewidth": 0,
              "ticks": ""
             }
            },
            "type": "scatterpolargl"
           }
          ],
          "scatterternary": [
           {
            "marker": {
             "colorbar": {
              "outlinewidth": 0,
              "ticks": ""
             }
            },
            "type": "scatterternary"
           }
          ],
          "surface": [
           {
            "colorbar": {
             "outlinewidth": 0,
             "ticks": ""
            },
            "colorscale": [
             [
              0,
              "#0d0887"
             ],
             [
              0.1111111111111111,
              "#46039f"
             ],
             [
              0.2222222222222222,
              "#7201a8"
             ],
             [
              0.3333333333333333,
              "#9c179e"
             ],
             [
              0.4444444444444444,
              "#bd3786"
             ],
             [
              0.5555555555555556,
              "#d8576b"
             ],
             [
              0.6666666666666666,
              "#ed7953"
             ],
             [
              0.7777777777777778,
              "#fb9f3a"
             ],
             [
              0.8888888888888888,
              "#fdca26"
             ],
             [
              1,
              "#f0f921"
             ]
            ],
            "type": "surface"
           }
          ],
          "table": [
           {
            "cells": {
             "fill": {
              "color": "#EBF0F8"
             },
             "line": {
              "color": "white"
             }
            },
            "header": {
             "fill": {
              "color": "#C8D4E3"
             },
             "line": {
              "color": "white"
             }
            },
            "type": "table"
           }
          ]
         },
         "layout": {
          "annotationdefaults": {
           "arrowcolor": "#2a3f5f",
           "arrowhead": 0,
           "arrowwidth": 1
          },
          "autotypenumbers": "strict",
          "coloraxis": {
           "colorbar": {
            "outlinewidth": 0,
            "ticks": ""
           }
          },
          "colorscale": {
           "diverging": [
            [
             0,
             "#8e0152"
            ],
            [
             0.1,
             "#c51b7d"
            ],
            [
             0.2,
             "#de77ae"
            ],
            [
             0.3,
             "#f1b6da"
            ],
            [
             0.4,
             "#fde0ef"
            ],
            [
             0.5,
             "#f7f7f7"
            ],
            [
             0.6,
             "#e6f5d0"
            ],
            [
             0.7,
             "#b8e186"
            ],
            [
             0.8,
             "#7fbc41"
            ],
            [
             0.9,
             "#4d9221"
            ],
            [
             1,
             "#276419"
            ]
           ],
           "sequential": [
            [
             0,
             "#0d0887"
            ],
            [
             0.1111111111111111,
             "#46039f"
            ],
            [
             0.2222222222222222,
             "#7201a8"
            ],
            [
             0.3333333333333333,
             "#9c179e"
            ],
            [
             0.4444444444444444,
             "#bd3786"
            ],
            [
             0.5555555555555556,
             "#d8576b"
            ],
            [
             0.6666666666666666,
             "#ed7953"
            ],
            [
             0.7777777777777778,
             "#fb9f3a"
            ],
            [
             0.8888888888888888,
             "#fdca26"
            ],
            [
             1,
             "#f0f921"
            ]
           ],
           "sequentialminus": [
            [
             0,
             "#0d0887"
            ],
            [
             0.1111111111111111,
             "#46039f"
            ],
            [
             0.2222222222222222,
             "#7201a8"
            ],
            [
             0.3333333333333333,
             "#9c179e"
            ],
            [
             0.4444444444444444,
             "#bd3786"
            ],
            [
             0.5555555555555556,
             "#d8576b"
            ],
            [
             0.6666666666666666,
             "#ed7953"
            ],
            [
             0.7777777777777778,
             "#fb9f3a"
            ],
            [
             0.8888888888888888,
             "#fdca26"
            ],
            [
             1,
             "#f0f921"
            ]
           ]
          },
          "colorway": [
           "#636efa",
           "#EF553B",
           "#00cc96",
           "#ab63fa",
           "#FFA15A",
           "#19d3f3",
           "#FF6692",
           "#B6E880",
           "#FF97FF",
           "#FECB52"
          ],
          "font": {
           "color": "#2a3f5f"
          },
          "geo": {
           "bgcolor": "white",
           "lakecolor": "white",
           "landcolor": "#E5ECF6",
           "showlakes": true,
           "showland": true,
           "subunitcolor": "white"
          },
          "hoverlabel": {
           "align": "left"
          },
          "hovermode": "closest",
          "mapbox": {
           "style": "light"
          },
          "paper_bgcolor": "white",
          "plot_bgcolor": "#E5ECF6",
          "polar": {
           "angularaxis": {
            "gridcolor": "white",
            "linecolor": "white",
            "ticks": ""
           },
           "bgcolor": "#E5ECF6",
           "radialaxis": {
            "gridcolor": "white",
            "linecolor": "white",
            "ticks": ""
           }
          },
          "scene": {
           "xaxis": {
            "backgroundcolor": "#E5ECF6",
            "gridcolor": "white",
            "gridwidth": 2,
            "linecolor": "white",
            "showbackground": true,
            "ticks": "",
            "zerolinecolor": "white"
           },
           "yaxis": {
            "backgroundcolor": "#E5ECF6",
            "gridcolor": "white",
            "gridwidth": 2,
            "linecolor": "white",
            "showbackground": true,
            "ticks": "",
            "zerolinecolor": "white"
           },
           "zaxis": {
            "backgroundcolor": "#E5ECF6",
            "gridcolor": "white",
            "gridwidth": 2,
            "linecolor": "white",
            "showbackground": true,
            "ticks": "",
            "zerolinecolor": "white"
           }
          },
          "shapedefaults": {
           "line": {
            "color": "#2a3f5f"
           }
          },
          "ternary": {
           "aaxis": {
            "gridcolor": "white",
            "linecolor": "white",
            "ticks": ""
           },
           "baxis": {
            "gridcolor": "white",
            "linecolor": "white",
            "ticks": ""
           },
           "bgcolor": "#E5ECF6",
           "caxis": {
            "gridcolor": "white",
            "linecolor": "white",
            "ticks": ""
           }
          },
          "title": {
           "x": 0.05
          },
          "xaxis": {
           "automargin": true,
           "gridcolor": "white",
           "linecolor": "white",
           "ticks": "",
           "title": {
            "standoff": 15
           },
           "zerolinecolor": "white",
           "zerolinewidth": 2
          },
          "yaxis": {
           "automargin": true,
           "gridcolor": "white",
           "linecolor": "white",
           "ticks": "",
           "title": {
            "standoff": 15
           },
           "zerolinecolor": "white",
           "zerolinewidth": 2
          }
         }
        },
        "title": {
         "font": {
          "size": 20
         },
         "text": "Casos de estupro ocorridos no estado do Pará por grau de relacionamento"
        },
        "width": 900
       }
      }
     },
     "metadata": {},
     "output_type": "display_data"
    }
   ],
   "source": [
    "fig = px.sunburst(df_vulneravel, path=['FAIXA ETÁRIA VÍTIMA', 'GRAU DE RELACIONAMENTO' ] , title='Casos de estupro ocorridos no estado do Pará por grau de relacionamento', width=900, height=900)\n",
    "fig.update_traces(\n",
    "    hovertemplate='<b>%{label}</b><br>Contagem de casos: %{value} <extra></extra>')\n",
    "annotations = [\n",
    "    dict(\n",
    "        x=-0.1, \n",
    "        y=-0.08, \n",
    "        text=\"Os maiores números de casos são entre vítimas que tem menos de 17 anos<br>Os maiores números de casos são com pessoas próximas e conhecidas\", \n",
    "        font=dict(size=15, color=\"black\"),\n",
    "        showarrow=False,\n",
    "        bgcolor=\"lightgrey\",  # Fundo cinza claro\n",
    "        align='left'\n",
    "    ),\n",
    "    # Adicione mais anotações conforme necessário\n",
    "]\n",
    "\n",
    "# Atualizar o layout para incluir as anotações\n",
    "fig.update_layout(annotations=annotations, title_font=dict(size=20) )\n",
    "\n",
    "fig.show()"
   ]
  },
  {
   "cell_type": "code",
   "execution_count": null,
   "metadata": {},
   "outputs": [],
   "source": [
    "df[df['CONSOLIDADO(S)']=='FURTO'].groupby('MUNICÍPIO(S)').size().sort_values()"
   ]
  },
  {
   "cell_type": "code",
   "execution_count": null,
   "metadata": {},
   "outputs": [],
   "source": [
    "bairro_maior_roubos= df[df['CONSOLIDADO(S)']=='ROUBO'][df['MUNICÍPIO(S)']=='BELEM'].groupby('BAIRRO(S)').size().sort_values().iloc[62:]\n",
    "bairro_maior_trafico= df[df['CONSOLIDADO(S)']=='TRAFICO DE DROGAS'][df['MUNICÍPIO(S)']=='BELEM'].groupby('BAIRRO(S)').size().sort_values().iloc[57:]\n"
   ]
  },
  {
   "cell_type": "code",
   "execution_count": 4,
   "metadata": {},
   "outputs": [
    {
     "name": "stderr",
     "output_type": "stream",
     "text": [
      "C:\\Users\\T-GAMER\\AppData\\Local\\Temp\\ipykernel_15388\\230579388.py:1: UserWarning: Boolean Series key will be reindexed to match DataFrame index.\n",
      "  bairro_maior_furto_belem= df[df['CONSOLIDADO(S)']=='FURTO'][df['MUNICÍPIO(S)']=='BELEM']\n",
      "C:\\Users\\T-GAMER\\AppData\\Local\\Temp\\ipykernel_15388\\230579388.py:2: UserWarning: Boolean Series key will be reindexed to match DataFrame index.\n",
      "  bairro_maior_furto_ananindeua= df[df['CONSOLIDADO(S)']=='FURTO'][df['MUNICÍPIO(S)']=='ANANINDEUA']\n",
      "C:\\Users\\T-GAMER\\AppData\\Local\\Temp\\ipykernel_15388\\230579388.py:3: UserWarning: Boolean Series key will be reindexed to match DataFrame index.\n",
      "  bairro_maior_furto_marituba= df[df['CONSOLIDADO(S)']=='FURTO'][df['MUNICÍPIO(S)']=='MARITUBA']\n",
      "C:\\Users\\T-GAMER\\AppData\\Local\\Temp\\ipykernel_15388\\230579388.py:4: UserWarning: Boolean Series key will be reindexed to match DataFrame index.\n",
      "  bairro_maior_furto_benevides= df[df['CONSOLIDADO(S)']=='FURTO'][df['MUNICÍPIO(S)']=='BENEVIDES']\n"
     ]
    }
   ],
   "source": [
    "bairro_maior_furto_belem= df[df['CONSOLIDADO(S)']=='FURTO'][df['MUNICÍPIO(S)']=='BELEM']\n",
    "bairro_maior_furto_ananindeua= df[df['CONSOLIDADO(S)']=='FURTO'][df['MUNICÍPIO(S)']=='ANANINDEUA']\n",
    "bairro_maior_furto_marituba= df[df['CONSOLIDADO(S)']=='FURTO'][df['MUNICÍPIO(S)']=='MARITUBA']\n",
    "bairro_maior_furto_benevides= df[df['CONSOLIDADO(S)']=='FURTO'][df['MUNICÍPIO(S)']=='BENEVIDES']\n"
   ]
  },
  {
   "cell_type": "code",
   "execution_count": 7,
   "metadata": {},
   "outputs": [
    {
     "data": {
      "text/html": [
       "\n",
       "        <iframe\n",
       "            width=\"100%\"\n",
       "            height=\"650\"\n",
       "            src=\"http://127.0.0.1:8050/\"\n",
       "            frameborder=\"0\"\n",
       "            allowfullscreen\n",
       "            \n",
       "        ></iframe>\n",
       "        "
      ],
      "text/plain": [
       "<IPython.lib.display.IFrame at 0x1c6cf24c250>"
      ]
     },
     "metadata": {},
     "output_type": "display_data"
    },
    {
     "name": "stdout",
     "output_type": "stream",
     "text": [
      "          CONSOLIDADO(S)         ESPECIFICAÇÃO CRIME MEIO EMPREGADO DEAC  \\\n",
      "0      TRAFICO DE DROGAS                         NaN                 NaN   \n",
      "1         LESAO CORPORAL                         NaN    VIOLENCIA FISICA   \n",
      "2                  FURTO                  HIDROMETRO     SEM INSTRUMENTO   \n",
      "3                  FURTO                  HIDROMETRO     SEM INSTRUMENTO   \n",
      "4      TRAFICO DE DROGAS                         NaN                 NaN   \n",
      "...                  ...                         ...                 ...   \n",
      "69613  TRAFICO DE DROGAS                         NaN                 NaN   \n",
      "69614  TRAFICO DE DROGAS                         NaN                 NaN   \n",
      "69615              ROUBO  EM RESIDENCIA/CELULAR/LEVE        ARMA DE FOGO   \n",
      "69616  TRAFICO DE DROGAS                         NaN                 NaN   \n",
      "69617  TRAFICO DE DROGAS                         NaN                 NaN   \n",
      "\n",
      "      MUNICÍPIO(S)     BAIRRO(S)  ANO DO FATO MÊS DO FATO      RISP      AISP  \\\n",
      "0            BELEM         GUAMA         2023     OUTUBRO  01ª RISP  05ª AISP   \n",
      "1            BELEM       CAMPINA         2023      AGOSTO  01ª RISP  01ª AISP   \n",
      "2            BELEM  MARACANGALHA         2023     OUTUBRO  01ª RISP  07ª AISP   \n",
      "3            BELEM      UMARIZAL         2023     OUTUBRO  01ª RISP  01ª AISP   \n",
      "4            BELEM        TAPANA         2023     OUTUBRO  01ª RISP  11ª AISP   \n",
      "...            ...           ...          ...         ...       ...       ...   \n",
      "69613        BELEM       CAMPINA         2023    SETEMBRO  01ª RISP  01ª AISP   \n",
      "69614        BELEM        TAPANA         2023    SETEMBRO  01ª RISP  11ª AISP   \n",
      "69615   ANANINDEUA   CIDADE NOVA         2023    SETEMBRO  02ª RISP  18ª AISP   \n",
      "69616   ANANINDEUA       MAGUARI         2023    SETEMBRO  02ª RISP  20ª AISP   \n",
      "69617        BELEM      PEDREIRA         2023    SETEMBRO  01ª RISP  08ª AISP   \n",
      "\n",
      "      DATA DO FATO  ... IDADE VÍTIMA       FAIXA ETÁRIA VÍTIMA  \\\n",
      "0       2023-10-19  ...        88888           PJ, EP E OUTROS   \n",
      "1       2023-08-30  ...           45  ADULTO IV (35 A 64 ANOS)   \n",
      "2       2023-10-30  ...        88888           PJ, EP E OUTROS   \n",
      "3       2023-10-28  ...        88888           PJ, EP E OUTROS   \n",
      "4       2023-10-19  ...        88888           PJ, EP E OUTROS   \n",
      "...            ...  ...          ...                       ...   \n",
      "69613   2023-09-12  ...        88888           PJ, EP E OUTROS   \n",
      "69614   2023-09-05  ...        88888           PJ, EP E OUTROS   \n",
      "69615   2023-09-01  ...           62  ADULTO IV (35 A 64 ANOS)   \n",
      "69616   2023-09-05  ...        88888           PJ, EP E OUTROS   \n",
      "69617   2023-09-12  ...        88888           PJ, EP E OUTROS   \n",
      "\n",
      "        TIPO DE VÍTIMA       COR VÍTIMA GRAU DE INSTRUÇÃO VÍTIMA  \\\n",
      "0      PJ, EP E OUTROS  PJ, EP E OUTROS          PJ, EP E OUTROS   \n",
      "1          PREJUDICADO      PREJUDICADO    ENSINO MEDIO COMPLETO   \n",
      "2      PJ, EP E OUTROS  PJ, EP E OUTROS          PJ, EP E OUTROS   \n",
      "3      PJ, EP E OUTROS  PJ, EP E OUTROS          PJ, EP E OUTROS   \n",
      "4      PJ, EP E OUTROS  PJ, EP E OUTROS          PJ, EP E OUTROS   \n",
      "...                ...              ...                      ...   \n",
      "69613  PJ, EP E OUTROS  PJ, EP E OUTROS          PJ, EP E OUTROS   \n",
      "69614  PJ, EP E OUTROS  PJ, EP E OUTROS          PJ, EP E OUTROS   \n",
      "69615      PREJUDICADO      PREJUDICADO    ENSINO MEDIO COMPLETO   \n",
      "69616  PJ, EP E OUTROS  PJ, EP E OUTROS          PJ, EP E OUTROS   \n",
      "69617  PJ, EP E OUTROS  PJ, EP E OUTROS          PJ, EP E OUTROS   \n",
      "\n",
      "      ESTADO CIVÍL VÍTIMA SEXO AUTOR IDADE AUTOR    COR AUTOR  \\\n",
      "0         PJ, EP E OUTROS          P     66666.0        PARDA   \n",
      "1             PREJUDICADO          M     66666.0  PREJUDICADO   \n",
      "2         PJ, EP E OUTROS          P     66666.0          NaN   \n",
      "3         PJ, EP E OUTROS          P     66666.0          NaN   \n",
      "4         PJ, EP E OUTROS          P     66666.0  PREJUDICADO   \n",
      "...                   ...        ...         ...          ...   \n",
      "69613     PJ, EP E OUTROS          P     66666.0  PREJUDICADO   \n",
      "69614     PJ, EP E OUTROS          P     66666.0  PREJUDICADO   \n",
      "69615         SOLTEIRO(A)          M     66666.0  PREJUDICADO   \n",
      "69616     PJ, EP E OUTROS          P     66666.0  PREJUDICADO   \n",
      "69617     PJ, EP E OUTROS          P     66666.0  PREJUDICADO   \n",
      "\n",
      "      GRAU DE RELACIONAMENTO  \n",
      "0                        NaN  \n",
      "1          EX-COMPANHEIRO(A)  \n",
      "2                        NaN  \n",
      "3                        NaN  \n",
      "4                        NaN  \n",
      "...                      ...  \n",
      "69613                    NaN  \n",
      "69614                    NaN  \n",
      "69615                    NaN  \n",
      "69616                    NaN  \n",
      "69617                    NaN  \n",
      "\n",
      "[69618 rows x 30 columns]\n"
     ]
    }
   ],
   "source": [
    "#Belem\n",
    "bairro_counts_belem = bairro_maior_furto_belem['BAIRRO(S)'].value_counts()\n",
    "top_3_bairros_belem = bairro_counts_belem.head(3).index\n",
    "top_3_data_belem = bairro_maior_furto_belem[bairro_maior_furto_belem['BAIRRO(S)'].isin(top_3_bairros_belem)]\n",
    "\n",
    "#Ananindeua\n",
    "bairro_counts_ananindeua = bairro_maior_furto_ananindeua['BAIRRO(S)'].value_counts()\n",
    "top_3_bairros_ananindeua = bairro_counts_ananindeua.head(3).index\n",
    "top_3_data_ananindeua = bairro_maior_furto_ananindeua[bairro_maior_furto_ananindeua['BAIRRO(S)'].isin(top_3_bairros_ananindeua)]\n",
    "\n",
    "df_top= pd.concat([top_3_data_belem, top_3_data_ananindeua])\n",
    "\n",
    "color_map = {\n",
    "    'MARCO': '#636EFA',   # Substitua 'Bairro1_Belem' pelo nome real do bairro\n",
    "    'PEDREIRA': '#EF553B',\n",
    "    'CAMPINA': '#00CC96',\n",
    "    'CIDADE NOVA': '#AB63FA',\n",
    "    'CENTRO DE ANANINDEUA': '#19D3F3',\n",
    "    'COQUEIRO ANANINDEUA': '#FFA15A'\n",
    "}\n",
    "\n",
    "app = Dash(__name__)\n",
    "\n",
    "\n",
    "app.layout = html.Div([\n",
    "    html.H4('Furtos por bairro em Belém e Ananindeua'),\n",
    "    dcc.Graph(id=\"graph\")\n",
    "])\n",
    "\n",
    "\n",
    "@app.callback(\n",
    "    Output(\"graph\", \"figure\"), \n",
    "    Input(\"graph\", \"id\"))\n",
    "def update_bar_chart(_):\n",
    "    \n",
    "    fig = px.bar(df_top, x='MUNICÍPIO(S)',color='BAIRRO(S)',\n",
    " barmode=\"group\",height=400, color_discrete_map=color_map)\n",
    "    print(df)\n",
    "    return fig\n",
    "\n",
    "\n",
    "app.run_server(debug=True)\n"
   ]
  },
  {
   "cell_type": "code",
   "execution_count": null,
   "metadata": {},
   "outputs": [],
   "source": []
  },
  {
   "cell_type": "code",
   "execution_count": null,
   "metadata": {},
   "outputs": [],
   "source": []
  }
 ],
 "metadata": {
  "kernelspec": {
   "display_name": "Python 3",
   "language": "python",
   "name": "python3"
  },
  "language_info": {
   "codemirror_mode": {
    "name": "ipython",
    "version": 3
   },
   "file_extension": ".py",
   "mimetype": "text/x-python",
   "name": "python",
   "nbconvert_exporter": "python",
   "pygments_lexer": "ipython3",
   "version": "3.11.9"
  }
 },
 "nbformat": 4,
 "nbformat_minor": 2
}
