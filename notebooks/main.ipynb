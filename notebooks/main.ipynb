{
 "cells": [
  {
   "cell_type": "code",
   "execution_count": 1,
   "metadata": {},
   "outputs": [],
   "source": [
    "import pandas as pd\n",
    "import numpy as np\n",
    "from pyspark.sql import SparkSession\n",
    "import pandas as pd\n",
    "import os\n",
    "\n",
    "\n",
    "from dash import Dash, dcc, html, Input, Output\n",
    "import plotly.express as px\n",
    "\n"
   ]
  },
  {
   "cell_type": "code",
   "execution_count": 72,
   "metadata": {},
   "outputs": [],
   "source": [
    "#df= pd.read_excel(os.path.join('..', '27_08_24.xlsx'))\n",
    "\n",
    "path= [os.path.join('..', 'data', x) for x in os.listdir(os.path.join('..', 'data'))]\n",
    "#df\n",
    "df_0= pd.read_excel(path[0])\n",
    "df_1= pd.read_excel(path[1])\n",
    "df_2= pd.read_excel(path[2])\n",
    "df_3= pd.read_excel(path[3])\n",
    "df_4= pd.read_excel(path[4])\n",
    "#df= pd.concat([df_0, df_1], )\n"
   ]
  },
  {
   "cell_type": "code",
   "execution_count": 74,
   "metadata": {},
   "outputs": [],
   "source": [
    "df= pd.concat([df_0, df_1,df_2, df_3,df_4])"
   ]
  },
  {
   "cell_type": "code",
   "execution_count": null,
   "metadata": {},
   "outputs": [],
   "source": [
    "df.drop_duplicates(inplace=True)\n",
    "df.reset_index(drop=True, inplace=True)\n"
   ]
  },
  {
   "cell_type": "code",
   "execution_count": null,
   "metadata": {},
   "outputs": [],
   "source": [
    "df"
   ]
  },
  {
   "cell_type": "code",
   "execution_count": 11,
   "metadata": {},
   "outputs": [
    {
     "data": {
      "text/plain": [
       "Index(['CONSOLIDADO(S)', 'ESPECIFICAÇÃO CRIME', 'MEIO EMPREGADO DEAC',\n",
       "       'MUNICÍPIO(S)', 'BAIRRO(S)', 'ANO DO FATO', 'MÊS DO FATO', 'RISP',\n",
       "       'AISP', 'DATA DO FATO', 'DIA DA SEMANA', 'HORA DO FATO',\n",
       "       'FAIXA 4 HORAS', 'FAIXA 12 HORAS', 'LATITUDE', 'LONGITUDE', 'DISTRITO',\n",
       "       'REGIÃO DE INTEGRAÇÃO', 'LOCAL DA OCORRÊNCIA', 'SEXO VÍTIMA',\n",
       "       'IDADE VÍTIMA', 'FAIXA ETÁRIA VÍTIMA', 'TIPO DE VÍTIMA', 'COR VÍTIMA',\n",
       "       'GRAU DE INSTRUÇÃO VÍTIMA', 'ESTADO CIVÍL VÍTIMA', 'SEXO AUTOR',\n",
       "       'IDADE AUTOR', 'COR AUTOR', 'GRAU DE RELACIONAMENTO'],\n",
       "      dtype='object')"
      ]
     },
     "execution_count": 11,
     "metadata": {},
     "output_type": "execute_result"
    }
   ],
   "source": [
    "df.columns"
   ]
  },
  {
   "cell_type": "code",
   "execution_count": null,
   "metadata": {},
   "outputs": [],
   "source": [
    "df.loc[df['CONSOLIDADO(S)'] == 'ROUBO', 'CONSOLIDADO(S)']"
   ]
  },
  {
   "cell_type": "code",
   "execution_count": null,
   "metadata": {},
   "outputs": [],
   "source": []
  },
  {
   "cell_type": "code",
   "execution_count": null,
   "metadata": {},
   "outputs": [],
   "source": [
    "dfteste= pd.DataFrame([df['CONSOLIDADO(S)'], df['MÊS DO FATO'], df['ANO DO FATO']]).T\n",
    "#dfteste= dfteste.replace({'HOMICIDIO': 'MURDER'})\n",
    "#dfteste= dfteste.replace({\"JANEIRO\":\"JANUARY\", \"FEVEREIRO\":\"FEBRUARY\", \"MARÇO\":\"MARCH\", \"ABRIL\":\"APRIL\", \"MAIO\":\"MAY\", \"JUNHO\":\"JUNE\", \"JULHO\":\"JULY\", \"AGOSTO\":\"AUGUST\", \"SETEMBRO\":\"SEPTEMBER\", \"OUTUBRO\":\"OCTOBER\", \"NOVEMBRO\":\"NOVEMBER\", \"DEZEMBRO\":\"DECEMBER\"})\n",
    "#dfteste['YEAR']=  df['ANO DO FATO']"
   ]
  },
  {
   "cell_type": "code",
   "execution_count": null,
   "metadata": {},
   "outputs": [],
   "source": [
    "dfteste= dfteste.groupby(['CONSOLIDADO(S)', 'MÊS DO FATO', 'ANO DO FATO']).size().reset_index(name='Contagem')\n"
   ]
  },
  {
   "cell_type": "code",
   "execution_count": null,
   "metadata": {},
   "outputs": [],
   "source": [
    "dfteste"
   ]
  },
  {
   "cell_type": "code",
   "execution_count": null,
   "metadata": {},
   "outputs": [],
   "source": [
    "#month_en=[\"JANUARY\", \"FEBRUARY\", \"MARCH\", \"APRIL\", \"MAY\", \"JUNE\", \"JULY\", \"AUGUST\", \"SEPTEMBER\", \"OCTOBER\", \"NOVEMBER\", \"DECEMBER\"]"
   ]
  },
  {
   "cell_type": "code",
   "execution_count": null,
   "metadata": {},
   "outputs": [],
   "source": [
    "\n",
    "app = Dash(__name__)\n",
    "\n",
    "# Layout da aplicação\n",
    "app.layout = html.Div([\n",
    "    html.H1(\"Gráfico de Ocorrências por Mês e Ano\"),\n",
    "    \n",
    "    # Dropdown para selecionar o tipo de crime\n",
    "    dcc.Dropdown(\n",
    "        id='tipo-crime-dropdown',\n",
    "        options=[{'label': crime, 'value': crime} for crime in dfteste['CONSOLIDADO(S)'].unique()],\n",
    "        value=dfteste['CONSOLIDADO(S)'].unique()[0],  # Valor inicial\n",
    "        clearable=False\n",
    "    ),\n",
    "    \n",
    "    # Componente para exibir o gráfico\n",
    "    dcc.Graph(id='crime-graph'),\n",
    "\n",
    "    # Anotação fora do gráfico\n",
    "    html.Div(\"Fonte: Banco de Dados SEGUP\", style={'textAlign': 'center', 'marginTop': '20px'})\n",
    "])\n",
    "\n",
    "# Callback para atualizar o gráfico com base na seleção do dropdown\n",
    "@app.callback(\n",
    "    Output('crime-graph', 'figure'),\n",
    "    Input('tipo-crime-dropdown', 'value')\n",
    ")\n",
    "def update_graph(selected_crime):\n",
    "    # Filtrar o DataFrame pelo tipo de crime selecionado\n",
    "    df_filtered = dfteste[dfteste['CONSOLIDADO(S)'] == selected_crime]\n",
    "    \n",
    "    # Ordenar os meses\n",
    "    meses_ordenados = [\"JANEIRO\", \"FEVEREIRO\", \"MARÇO\", \"ABRIL\", \"MAIO\", \"JUNHO\", \n",
    "                       \"JULHO\", \"AGOSTO\", \"SETEMBRO\", \"OUTUBRO\", \"NOVEMBRO\", \"DEZEMBRO\"]\n",
    "    df_filtered['MÊS DO FATO'] = pd.Categorical(df_filtered['MÊS DO FATO'], categories=meses_ordenados, ordered=True)\n",
    "    df_filtered = df_filtered.sort_values(['ANO DO FATO', 'MÊS DO FATO'])\n",
    "    \n",
    "    # Criar o gráfico de linhas\n",
    "    fig = px.line(df_filtered, x='MÊS DO FATO', y='Contagem', color='ANO DO FATO', \n",
    "                  title=f'Ocorrências de {selected_crime} por Mês e Ano', markers=True)\n",
    "    \n",
    "    return fig\n",
    "\n",
    "# Rodar a aplicação\n",
    "if __name__ == '__main__':\n",
    "    app.run_server(debug=True)\n"
   ]
  },
  {
   "cell_type": "code",
   "execution_count": null,
   "metadata": {},
   "outputs": [],
   "source": []
  },
  {
   "cell_type": "code",
   "execution_count": null,
   "metadata": {},
   "outputs": [],
   "source": [
    "df_vulneravel= df[df['CONSOLIDADO(S)']=='ESTUPRO']\n",
    "df_vulneravel= pd.concat([df_vulneravel, df[df['CONSOLIDADO(S)']=='ESTUPRO DE VULNERAVEL']]).dropna(subset='GRAU DE RELACIONAMENTO')\n",
    "#[df['GRAU DE RELACIONAMENTO'].isin(['PADRASTO', 'PAI', 'TIO(A)', 'AVO', 'VIZINHO(A)'])]\n",
    "\n",
    "df_vulneravel= df_vulneravel[df_vulneravel['GRAU DE RELACIONAMENTO']!='PREJUDICADO']\n",
    "df_vulneravel= df_vulneravel[df_vulneravel['FAIXA ETÁRIA VÍTIMA']!='PREJUDICADO']\n",
    "\n",
    "\n",
    "fig = px.sunburst(df_vulneravel, path=['FAIXA ETÁRIA VÍTIMA', 'GRAU DE RELACIONAMENTO' ] , title='Casos de estupro ocorridos no estado do Pará por grau de relacionamento', width=900, height=900)\n",
    "fig.update_traces(\n",
    "    hovertemplate='<b>%{label}</b><br>Contagem de casos: %{value} <extra></extra>')\n",
    "annotations = [\n",
    "    dict(\n",
    "        x=-0.1, \n",
    "        y=-0.08, \n",
    "        text=\"Os maiores números de casos são entre vítimas que tem menos de 17 anos<br>Os maiores números de casos são com pessoas próximas e conhecidas\", \n",
    "        font=dict(size=15, color=\"black\"),\n",
    "        showarrow=False,\n",
    "        bgcolor=\"lightgrey\",  # Fundo cinza claro\n",
    "        align='left'\n",
    "    ),\n",
    "]\n",
    "\n",
    "fig.update_layout(annotations=annotations, title_font=dict(size=20) )\n",
    "\n",
    "fig.show()\n",
    "df_vulneravel"
   ]
  },
  {
   "cell_type": "code",
   "execution_count": null,
   "metadata": {},
   "outputs": [],
   "source": [
    "df[df['CONSOLIDADO(S)']=='LESAO NO TRANSITO'].groupby('SEXO AUTOR').size()"
   ]
  },
  {
   "cell_type": "code",
   "execution_count": null,
   "metadata": {},
   "outputs": [],
   "source": []
  },
  {
   "cell_type": "code",
   "execution_count": 75,
   "metadata": {},
   "outputs": [
    {
     "data": {
      "application/vnd.plotly.v1+json": {
       "config": {
        "plotlyServerURL": "https://plot.ly"
       },
       "data": [
        {
         "alignmentgroup": "True",
         "hovertemplate": "BAIRRO(S)=MARCO<br>MUNICÍPIO(S)=%{x}<br>count=%{y}<extra></extra>",
         "legendgroup": "MARCO",
         "marker": {
          "color": "#636efa",
          "pattern": {
           "shape": ""
          }
         },
         "name": "MARCO",
         "offsetgroup": "MARCO",
         "orientation": "v",
         "showlegend": true,
         "textposition": "auto",
         "type": "bar",
         "x": [
          "BELEM"
         ],
         "xaxis": "x",
         "y": [
          17116
         ],
         "yaxis": "y"
        },
        {
         "alignmentgroup": "True",
         "hovertemplate": "BAIRRO(S)=PEDREIRA<br>MUNICÍPIO(S)=%{x}<br>count=%{y}<extra></extra>",
         "legendgroup": "PEDREIRA",
         "marker": {
          "color": "#EF553B",
          "pattern": {
           "shape": ""
          }
         },
         "name": "PEDREIRA",
         "offsetgroup": "PEDREIRA",
         "orientation": "v",
         "showlegend": true,
         "textposition": "auto",
         "type": "bar",
         "x": [
          "BELEM"
         ],
         "xaxis": "x",
         "y": [
          14599
         ],
         "yaxis": "y"
        },
        {
         "alignmentgroup": "True",
         "hovertemplate": "BAIRRO(S)=GUAMA<br>MUNICÍPIO(S)=%{x}<br>count=%{y}<extra></extra>",
         "legendgroup": "GUAMA",
         "marker": {
          "color": "#00cc96",
          "pattern": {
           "shape": ""
          }
         },
         "name": "GUAMA",
         "offsetgroup": "GUAMA",
         "orientation": "v",
         "showlegend": true,
         "textposition": "auto",
         "type": "bar",
         "x": [
          "BELEM"
         ],
         "xaxis": "x",
         "y": [
          14123
         ],
         "yaxis": "y"
        },
        {
         "alignmentgroup": "True",
         "hovertemplate": "BAIRRO(S)=CIDADE NOVA<br>MUNICÍPIO(S)=%{x}<br>count=%{y}<extra></extra>",
         "legendgroup": "CIDADE NOVA",
         "marker": {
          "color": "#ab63fa",
          "pattern": {
           "shape": ""
          }
         },
         "name": "CIDADE NOVA",
         "offsetgroup": "CIDADE NOVA",
         "orientation": "v",
         "showlegend": true,
         "textposition": "auto",
         "type": "bar",
         "x": [
          "ANANINDEUA"
         ],
         "xaxis": "x",
         "y": [
          14381
         ],
         "yaxis": "y"
        },
        {
         "alignmentgroup": "True",
         "hovertemplate": "BAIRRO(S)=CENTRO DE ANANINDEUA<br>MUNICÍPIO(S)=%{x}<br>count=%{y}<extra></extra>",
         "legendgroup": "CENTRO DE ANANINDEUA",
         "marker": {
          "color": "#FFA15A",
          "pattern": {
           "shape": ""
          }
         },
         "name": "CENTRO DE ANANINDEUA",
         "offsetgroup": "CENTRO DE ANANINDEUA",
         "orientation": "v",
         "showlegend": true,
         "textposition": "auto",
         "type": "bar",
         "x": [
          "ANANINDEUA"
         ],
         "xaxis": "x",
         "y": [
          11294
         ],
         "yaxis": "y"
        },
        {
         "alignmentgroup": "True",
         "hovertemplate": "BAIRRO(S)=COQUEIRO ANANINDEUA<br>MUNICÍPIO(S)=%{x}<br>count=%{y}<extra></extra>",
         "legendgroup": "COQUEIRO ANANINDEUA",
         "marker": {
          "color": "#19d3f3",
          "pattern": {
           "shape": ""
          }
         },
         "name": "COQUEIRO ANANINDEUA",
         "offsetgroup": "COQUEIRO ANANINDEUA",
         "orientation": "v",
         "showlegend": true,
         "textposition": "auto",
         "type": "bar",
         "x": [
          "ANANINDEUA"
         ],
         "xaxis": "x",
         "y": [
          9132
         ],
         "yaxis": "y"
        }
       ],
       "layout": {
        "barmode": "group",
        "legend": {
         "title": {
          "text": "BAIRRO(S)"
         },
         "tracegroupgap": 0
        },
        "template": {
         "data": {
          "bar": [
           {
            "error_x": {
             "color": "#2a3f5f"
            },
            "error_y": {
             "color": "#2a3f5f"
            },
            "marker": {
             "line": {
              "color": "#E5ECF6",
              "width": 0.5
             },
             "pattern": {
              "fillmode": "overlay",
              "size": 10,
              "solidity": 0.2
             }
            },
            "type": "bar"
           }
          ],
          "barpolar": [
           {
            "marker": {
             "line": {
              "color": "#E5ECF6",
              "width": 0.5
             },
             "pattern": {
              "fillmode": "overlay",
              "size": 10,
              "solidity": 0.2
             }
            },
            "type": "barpolar"
           }
          ],
          "carpet": [
           {
            "aaxis": {
             "endlinecolor": "#2a3f5f",
             "gridcolor": "white",
             "linecolor": "white",
             "minorgridcolor": "white",
             "startlinecolor": "#2a3f5f"
            },
            "baxis": {
             "endlinecolor": "#2a3f5f",
             "gridcolor": "white",
             "linecolor": "white",
             "minorgridcolor": "white",
             "startlinecolor": "#2a3f5f"
            },
            "type": "carpet"
           }
          ],
          "choropleth": [
           {
            "colorbar": {
             "outlinewidth": 0,
             "ticks": ""
            },
            "type": "choropleth"
           }
          ],
          "contour": [
           {
            "colorbar": {
             "outlinewidth": 0,
             "ticks": ""
            },
            "colorscale": [
             [
              0,
              "#0d0887"
             ],
             [
              0.1111111111111111,
              "#46039f"
             ],
             [
              0.2222222222222222,
              "#7201a8"
             ],
             [
              0.3333333333333333,
              "#9c179e"
             ],
             [
              0.4444444444444444,
              "#bd3786"
             ],
             [
              0.5555555555555556,
              "#d8576b"
             ],
             [
              0.6666666666666666,
              "#ed7953"
             ],
             [
              0.7777777777777778,
              "#fb9f3a"
             ],
             [
              0.8888888888888888,
              "#fdca26"
             ],
             [
              1,
              "#f0f921"
             ]
            ],
            "type": "contour"
           }
          ],
          "contourcarpet": [
           {
            "colorbar": {
             "outlinewidth": 0,
             "ticks": ""
            },
            "type": "contourcarpet"
           }
          ],
          "heatmap": [
           {
            "colorbar": {
             "outlinewidth": 0,
             "ticks": ""
            },
            "colorscale": [
             [
              0,
              "#0d0887"
             ],
             [
              0.1111111111111111,
              "#46039f"
             ],
             [
              0.2222222222222222,
              "#7201a8"
             ],
             [
              0.3333333333333333,
              "#9c179e"
             ],
             [
              0.4444444444444444,
              "#bd3786"
             ],
             [
              0.5555555555555556,
              "#d8576b"
             ],
             [
              0.6666666666666666,
              "#ed7953"
             ],
             [
              0.7777777777777778,
              "#fb9f3a"
             ],
             [
              0.8888888888888888,
              "#fdca26"
             ],
             [
              1,
              "#f0f921"
             ]
            ],
            "type": "heatmap"
           }
          ],
          "heatmapgl": [
           {
            "colorbar": {
             "outlinewidth": 0,
             "ticks": ""
            },
            "colorscale": [
             [
              0,
              "#0d0887"
             ],
             [
              0.1111111111111111,
              "#46039f"
             ],
             [
              0.2222222222222222,
              "#7201a8"
             ],
             [
              0.3333333333333333,
              "#9c179e"
             ],
             [
              0.4444444444444444,
              "#bd3786"
             ],
             [
              0.5555555555555556,
              "#d8576b"
             ],
             [
              0.6666666666666666,
              "#ed7953"
             ],
             [
              0.7777777777777778,
              "#fb9f3a"
             ],
             [
              0.8888888888888888,
              "#fdca26"
             ],
             [
              1,
              "#f0f921"
             ]
            ],
            "type": "heatmapgl"
           }
          ],
          "histogram": [
           {
            "marker": {
             "pattern": {
              "fillmode": "overlay",
              "size": 10,
              "solidity": 0.2
             }
            },
            "type": "histogram"
           }
          ],
          "histogram2d": [
           {
            "colorbar": {
             "outlinewidth": 0,
             "ticks": ""
            },
            "colorscale": [
             [
              0,
              "#0d0887"
             ],
             [
              0.1111111111111111,
              "#46039f"
             ],
             [
              0.2222222222222222,
              "#7201a8"
             ],
             [
              0.3333333333333333,
              "#9c179e"
             ],
             [
              0.4444444444444444,
              "#bd3786"
             ],
             [
              0.5555555555555556,
              "#d8576b"
             ],
             [
              0.6666666666666666,
              "#ed7953"
             ],
             [
              0.7777777777777778,
              "#fb9f3a"
             ],
             [
              0.8888888888888888,
              "#fdca26"
             ],
             [
              1,
              "#f0f921"
             ]
            ],
            "type": "histogram2d"
           }
          ],
          "histogram2dcontour": [
           {
            "colorbar": {
             "outlinewidth": 0,
             "ticks": ""
            },
            "colorscale": [
             [
              0,
              "#0d0887"
             ],
             [
              0.1111111111111111,
              "#46039f"
             ],
             [
              0.2222222222222222,
              "#7201a8"
             ],
             [
              0.3333333333333333,
              "#9c179e"
             ],
             [
              0.4444444444444444,
              "#bd3786"
             ],
             [
              0.5555555555555556,
              "#d8576b"
             ],
             [
              0.6666666666666666,
              "#ed7953"
             ],
             [
              0.7777777777777778,
              "#fb9f3a"
             ],
             [
              0.8888888888888888,
              "#fdca26"
             ],
             [
              1,
              "#f0f921"
             ]
            ],
            "type": "histogram2dcontour"
           }
          ],
          "mesh3d": [
           {
            "colorbar": {
             "outlinewidth": 0,
             "ticks": ""
            },
            "type": "mesh3d"
           }
          ],
          "parcoords": [
           {
            "line": {
             "colorbar": {
              "outlinewidth": 0,
              "ticks": ""
             }
            },
            "type": "parcoords"
           }
          ],
          "pie": [
           {
            "automargin": true,
            "type": "pie"
           }
          ],
          "scatter": [
           {
            "fillpattern": {
             "fillmode": "overlay",
             "size": 10,
             "solidity": 0.2
            },
            "type": "scatter"
           }
          ],
          "scatter3d": [
           {
            "line": {
             "colorbar": {
              "outlinewidth": 0,
              "ticks": ""
             }
            },
            "marker": {
             "colorbar": {
              "outlinewidth": 0,
              "ticks": ""
             }
            },
            "type": "scatter3d"
           }
          ],
          "scattercarpet": [
           {
            "marker": {
             "colorbar": {
              "outlinewidth": 0,
              "ticks": ""
             }
            },
            "type": "scattercarpet"
           }
          ],
          "scattergeo": [
           {
            "marker": {
             "colorbar": {
              "outlinewidth": 0,
              "ticks": ""
             }
            },
            "type": "scattergeo"
           }
          ],
          "scattergl": [
           {
            "marker": {
             "colorbar": {
              "outlinewidth": 0,
              "ticks": ""
             }
            },
            "type": "scattergl"
           }
          ],
          "scattermapbox": [
           {
            "marker": {
             "colorbar": {
              "outlinewidth": 0,
              "ticks": ""
             }
            },
            "type": "scattermapbox"
           }
          ],
          "scatterpolar": [
           {
            "marker": {
             "colorbar": {
              "outlinewidth": 0,
              "ticks": ""
             }
            },
            "type": "scatterpolar"
           }
          ],
          "scatterpolargl": [
           {
            "marker": {
             "colorbar": {
              "outlinewidth": 0,
              "ticks": ""
             }
            },
            "type": "scatterpolargl"
           }
          ],
          "scatterternary": [
           {
            "marker": {
             "colorbar": {
              "outlinewidth": 0,
              "ticks": ""
             }
            },
            "type": "scatterternary"
           }
          ],
          "surface": [
           {
            "colorbar": {
             "outlinewidth": 0,
             "ticks": ""
            },
            "colorscale": [
             [
              0,
              "#0d0887"
             ],
             [
              0.1111111111111111,
              "#46039f"
             ],
             [
              0.2222222222222222,
              "#7201a8"
             ],
             [
              0.3333333333333333,
              "#9c179e"
             ],
             [
              0.4444444444444444,
              "#bd3786"
             ],
             [
              0.5555555555555556,
              "#d8576b"
             ],
             [
              0.6666666666666666,
              "#ed7953"
             ],
             [
              0.7777777777777778,
              "#fb9f3a"
             ],
             [
              0.8888888888888888,
              "#fdca26"
             ],
             [
              1,
              "#f0f921"
             ]
            ],
            "type": "surface"
           }
          ],
          "table": [
           {
            "cells": {
             "fill": {
              "color": "#EBF0F8"
             },
             "line": {
              "color": "white"
             }
            },
            "header": {
             "fill": {
              "color": "#C8D4E3"
             },
             "line": {
              "color": "white"
             }
            },
            "type": "table"
           }
          ]
         },
         "layout": {
          "annotationdefaults": {
           "arrowcolor": "#2a3f5f",
           "arrowhead": 0,
           "arrowwidth": 1
          },
          "autotypenumbers": "strict",
          "coloraxis": {
           "colorbar": {
            "outlinewidth": 0,
            "ticks": ""
           }
          },
          "colorscale": {
           "diverging": [
            [
             0,
             "#8e0152"
            ],
            [
             0.1,
             "#c51b7d"
            ],
            [
             0.2,
             "#de77ae"
            ],
            [
             0.3,
             "#f1b6da"
            ],
            [
             0.4,
             "#fde0ef"
            ],
            [
             0.5,
             "#f7f7f7"
            ],
            [
             0.6,
             "#e6f5d0"
            ],
            [
             0.7,
             "#b8e186"
            ],
            [
             0.8,
             "#7fbc41"
            ],
            [
             0.9,
             "#4d9221"
            ],
            [
             1,
             "#276419"
            ]
           ],
           "sequential": [
            [
             0,
             "#0d0887"
            ],
            [
             0.1111111111111111,
             "#46039f"
            ],
            [
             0.2222222222222222,
             "#7201a8"
            ],
            [
             0.3333333333333333,
             "#9c179e"
            ],
            [
             0.4444444444444444,
             "#bd3786"
            ],
            [
             0.5555555555555556,
             "#d8576b"
            ],
            [
             0.6666666666666666,
             "#ed7953"
            ],
            [
             0.7777777777777778,
             "#fb9f3a"
            ],
            [
             0.8888888888888888,
             "#fdca26"
            ],
            [
             1,
             "#f0f921"
            ]
           ],
           "sequentialminus": [
            [
             0,
             "#0d0887"
            ],
            [
             0.1111111111111111,
             "#46039f"
            ],
            [
             0.2222222222222222,
             "#7201a8"
            ],
            [
             0.3333333333333333,
             "#9c179e"
            ],
            [
             0.4444444444444444,
             "#bd3786"
            ],
            [
             0.5555555555555556,
             "#d8576b"
            ],
            [
             0.6666666666666666,
             "#ed7953"
            ],
            [
             0.7777777777777778,
             "#fb9f3a"
            ],
            [
             0.8888888888888888,
             "#fdca26"
            ],
            [
             1,
             "#f0f921"
            ]
           ]
          },
          "colorway": [
           "#636efa",
           "#EF553B",
           "#00cc96",
           "#ab63fa",
           "#FFA15A",
           "#19d3f3",
           "#FF6692",
           "#B6E880",
           "#FF97FF",
           "#FECB52"
          ],
          "font": {
           "color": "#2a3f5f"
          },
          "geo": {
           "bgcolor": "white",
           "lakecolor": "white",
           "landcolor": "#E5ECF6",
           "showlakes": true,
           "showland": true,
           "subunitcolor": "white"
          },
          "hoverlabel": {
           "align": "left"
          },
          "hovermode": "closest",
          "mapbox": {
           "style": "light"
          },
          "paper_bgcolor": "white",
          "plot_bgcolor": "#E5ECF6",
          "polar": {
           "angularaxis": {
            "gridcolor": "white",
            "linecolor": "white",
            "ticks": ""
           },
           "bgcolor": "#E5ECF6",
           "radialaxis": {
            "gridcolor": "white",
            "linecolor": "white",
            "ticks": ""
           }
          },
          "scene": {
           "xaxis": {
            "backgroundcolor": "#E5ECF6",
            "gridcolor": "white",
            "gridwidth": 2,
            "linecolor": "white",
            "showbackground": true,
            "ticks": "",
            "zerolinecolor": "white"
           },
           "yaxis": {
            "backgroundcolor": "#E5ECF6",
            "gridcolor": "white",
            "gridwidth": 2,
            "linecolor": "white",
            "showbackground": true,
            "ticks": "",
            "zerolinecolor": "white"
           },
           "zaxis": {
            "backgroundcolor": "#E5ECF6",
            "gridcolor": "white",
            "gridwidth": 2,
            "linecolor": "white",
            "showbackground": true,
            "ticks": "",
            "zerolinecolor": "white"
           }
          },
          "shapedefaults": {
           "line": {
            "color": "#2a3f5f"
           }
          },
          "ternary": {
           "aaxis": {
            "gridcolor": "white",
            "linecolor": "white",
            "ticks": ""
           },
           "baxis": {
            "gridcolor": "white",
            "linecolor": "white",
            "ticks": ""
           },
           "bgcolor": "#E5ECF6",
           "caxis": {
            "gridcolor": "white",
            "linecolor": "white",
            "ticks": ""
           }
          },
          "title": {
           "x": 0.05
          },
          "xaxis": {
           "automargin": true,
           "gridcolor": "white",
           "linecolor": "white",
           "ticks": "",
           "title": {
            "standoff": 15
           },
           "zerolinecolor": "white",
           "zerolinewidth": 2
          },
          "yaxis": {
           "automargin": true,
           "gridcolor": "white",
           "linecolor": "white",
           "ticks": "",
           "title": {
            "standoff": 15
           },
           "zerolinecolor": "white",
           "zerolinewidth": 2
          }
         }
        },
        "title": {
         "text": "Top 3 Bairros com Mais Incidentes em Belém e Ananindeua"
        },
        "xaxis": {
         "anchor": "y",
         "domain": [
          0,
          1
         ],
         "title": {
          "text": "MUNICÍPIO(S)"
         }
        },
        "yaxis": {
         "anchor": "x",
         "domain": [
          0,
          1
         ],
         "title": {
          "text": "count"
         }
        }
       }
      }
     },
     "metadata": {},
     "output_type": "display_data"
    }
   ],
   "source": [
    "\n",
    "df_filtered = df[df['MUNICÍPIO(S)'].isin(['BELEM', 'ANANINDEUA'])]\n",
    "\n",
    "df_grouped = df_filtered.groupby(['MUNICÍPIO(S)', 'BAIRRO(S)']).size().reset_index(name='count')\n",
    "\n",
    "df_top3 = df_grouped.sort_values(['MUNICÍPIO(S)', 'count'], ascending=False).groupby('MUNICÍPIO(S)').head(3)\n",
    "\n",
    "fig = px.bar(df_top3, x='MUNICÍPIO(S)', y='count', color='BAIRRO(S)', barmode='group',\n",
    "            title='Top 3 Bairros com Mais Incidentes em Belém e Ananindeua')\n",
    "fig.show()"
   ]
  },
  {
   "cell_type": "code",
   "execution_count": 51,
   "metadata": {},
   "outputs": [
    {
     "data": {
      "text/plain": [
       "BAIRRO(S)\n",
       "MARCO                   2232\n",
       "PEDREIRA                1529\n",
       "GUAMA                   1457\n",
       "CIDADE NOVA             1485\n",
       "CENTRO DE ANANINDEUA    1290\n",
       "COQUEIRO ANANINDEUA      862\n",
       "dtype: int64"
      ]
     },
     "execution_count": 51,
     "metadata": {},
     "output_type": "execute_result"
    }
   ],
   "source": [
    "top_3_data_belem = df.groupby(['MUNICÍPIO(S)', 'BAIRRO(S)']).size()['BELEM'].sort_values(ascending=False).head(3)\n",
    "#top_3_data_belem['MUNICÍPIO(S)']= ['BELEM', 'BELEM', 'BELEM', 'ANANINDEUA', 'ANANINDEUA', 'ANANINDEUA' ]\n",
    "#Ananindeua\n",
    "\n",
    "top_3_data_ananindeua = df.groupby(['MUNICÍPIO(S)', 'BAIRRO(S)']).size()['ANANINDEUA'].sort_values(ascending=False).head(3)\n",
    "df_top=pd.concat([top_3_data_belem, top_3_data_ananindeua])\n",
    "df_top"
   ]
  },
  {
   "cell_type": "code",
   "execution_count": 59,
   "metadata": {},
   "outputs": [
    {
     "data": {
      "text/plain": [
       "MUNICÍPIO(S)     BAIRRO(S)                \n",
       "ABAETETUBA       ABAETETUBA                   587\n",
       "                 CENTRO DE ABAETETUBA         846\n",
       "ABEL FIGUEIREDO  ABEL FIGUEIREDO               38\n",
       "                 CENTRO DE ABEL FIGUEIREDO      6\n",
       "ACARA            ACARA                        174\n",
       "                                             ... \n",
       "XINGUARA         SELECTAS                       9\n",
       "                 SETOR BELA VISTA               3\n",
       "                 SETOR MARAJOA II               3\n",
       "                 SETOR NOVO HORIZONTE           7\n",
       "                 TANAKA                        17\n",
       "Name: 0, Length: 566, dtype: int64"
      ]
     },
     "execution_count": 59,
     "metadata": {},
     "output_type": "execute_result"
    }
   ],
   "source": [
    "ab= pd.DataFrame(df.groupby(['MUNICÍPIO(S)', 'BAIRRO(S)']).size())\n",
    "ab[0]"
   ]
  },
  {
   "cell_type": "code",
   "execution_count": 35,
   "metadata": {},
   "outputs": [
    {
     "data": {
      "text/html": [
       "\n",
       "        <iframe\n",
       "            width=\"100%\"\n",
       "            height=\"650\"\n",
       "            src=\"http://127.0.0.1:8050/\"\n",
       "            frameborder=\"0\"\n",
       "            allowfullscreen\n",
       "            \n",
       "        ></iframe>\n",
       "        "
      ],
      "text/plain": [
       "<IPython.lib.display.IFrame at 0x2820619ea10>"
      ]
     },
     "metadata": {},
     "output_type": "display_data"
    },
    {
     "name": "stdout",
     "output_type": "stream",
     "text": [
      "---------------------------------------------------------------------------\n",
      "ValueError                                Traceback (most recent call last)\n",
      "Cell In[35], line 27, in update_bar_chart(_='graph')\n",
      "     22 @appB.callback(\n",
      "     23     Output(\"graph\", \"figure\"), \n",
      "     24     Input(\"graph\", \"id\"))\n",
      "     25 def update_bar_chart(_):\n",
      "---> 27     fig = px.bar(df_top, x='MUNICÍPIO(S)',color='BAIRRO(S)',\n",
      "        df_top = BAIRRO(S)\n",
      "MARCO                   2232\n",
      "PEDREIRA                1529\n",
      "GUAMA                   1457\n",
      "CIDADE NOVA             1485\n",
      "CENTRO DE ANANINDEUA    1290\n",
      "COQUEIRO ANANINDEUA      862\n",
      "dtype: int64\n",
      "        px = <module 'plotly.express' from 'c:\\\\Users\\\\T-GAMER\\\\Desktop\\\\crime_analysis\\\\venv\\\\Lib\\\\site-packages\\\\plotly\\\\express\\\\__init__.py'>\n",
      "     28  barmode=\"group\",height=400)\n",
      "     30     return fig\n",
      "\n",
      "File c:\\Users\\T-GAMER\\Desktop\\crime_analysis\\venv\\Lib\\site-packages\\plotly\\express\\_chart_types.py:373, in bar(\n",
      "    data_frame=BAIRRO(S)\n",
      "MARCO                   2232\n",
      "PEDREIRA ...   1290\n",
      "COQUEIRO ANANINDEUA      862\n",
      "dtype: int64,\n",
      "    x='MUNICÍPIO(S)',\n",
      "    y=None,\n",
      "    color='BAIRRO(S)',\n",
      "    pattern_shape=None,\n",
      "    facet_row=None,\n",
      "    facet_col=None,\n",
      "    facet_col_wrap=0,\n",
      "    facet_row_spacing=None,\n",
      "    facet_col_spacing=None,\n",
      "    hover_name=None,\n",
      "    hover_data=None,\n",
      "    custom_data=None,\n",
      "    text=None,\n",
      "    base=None,\n",
      "    error_x=None,\n",
      "    error_x_minus=None,\n",
      "    error_y=None,\n",
      "    error_y_minus=None,\n",
      "    animation_frame=None,\n",
      "    animation_group=None,\n",
      "    category_orders=None,\n",
      "    labels=None,\n",
      "    color_discrete_sequence=None,\n",
      "    color_discrete_map=None,\n",
      "    color_continuous_scale=None,\n",
      "    pattern_shape_sequence=None,\n",
      "    pattern_shape_map=None,\n",
      "    range_color=None,\n",
      "    color_continuous_midpoint=None,\n",
      "    opacity=None,\n",
      "    orientation=None,\n",
      "    barmode='group',\n",
      "    log_x=False,\n",
      "    log_y=False,\n",
      "    range_x=None,\n",
      "    range_y=None,\n",
      "    text_auto=False,\n",
      "    title=None,\n",
      "    template=None,\n",
      "    width=None,\n",
      "    height=400\n",
      ")\n",
      "    325 def bar(\n",
      "    326     data_frame=None,\n",
      "    327     x=None,\n",
      "   (...)\n",
      "    367     height=None,\n",
      "    368 ) -> go.Figure:\n",
      "    369     \"\"\"\n",
      "    370     In a bar plot, each row of `data_frame` is represented as a rectangular\n",
      "    371     mark.\n",
      "    372     \"\"\"\n",
      "--> 373     return make_figure(\n",
      "        go = <module 'plotly.graph_objs' from 'c:\\\\Users\\\\T-GAMER\\\\Desktop\\\\crime_analysis\\\\venv\\\\Lib\\\\site-packages\\\\plotly\\\\graph_objs\\\\__init__.py'>\n",
      "        barmode = 'group'\n",
      "    374         args=locals(),\n",
      "    375         constructor=go.Bar,\n",
      "    376         trace_patch=dict(textposition=\"auto\"),\n",
      "    377         layout_patch=dict(barmode=barmode),\n",
      "    378     )\n",
      "\n",
      "File c:\\Users\\T-GAMER\\Desktop\\crime_analysis\\venv\\Lib\\site-packages\\plotly\\express\\_core.py:2090, in make_figure(\n",
      "    args={'animation_frame': None, 'animation_group': None, 'barmode': 'group', 'base': None, 'category_orders': None, 'color': 'BAIRRO(S)', 'color_continuous_midpoint': None, 'color_continuous_scale': None, 'color_discrete_map': None, 'color_discrete_sequence': None, ...},\n",
      "    constructor=<class 'plotly.graph_objs._bar.Bar'>,\n",
      "    trace_patch={'textposition': 'auto'},\n",
      "    layout_patch={'barmode': 'group'}\n",
      ")\n",
      "   2087 layout_patch = layout_patch or {}\n",
      "   2088 apply_default_cascade(args)\n",
      "-> 2090 args = build_dataframe(args, constructor)\n",
      "        args = {'data_frame': BAIRRO(S)\n",
      "MARCO                   2232\n",
      "PEDREIRA                1529\n",
      "GUAMA                   1457\n",
      "CIDADE NOVA             1485\n",
      "CENTRO DE ANANINDEUA    1290\n",
      "COQUEIRO ANANINDEUA      862\n",
      "dtype: int64, 'x': 'MUNICÍPIO(S)', 'y': None, 'color': 'BAIRRO(S)', 'pattern_shape': None, 'facet_row': None, 'facet_col': None, 'facet_col_wrap': 0, 'facet_row_spacing': None, 'facet_col_spacing': None, 'hover_name': None, 'hover_data': None, 'custom_data': None, 'text': None, 'base': None, 'error_x': None, 'error_x_minus': None, 'error_y': None, 'error_y_minus': None, 'animation_frame': None, 'animation_group': None, 'category_orders': None, 'labels': None, 'color_discrete_sequence': None, 'color_discrete_map': None, 'color_continuous_scale': None, 'pattern_shape_sequence': None, 'pattern_shape_map': None, 'range_color': None, 'color_continuous_midpoint': None, 'opacity': None, 'orientation': None, 'barmode': 'group', 'log_x': False, 'log_y': False, 'range_x': None, 'range_y': None, 'text_auto': False, 'title': None, 'template': None, 'width': None, 'height': 400}\n",
      "        constructor = <class 'plotly.graph_objs._bar.Bar'>\n",
      "   2091 if constructor in [go.Treemap, go.Sunburst, go.Icicle] and args[\"path\"] is not None:\n",
      "   2092     args = process_dataframe_hierarchy(args)\n",
      "\n",
      "File c:\\Users\\T-GAMER\\Desktop\\crime_analysis\\venv\\Lib\\site-packages\\plotly\\express\\_core.py:1492, in build_dataframe(\n",
      "    args={'animation_frame': None, 'animation_group': None, 'barmode': 'group', 'base': None, 'category_orders': None, 'color': 'BAIRRO(S)', 'color_continuous_midpoint': None, 'color_continuous_scale': None, 'color_discrete_map': None, 'color_discrete_sequence': None, ...},\n",
      "    constructor=<class 'plotly.graph_objs._bar.Bar'>\n",
      ")\n",
      "   1489     args[\"color\"] = None\n",
      "   1490 # now that things have been prepped, we do the systematic rewriting of `args`\n",
      "-> 1492 df_output, wide_id_vars = process_args_into_dataframe(\n",
      "        args = {'data_frame': BAIRRO(S)\n",
      "MARCO                   2232\n",
      "PEDREIRA                1529\n",
      "GUAMA                   1457\n",
      "CIDADE NOVA             1485\n",
      "CENTRO DE ANANINDEUA    1290\n",
      "COQUEIRO ANANINDEUA      862\n",
      "dtype: int64, 'x': 'MUNICÍPIO(S)', 'y': None, 'color': 'BAIRRO(S)', 'pattern_shape': None, 'facet_row': None, 'facet_col': None, 'facet_col_wrap': 0, 'facet_row_spacing': None, 'facet_col_spacing': None, 'hover_name': None, 'hover_data': None, 'custom_data': None, 'text': None, 'base': None, 'error_x': None, 'error_x_minus': None, 'error_y': None, 'error_y_minus': None, 'animation_frame': None, 'animation_group': None, 'category_orders': None, 'labels': None, 'color_discrete_sequence': None, 'color_discrete_map': None, 'color_continuous_scale': None, 'pattern_shape_sequence': None, 'pattern_shape_map': None, 'range_color': None, 'color_continuous_midpoint': None, 'opacity': None, 'orientation': None, 'barmode': 'group', 'log_x': False, 'log_y': False, 'range_x': None, 'range_y': None, 'text_auto': False, 'title': None, 'template': None, 'width': None, 'height': 400}\n",
      "        wide_mode = False\n",
      "        var_name = None\n",
      "        value_name = None\n",
      "   1493     args, wide_mode, var_name, value_name\n",
      "   1494 )\n",
      "   1496 # now that `df_output` exists and `args` contains only references, we complete\n",
      "   1497 # the special-case and wide-mode handling by further rewriting args and/or mutating\n",
      "   1498 # df_output\n",
      "   1500 count_name = _escape_col_name(df_output, \"count\", [var_name, value_name])\n",
      "\n",
      "File c:\\Users\\T-GAMER\\Desktop\\crime_analysis\\venv\\Lib\\site-packages\\plotly\\express\\_core.py:1213, in process_args_into_dataframe(\n",
      "    args={'animation_frame': None, 'animation_group': None, 'barmode': 'group', 'base': None, 'category_orders': None, 'color': 'BAIRRO(S)', 'color_continuous_midpoint': None, 'color_continuous_scale': None, 'color_discrete_map': None, 'color_discrete_sequence': None, ...},\n",
      "    wide_mode=False,\n",
      "    var_name=None,\n",
      "    value_name=None\n",
      ")\n",
      "   1211         if argument == \"index\":\n",
      "   1212             err_msg += \"\\n To use the index, pass it in directly as `df.index`.\"\n",
      "-> 1213         raise ValueError(err_msg)\n",
      "        err_msg = \"Value of 'x' is not the name of a column in 'data_frame'. Expected one of [0] but received: MUNICÍPIO(S)\"\n",
      "   1214 elif length and len(df_input[argument]) != length:\n",
      "   1215     raise ValueError(\n",
      "   1216         \"All arguments should have the same length. \"\n",
      "   1217         \"The length of column argument `df[%s]` is %d, whereas the \"\n",
      "   (...)\n",
      "   1224         )\n",
      "   1225     )\n",
      "\n",
      "ValueError: Value of 'x' is not the name of a column in 'data_frame'. Expected one of [0] but received: MUNICÍPIO(S)\n",
      "\n",
      "---------------------------------------------------------------------------\n",
      "ValueError                                Traceback (most recent call last)\n",
      "Cell In[35], line 27, in update_bar_chart(_='graph')\n",
      "     22 @appB.callback(\n",
      "     23     Output(\"graph\", \"figure\"), \n",
      "     24     Input(\"graph\", \"id\"))\n",
      "     25 def update_bar_chart(_):\n",
      "---> 27     fig = px.bar(df_top, x='MUNICÍPIO(S)',color='BAIRRO(S)',\n",
      "        df_top = BAIRRO(S)\n",
      "MARCO                   2232\n",
      "PEDREIRA                1529\n",
      "GUAMA                   1457\n",
      "CIDADE NOVA             1485\n",
      "CENTRO DE ANANINDEUA    1290\n",
      "COQUEIRO ANANINDEUA      862\n",
      "dtype: int64\n",
      "        px = <module 'plotly.express' from 'c:\\\\Users\\\\T-GAMER\\\\Desktop\\\\crime_analysis\\\\venv\\\\Lib\\\\site-packages\\\\plotly\\\\express\\\\__init__.py'>\n",
      "     28  barmode=\"group\",height=400)\n",
      "     30     return fig\n",
      "\n",
      "File c:\\Users\\T-GAMER\\Desktop\\crime_analysis\\venv\\Lib\\site-packages\\plotly\\express\\_chart_types.py:373, in bar(\n",
      "    data_frame=BAIRRO(S)\n",
      "MARCO                   2232\n",
      "PEDREIRA ...   1290\n",
      "COQUEIRO ANANINDEUA      862\n",
      "dtype: int64,\n",
      "    x='MUNICÍPIO(S)',\n",
      "    y=None,\n",
      "    color='BAIRRO(S)',\n",
      "    pattern_shape=None,\n",
      "    facet_row=None,\n",
      "    facet_col=None,\n",
      "    facet_col_wrap=0,\n",
      "    facet_row_spacing=None,\n",
      "    facet_col_spacing=None,\n",
      "    hover_name=None,\n",
      "    hover_data=None,\n",
      "    custom_data=None,\n",
      "    text=None,\n",
      "    base=None,\n",
      "    error_x=None,\n",
      "    error_x_minus=None,\n",
      "    error_y=None,\n",
      "    error_y_minus=None,\n",
      "    animation_frame=None,\n",
      "    animation_group=None,\n",
      "    category_orders=None,\n",
      "    labels=None,\n",
      "    color_discrete_sequence=None,\n",
      "    color_discrete_map=None,\n",
      "    color_continuous_scale=None,\n",
      "    pattern_shape_sequence=None,\n",
      "    pattern_shape_map=None,\n",
      "    range_color=None,\n",
      "    color_continuous_midpoint=None,\n",
      "    opacity=None,\n",
      "    orientation=None,\n",
      "    barmode='group',\n",
      "    log_x=False,\n",
      "    log_y=False,\n",
      "    range_x=None,\n",
      "    range_y=None,\n",
      "    text_auto=False,\n",
      "    title=None,\n",
      "    template=None,\n",
      "    width=None,\n",
      "    height=400\n",
      ")\n",
      "    325 def bar(\n",
      "    326     data_frame=None,\n",
      "    327     x=None,\n",
      "   (...)\n",
      "    367     height=None,\n",
      "    368 ) -> go.Figure:\n",
      "    369     \"\"\"\n",
      "    370     In a bar plot, each row of `data_frame` is represented as a rectangular\n",
      "    371     mark.\n",
      "    372     \"\"\"\n",
      "--> 373     return make_figure(\n",
      "        go = <module 'plotly.graph_objs' from 'c:\\\\Users\\\\T-GAMER\\\\Desktop\\\\crime_analysis\\\\venv\\\\Lib\\\\site-packages\\\\plotly\\\\graph_objs\\\\__init__.py'>\n",
      "        barmode = 'group'\n",
      "    374         args=locals(),\n",
      "    375         constructor=go.Bar,\n",
      "    376         trace_patch=dict(textposition=\"auto\"),\n",
      "    377         layout_patch=dict(barmode=barmode),\n",
      "    378     )\n",
      "\n",
      "File c:\\Users\\T-GAMER\\Desktop\\crime_analysis\\venv\\Lib\\site-packages\\plotly\\express\\_core.py:2090, in make_figure(\n",
      "    args={'animation_frame': None, 'animation_group': None, 'barmode': 'group', 'base': None, 'category_orders': None, 'color': 'BAIRRO(S)', 'color_continuous_midpoint': None, 'color_continuous_scale': None, 'color_discrete_map': None, 'color_discrete_sequence': None, ...},\n",
      "    constructor=<class 'plotly.graph_objs._bar.Bar'>,\n",
      "    trace_patch={'textposition': 'auto'},\n",
      "    layout_patch={'barmode': 'group'}\n",
      ")\n",
      "   2087 layout_patch = layout_patch or {}\n",
      "   2088 apply_default_cascade(args)\n",
      "-> 2090 args = build_dataframe(args, constructor)\n",
      "        args = {'data_frame': BAIRRO(S)\n",
      "MARCO                   2232\n",
      "PEDREIRA                1529\n",
      "GUAMA                   1457\n",
      "CIDADE NOVA             1485\n",
      "CENTRO DE ANANINDEUA    1290\n",
      "COQUEIRO ANANINDEUA      862\n",
      "dtype: int64, 'x': 'MUNICÍPIO(S)', 'y': None, 'color': 'BAIRRO(S)', 'pattern_shape': None, 'facet_row': None, 'facet_col': None, 'facet_col_wrap': 0, 'facet_row_spacing': None, 'facet_col_spacing': None, 'hover_name': None, 'hover_data': None, 'custom_data': None, 'text': None, 'base': None, 'error_x': None, 'error_x_minus': None, 'error_y': None, 'error_y_minus': None, 'animation_frame': None, 'animation_group': None, 'category_orders': None, 'labels': None, 'color_discrete_sequence': None, 'color_discrete_map': None, 'color_continuous_scale': None, 'pattern_shape_sequence': None, 'pattern_shape_map': None, 'range_color': None, 'color_continuous_midpoint': None, 'opacity': None, 'orientation': None, 'barmode': 'group', 'log_x': False, 'log_y': False, 'range_x': None, 'range_y': None, 'text_auto': False, 'title': None, 'template': None, 'width': None, 'height': 400}\n",
      "        constructor = <class 'plotly.graph_objs._bar.Bar'>\n",
      "   2091 if constructor in [go.Treemap, go.Sunburst, go.Icicle] and args[\"path\"] is not None:\n",
      "   2092     args = process_dataframe_hierarchy(args)\n",
      "\n",
      "File c:\\Users\\T-GAMER\\Desktop\\crime_analysis\\venv\\Lib\\site-packages\\plotly\\express\\_core.py:1492, in build_dataframe(\n",
      "    args={'animation_frame': None, 'animation_group': None, 'barmode': 'group', 'base': None, 'category_orders': None, 'color': 'BAIRRO(S)', 'color_continuous_midpoint': None, 'color_continuous_scale': None, 'color_discrete_map': None, 'color_discrete_sequence': None, ...},\n",
      "    constructor=<class 'plotly.graph_objs._bar.Bar'>\n",
      ")\n",
      "   1489     args[\"color\"] = None\n",
      "   1490 # now that things have been prepped, we do the systematic rewriting of `args`\n",
      "-> 1492 df_output, wide_id_vars = process_args_into_dataframe(\n",
      "        args = {'data_frame': BAIRRO(S)\n",
      "MARCO                   2232\n",
      "PEDREIRA                1529\n",
      "GUAMA                   1457\n",
      "CIDADE NOVA             1485\n",
      "CENTRO DE ANANINDEUA    1290\n",
      "COQUEIRO ANANINDEUA      862\n",
      "dtype: int64, 'x': 'MUNICÍPIO(S)', 'y': None, 'color': 'BAIRRO(S)', 'pattern_shape': None, 'facet_row': None, 'facet_col': None, 'facet_col_wrap': 0, 'facet_row_spacing': None, 'facet_col_spacing': None, 'hover_name': None, 'hover_data': None, 'custom_data': None, 'text': None, 'base': None, 'error_x': None, 'error_x_minus': None, 'error_y': None, 'error_y_minus': None, 'animation_frame': None, 'animation_group': None, 'category_orders': None, 'labels': None, 'color_discrete_sequence': None, 'color_discrete_map': None, 'color_continuous_scale': None, 'pattern_shape_sequence': None, 'pattern_shape_map': None, 'range_color': None, 'color_continuous_midpoint': None, 'opacity': None, 'orientation': None, 'barmode': 'group', 'log_x': False, 'log_y': False, 'range_x': None, 'range_y': None, 'text_auto': False, 'title': None, 'template': None, 'width': None, 'height': 400}\n",
      "        wide_mode = False\n",
      "        var_name = None\n",
      "        value_name = None\n",
      "   1493     args, wide_mode, var_name, value_name\n",
      "   1494 )\n",
      "   1496 # now that `df_output` exists and `args` contains only references, we complete\n",
      "   1497 # the special-case and wide-mode handling by further rewriting args and/or mutating\n",
      "   1498 # df_output\n",
      "   1500 count_name = _escape_col_name(df_output, \"count\", [var_name, value_name])\n",
      "\n",
      "File c:\\Users\\T-GAMER\\Desktop\\crime_analysis\\venv\\Lib\\site-packages\\plotly\\express\\_core.py:1213, in process_args_into_dataframe(\n",
      "    args={'animation_frame': None, 'animation_group': None, 'barmode': 'group', 'base': None, 'category_orders': None, 'color': 'BAIRRO(S)', 'color_continuous_midpoint': None, 'color_continuous_scale': None, 'color_discrete_map': None, 'color_discrete_sequence': None, ...},\n",
      "    wide_mode=False,\n",
      "    var_name=None,\n",
      "    value_name=None\n",
      ")\n",
      "   1211         if argument == \"index\":\n",
      "   1212             err_msg += \"\\n To use the index, pass it in directly as `df.index`.\"\n",
      "-> 1213         raise ValueError(err_msg)\n",
      "        err_msg = \"Value of 'x' is not the name of a column in 'data_frame'. Expected one of [0] but received: MUNICÍPIO(S)\"\n",
      "   1214 elif length and len(df_input[argument]) != length:\n",
      "   1215     raise ValueError(\n",
      "   1216         \"All arguments should have the same length. \"\n",
      "   1217         \"The length of column argument `df[%s]` is %d, whereas the \"\n",
      "   (...)\n",
      "   1224         )\n",
      "   1225     )\n",
      "\n",
      "ValueError: Value of 'x' is not the name of a column in 'data_frame'. Expected one of [0] but received: MUNICÍPIO(S)\n",
      "\n"
     ]
    }
   ],
   "source": [
    "\n",
    "#Belem\n",
    "top_3_data_belem = df.groupby(['MUNICÍPIO(S)', 'BAIRRO(S)']).size()['BELEM'].sort_values(ascending=False).head(3)\n",
    "\n",
    "#Ananindeua\n",
    "\n",
    "top_3_data_ananindeua = df.groupby(['MUNICÍPIO(S)', 'BAIRRO(S)']).size()['ANANINDEUA'].sort_values(ascending=False).head(3)\n",
    "df_top= pd.concat([top_3_data_belem, top_3_data_ananindeua])\n",
    "color_map = {\n",
    "    'MARCO': '#636EFA',   # Substitua 'Bairro1_Belem' pelo nome real do bairro\n",
    "    'PEDREIRA': '#EF553B',\n",
    "    'CAMPINA': '#00CC96',\n",
    "    'CIDADE NOVA': '#AB63FA',\n",
    "    'CENTRO DE ANANINDEUA': '#19D3F3',\n",
    "    'COQUEIRO ANANINDEUA': '#FFA15A'\n",
    "}\n",
    "\n",
    "appB = Dash(__name__)\n",
    "appB.layout = html.Div([\n",
    "    html.H4('Furtos por bairro em Belém e Ananindeua'),\n",
    "    dcc.Graph(id=\"graph\")\n",
    "])\n",
    "@appB.callback(\n",
    "    Output(\"graph\", \"figure\"), \n",
    "    Input(\"graph\", \"id\"))\n",
    "def update_bar_chart(_):\n",
    "    \n",
    "    fig = px.bar(df_top, x='MUNICÍPIO(S)',color='BAIRRO(S)',\n",
    " barmode=\"group\",height=400)\n",
    "    \n",
    "    return fig\n",
    "\n",
    "appB.run_server(debug=True)"
   ]
  },
  {
   "cell_type": "code",
   "execution_count": 38,
   "metadata": {},
   "outputs": [
    {
     "data": {
      "text/plain": [
       "BAIRRO(S)\n",
       "AEROPORTO         39\n",
       "AGUA BOA         169\n",
       "AGUAS NEGRAS     105\n",
       "AGULHA           263\n",
       "ARIRAMBA          48\n",
       "                ... \n",
       "TERRA FIRME      562\n",
       "UMARIZAL        1314\n",
       "UNA               60\n",
       "VAL-DE-CANS      264\n",
       "VILA             102\n",
       "Length: 68, dtype: int64"
      ]
     },
     "execution_count": 38,
     "metadata": {},
     "output_type": "execute_result"
    }
   ],
   "source": [
    "df.groupby(['MUNICÍPIO(S)', 'BAIRRO(S)']).size()['BELEM']"
   ]
  },
  {
   "cell_type": "code",
   "execution_count": 13,
   "metadata": {},
   "outputs": [
    {
     "data": {
      "application/vnd.plotly.v1+json": {
       "config": {
        "plotlyServerURL": "https://plot.ly"
       },
       "data": [
        {
         "alignmentgroup": "True",
         "hovertemplate": "MÊS DO FATO=%{x}<br>count=%{y}<extra></extra>",
         "legendgroup": "",
         "marker": {
          "color": "#636efa",
          "pattern": {
           "shape": ""
          }
         },
         "name": "",
         "offsetgroup": "",
         "orientation": "v",
         "showlegend": false,
         "textposition": "auto",
         "type": "bar",
         "x": [
          "MARCO",
          "MAIO",
          "MAIO",
          "MAIO",
          "MAIO",
          "MAIO",
          "MAIO",
          "MAIO",
          "MAIO",
          "MAIO",
          "MAIO",
          "MAIO",
          "MAIO",
          "MAIO",
          "MAIO",
          "MAIO",
          "MAIO",
          "MAIO",
          "MAIO",
          "MAIO",
          "MAIO",
          "MAIO",
          "MAIO",
          "MAIO",
          "MAIO",
          "MAIO",
          "MAIO",
          "MAIO",
          "MAIO",
          "MAIO",
          "MAIO",
          "MAIO",
          "MAIO",
          "MAIO",
          "MAIO",
          "MAIO",
          "MAIO",
          "MAIO",
          "MAIO",
          "MAIO",
          "MAIO",
          "MAIO",
          "MARCO",
          "MAIO",
          "MAIO",
          "MAIO",
          "MAIO",
          "MAIO",
          "MAIO",
          "MAIO",
          "MAIO",
          "MAIO",
          "MAIO",
          "MAIO",
          "MAIO",
          "MAIO",
          "MAIO",
          "MAIO",
          "MAIO",
          "MAIO",
          "MAIO",
          "MAIO",
          "MAIO",
          "MAIO",
          "MAIO",
          "ABRIL",
          "MAIO",
          "MAIO",
          "MAIO",
          "MAIO",
          "MAIO",
          "MAIO",
          "MAIO",
          "MAIO",
          "MAIO",
          "MAIO",
          "MAIO",
          "MAIO",
          "MAIO",
          "MAIO",
          "MAIO",
          "MAIO",
          "MAIO",
          "MAIO",
          "MAIO",
          "MAIO",
          "MAIO",
          "MAIO",
          "MAIO",
          "MAIO",
          "MAIO",
          "MAIO",
          "MAIO",
          "MAIO",
          "MAIO",
          "MAIO",
          "MAIO",
          "MAIO",
          "ABRIL",
          "ABRIL",
          "MAIO",
          "MAIO",
          "MAIO",
          "MAIO",
          "MAIO",
          "MARCO",
          "MAIO",
          "MAIO",
          "MAIO",
          "MAIO",
          "MAIO",
          "MAIO",
          "MAIO",
          "MAIO",
          "MAIO",
          "MAIO",
          "MAIO",
          "MAIO",
          "MAIO",
          "MAIO",
          "MAIO",
          "MAIO",
          "MAIO",
          "MAIO",
          "MAIO",
          "MAIO",
          "MAIO",
          "MAIO",
          "MAIO",
          "MAIO",
          "MAIO",
          "MAIO",
          "MAIO",
          "MAIO",
          "MAIO",
          "MAIO",
          "MAIO",
          "MAIO",
          "MAIO",
          "MAIO",
          "MAIO",
          "MAIO",
          "MAIO",
          "MAIO",
          "MAIO",
          "MAIO",
          "MAIO",
          "MAIO",
          "MAIO",
          "MAIO",
          "MAIO",
          "MAIO",
          "MAIO",
          "MAIO",
          "MAIO",
          "MAIO",
          "MAIO",
          "MAIO",
          "MAIO",
          "MAIO",
          "MAIO",
          "MAIO",
          "MAIO",
          "MAIO",
          "MAIO",
          "MAIO",
          "MAIO",
          "MAIO",
          "ABRIL",
          "MAIO",
          "MARCO",
          "MAIO",
          "MAIO",
          "MAIO",
          "MAIO",
          "MAIO",
          "MAIO",
          "MAIO",
          "MAIO",
          "MAIO",
          "MAIO",
          "MAIO",
          "MAIO",
          "MAIO",
          "MAIO",
          "MAIO",
          "MAIO",
          "MAIO",
          "MAIO",
          "MAIO",
          "MAIO",
          "MAIO",
          "MAIO",
          "MAIO",
          "MAIO",
          "MAIO",
          "MAIO",
          "MAIO",
          "MARCO",
          "MAIO",
          "MARCO",
          "MAIO",
          "MAIO",
          "MAIO",
          "MAIO",
          "MAIO",
          "MAIO",
          "MAIO",
          "MAIO",
          "MAIO",
          "MAIO",
          "MAIO",
          "MAIO",
          "MAIO",
          "MAIO",
          "MAIO",
          "MAIO",
          "MAIO",
          "MAIO",
          "MAIO",
          "MAIO",
          "MAIO",
          "MAIO",
          "MAIO",
          "MAIO",
          "MAIO",
          "MAIO",
          "MAIO",
          "MAIO",
          "MAIO",
          "MAIO",
          "MAIO",
          "MAIO",
          "MAIO",
          "MAIO",
          "MAIO",
          "MARCO",
          "MAIO",
          "MAIO",
          "MAIO",
          "MAIO",
          "MAIO",
          "MAIO",
          "MAIO",
          "MAIO",
          "MAIO",
          "MAIO",
          "MAIO",
          "MAIO",
          "MAIO",
          "MAIO",
          "MAIO",
          "MAIO",
          "MAIO",
          "MAIO",
          "MARCO",
          "MAIO",
          "MAIO",
          "MAIO",
          "MAIO",
          "MAIO",
          "MAIO",
          "MAIO",
          "MAIO",
          "MAIO",
          "ABRIL",
          "MAIO",
          "MAIO",
          "MAIO",
          "MAIO",
          "MAIO",
          "MAIO",
          "MAIO",
          "MAIO",
          "MAIO",
          "MAIO",
          "MAIO",
          "MAIO",
          "MAIO",
          "MAIO",
          "MAIO",
          "MAIO",
          "MAIO",
          "MAIO",
          "MAIO",
          "MAIO",
          "MAIO",
          "MAIO",
          "MAIO",
          "MAIO",
          "MAIO",
          "MAIO",
          "MAIO",
          "ABRIL",
          "MAIO",
          "MAIO",
          "MAIO",
          "MAIO",
          "MAIO",
          "MAIO",
          "MAIO",
          "JANEIRO",
          "MAIO",
          "MAIO",
          "MAIO",
          "MAIO",
          "MAIO",
          "MAIO",
          "MAIO",
          "MAIO",
          "MAIO",
          "MAIO",
          "MAIO",
          "ABRIL",
          "MAIO",
          "MAIO",
          "MAIO",
          "MAIO",
          "MAIO",
          "MAIO",
          "MAIO",
          "MAIO",
          "MAIO",
          "MAIO",
          "MAIO",
          "MAIO",
          "MAIO",
          "MAIO",
          "MAIO",
          "MAIO",
          "MAIO",
          "MAIO",
          "MAIO",
          "MAIO",
          "MAIO",
          "MAIO",
          "MAIO",
          "MAIO",
          "MAIO",
          "MAIO",
          "MAIO",
          "MAIO",
          "MAIO",
          "MAIO",
          "MAIO",
          "MAIO",
          "MAIO",
          "MAIO",
          "MAIO",
          "MAIO",
          "MAIO",
          "MAIO",
          "MAIO",
          "MAIO",
          "MAIO",
          "MAIO",
          "MAIO",
          "MAIO",
          "MAIO",
          "MAIO",
          "MAIO",
          "MAIO",
          "MAIO",
          "MAIO",
          "MAIO",
          "MAIO",
          "MAIO",
          "MAIO",
          "MAIO",
          "MAIO",
          "MAIO",
          "MAIO",
          "MAIO",
          "MAIO",
          "MAIO",
          "MAIO",
          "MAIO",
          "MAIO",
          "MAIO",
          "MAIO",
          "MAIO",
          "MAIO",
          "MAIO",
          "MAIO",
          "MAIO",
          "MAIO",
          "MAIO",
          "MAIO",
          "MAIO",
          "ABRIL",
          "MAIO",
          "MAIO",
          "MAIO",
          "MAIO",
          "MAIO",
          "MAIO",
          "MAIO",
          "MAIO",
          "MAIO",
          "ABRIL",
          "MAIO",
          "MAIO",
          "MAIO",
          "MAIO",
          "MAIO",
          "MAIO",
          "MAIO",
          "MAIO",
          "MAIO",
          "MAIO",
          "MAIO",
          "MAIO",
          "MAIO",
          "MAIO",
          "MAIO",
          "MAIO",
          "MAIO",
          "MARCO",
          "MAIO",
          "MAIO",
          "MAIO",
          "MAIO",
          "MAIO",
          "MAIO",
          "MAIO",
          "MAIO",
          "MAIO",
          "MAIO",
          "MAIO",
          "MAIO",
          "MAIO",
          "MAIO",
          "MAIO",
          "MAIO",
          "MAIO",
          "MAIO",
          "MAIO",
          "MAIO",
          "MAIO",
          "MAIO",
          "MAIO",
          "MAIO",
          "MAIO",
          "MAIO",
          "MAIO",
          "MAIO",
          "MAIO",
          "MAIO",
          "MAIO",
          "MAIO",
          "MAIO",
          "MAIO",
          "ABRIL",
          "MAIO",
          "MAIO",
          "MAIO",
          "MAIO",
          "MAIO",
          "MAIO",
          "MAIO",
          "MAIO",
          "MAIO",
          "MAIO",
          "MAIO",
          "MAIO",
          "MAIO",
          "MAIO",
          "MAIO",
          "MAIO",
          "MAIO",
          "MAIO",
          "MAIO",
          "MAIO",
          "MAIO",
          "MAIO",
          "MAIO",
          "MAIO",
          "MAIO",
          "MAIO",
          "MAIO",
          "MAIO",
          "MAIO",
          "MAIO",
          "MAIO",
          "MAIO",
          "MAIO",
          "MAIO",
          "MAIO",
          "MAIO",
          "MAIO",
          "MAIO",
          "MAIO",
          "MAIO",
          "MAIO",
          "MAIO",
          "MAIO",
          "MAIO",
          "MAIO",
          "MAIO",
          "MAIO"
         ],
         "xaxis": "x",
         "y": [
          1,
          1,
          1,
          1,
          1,
          1,
          1,
          1,
          1,
          1,
          1,
          1,
          1,
          1,
          1,
          1,
          1,
          1,
          1,
          1,
          1,
          1,
          1,
          1,
          1,
          1,
          1,
          1,
          1,
          1,
          1,
          1,
          1,
          1,
          1,
          1,
          1,
          1,
          1,
          1,
          1,
          1,
          1,
          1,
          1,
          1,
          1,
          1,
          1,
          1,
          1,
          1,
          1,
          1,
          1,
          1,
          1,
          1,
          1,
          1,
          1,
          1,
          1,
          1,
          1,
          1,
          1,
          1,
          1,
          1,
          1,
          1,
          1,
          1,
          1,
          1,
          1,
          1,
          1,
          1,
          1,
          1,
          1,
          1,
          1,
          1,
          1,
          1,
          1,
          1,
          1,
          1,
          1,
          1,
          1,
          1,
          1,
          1,
          1,
          1,
          1,
          1,
          1,
          1,
          1,
          1,
          1,
          1,
          1,
          1,
          1,
          1,
          1,
          1,
          1,
          1,
          1,
          1,
          1,
          1,
          1,
          1,
          1,
          1,
          1,
          1,
          1,
          1,
          1,
          1,
          1,
          1,
          1,
          1,
          1,
          1,
          1,
          1,
          1,
          1,
          1,
          1,
          1,
          1,
          1,
          1,
          1,
          1,
          1,
          1,
          1,
          1,
          1,
          1,
          1,
          1,
          1,
          1,
          1,
          1,
          1,
          1,
          1,
          1,
          1,
          1,
          1,
          1,
          1,
          1,
          1,
          1,
          1,
          1,
          1,
          1,
          1,
          1,
          1,
          1,
          1,
          1,
          1,
          1,
          1,
          1,
          1,
          1,
          1,
          1,
          1,
          1,
          1,
          1,
          1,
          1,
          1,
          1,
          1,
          1,
          1,
          1,
          1,
          1,
          1,
          1,
          1,
          1,
          1,
          1,
          1,
          1,
          1,
          1,
          1,
          1,
          1,
          1,
          1,
          1,
          1,
          1,
          1,
          1,
          1,
          1,
          1,
          1,
          1,
          1,
          1,
          1,
          1,
          1,
          1,
          1,
          1,
          1,
          1,
          1,
          1,
          1,
          1,
          1,
          1,
          1,
          1,
          1,
          1,
          1,
          1,
          1,
          1,
          1,
          1,
          1,
          1,
          1,
          1,
          1,
          1,
          1,
          1,
          1,
          1,
          1,
          1,
          1,
          1,
          1,
          1,
          1,
          1,
          1,
          1,
          1,
          1,
          1,
          1,
          1,
          1,
          1,
          1,
          1,
          1,
          1,
          1,
          1,
          1,
          1,
          1,
          1,
          1,
          1,
          1,
          1,
          1,
          1,
          1,
          1,
          1,
          1,
          1,
          1,
          1,
          1,
          1,
          1,
          1,
          1,
          1,
          1,
          1,
          1,
          1,
          1,
          1,
          1,
          1,
          1,
          1,
          1,
          1,
          1,
          1,
          1,
          1,
          1,
          1,
          1,
          1,
          1,
          1,
          1,
          1,
          1,
          1,
          1,
          1,
          1,
          1,
          1,
          1,
          1,
          1,
          1,
          1,
          1,
          1,
          1,
          1,
          1,
          1,
          1,
          1,
          1,
          1,
          1,
          1,
          1,
          1,
          1,
          1,
          1,
          1,
          1,
          1,
          1,
          1,
          1,
          1,
          1,
          1,
          1,
          1,
          1,
          1,
          1,
          1,
          1,
          1,
          1,
          1,
          1,
          1,
          1,
          1,
          1,
          1,
          1,
          1,
          1,
          1,
          1,
          1,
          1,
          1,
          1,
          1,
          1,
          1,
          1,
          1,
          1,
          1,
          1,
          1,
          1,
          1,
          1,
          1,
          1,
          1,
          1,
          1,
          1,
          1,
          1,
          1,
          1,
          1,
          1,
          1,
          1,
          1,
          1,
          1,
          1,
          1,
          1,
          1,
          1,
          1,
          1,
          1,
          1,
          1,
          1,
          1,
          1,
          1,
          1,
          1,
          1,
          1,
          1,
          1,
          1,
          1,
          1,
          1,
          1,
          1,
          1,
          1,
          1,
          1,
          1,
          1,
          1,
          1,
          1,
          1,
          1,
          1,
          1,
          1,
          1,
          1,
          1,
          1,
          1,
          1,
          1,
          1,
          1,
          1,
          1,
          1,
          1,
          1,
          1,
          1,
          1,
          1,
          1,
          1,
          1,
          1,
          1,
          1,
          1,
          1,
          1,
          1,
          1,
          1,
          1,
          1,
          1
         ],
         "yaxis": "y"
        }
       ],
       "layout": {
        "barmode": "relative",
        "legend": {
         "tracegroupgap": 0
        },
        "margin": {
         "t": 60
        },
        "template": {
         "data": {
          "bar": [
           {
            "error_x": {
             "color": "#2a3f5f"
            },
            "error_y": {
             "color": "#2a3f5f"
            },
            "marker": {
             "line": {
              "color": "#E5ECF6",
              "width": 0.5
             },
             "pattern": {
              "fillmode": "overlay",
              "size": 10,
              "solidity": 0.2
             }
            },
            "type": "bar"
           }
          ],
          "barpolar": [
           {
            "marker": {
             "line": {
              "color": "#E5ECF6",
              "width": 0.5
             },
             "pattern": {
              "fillmode": "overlay",
              "size": 10,
              "solidity": 0.2
             }
            },
            "type": "barpolar"
           }
          ],
          "carpet": [
           {
            "aaxis": {
             "endlinecolor": "#2a3f5f",
             "gridcolor": "white",
             "linecolor": "white",
             "minorgridcolor": "white",
             "startlinecolor": "#2a3f5f"
            },
            "baxis": {
             "endlinecolor": "#2a3f5f",
             "gridcolor": "white",
             "linecolor": "white",
             "minorgridcolor": "white",
             "startlinecolor": "#2a3f5f"
            },
            "type": "carpet"
           }
          ],
          "choropleth": [
           {
            "colorbar": {
             "outlinewidth": 0,
             "ticks": ""
            },
            "type": "choropleth"
           }
          ],
          "contour": [
           {
            "colorbar": {
             "outlinewidth": 0,
             "ticks": ""
            },
            "colorscale": [
             [
              0,
              "#0d0887"
             ],
             [
              0.1111111111111111,
              "#46039f"
             ],
             [
              0.2222222222222222,
              "#7201a8"
             ],
             [
              0.3333333333333333,
              "#9c179e"
             ],
             [
              0.4444444444444444,
              "#bd3786"
             ],
             [
              0.5555555555555556,
              "#d8576b"
             ],
             [
              0.6666666666666666,
              "#ed7953"
             ],
             [
              0.7777777777777778,
              "#fb9f3a"
             ],
             [
              0.8888888888888888,
              "#fdca26"
             ],
             [
              1,
              "#f0f921"
             ]
            ],
            "type": "contour"
           }
          ],
          "contourcarpet": [
           {
            "colorbar": {
             "outlinewidth": 0,
             "ticks": ""
            },
            "type": "contourcarpet"
           }
          ],
          "heatmap": [
           {
            "colorbar": {
             "outlinewidth": 0,
             "ticks": ""
            },
            "colorscale": [
             [
              0,
              "#0d0887"
             ],
             [
              0.1111111111111111,
              "#46039f"
             ],
             [
              0.2222222222222222,
              "#7201a8"
             ],
             [
              0.3333333333333333,
              "#9c179e"
             ],
             [
              0.4444444444444444,
              "#bd3786"
             ],
             [
              0.5555555555555556,
              "#d8576b"
             ],
             [
              0.6666666666666666,
              "#ed7953"
             ],
             [
              0.7777777777777778,
              "#fb9f3a"
             ],
             [
              0.8888888888888888,
              "#fdca26"
             ],
             [
              1,
              "#f0f921"
             ]
            ],
            "type": "heatmap"
           }
          ],
          "heatmapgl": [
           {
            "colorbar": {
             "outlinewidth": 0,
             "ticks": ""
            },
            "colorscale": [
             [
              0,
              "#0d0887"
             ],
             [
              0.1111111111111111,
              "#46039f"
             ],
             [
              0.2222222222222222,
              "#7201a8"
             ],
             [
              0.3333333333333333,
              "#9c179e"
             ],
             [
              0.4444444444444444,
              "#bd3786"
             ],
             [
              0.5555555555555556,
              "#d8576b"
             ],
             [
              0.6666666666666666,
              "#ed7953"
             ],
             [
              0.7777777777777778,
              "#fb9f3a"
             ],
             [
              0.8888888888888888,
              "#fdca26"
             ],
             [
              1,
              "#f0f921"
             ]
            ],
            "type": "heatmapgl"
           }
          ],
          "histogram": [
           {
            "marker": {
             "pattern": {
              "fillmode": "overlay",
              "size": 10,
              "solidity": 0.2
             }
            },
            "type": "histogram"
           }
          ],
          "histogram2d": [
           {
            "colorbar": {
             "outlinewidth": 0,
             "ticks": ""
            },
            "colorscale": [
             [
              0,
              "#0d0887"
             ],
             [
              0.1111111111111111,
              "#46039f"
             ],
             [
              0.2222222222222222,
              "#7201a8"
             ],
             [
              0.3333333333333333,
              "#9c179e"
             ],
             [
              0.4444444444444444,
              "#bd3786"
             ],
             [
              0.5555555555555556,
              "#d8576b"
             ],
             [
              0.6666666666666666,
              "#ed7953"
             ],
             [
              0.7777777777777778,
              "#fb9f3a"
             ],
             [
              0.8888888888888888,
              "#fdca26"
             ],
             [
              1,
              "#f0f921"
             ]
            ],
            "type": "histogram2d"
           }
          ],
          "histogram2dcontour": [
           {
            "colorbar": {
             "outlinewidth": 0,
             "ticks": ""
            },
            "colorscale": [
             [
              0,
              "#0d0887"
             ],
             [
              0.1111111111111111,
              "#46039f"
             ],
             [
              0.2222222222222222,
              "#7201a8"
             ],
             [
              0.3333333333333333,
              "#9c179e"
             ],
             [
              0.4444444444444444,
              "#bd3786"
             ],
             [
              0.5555555555555556,
              "#d8576b"
             ],
             [
              0.6666666666666666,
              "#ed7953"
             ],
             [
              0.7777777777777778,
              "#fb9f3a"
             ],
             [
              0.8888888888888888,
              "#fdca26"
             ],
             [
              1,
              "#f0f921"
             ]
            ],
            "type": "histogram2dcontour"
           }
          ],
          "mesh3d": [
           {
            "colorbar": {
             "outlinewidth": 0,
             "ticks": ""
            },
            "type": "mesh3d"
           }
          ],
          "parcoords": [
           {
            "line": {
             "colorbar": {
              "outlinewidth": 0,
              "ticks": ""
             }
            },
            "type": "parcoords"
           }
          ],
          "pie": [
           {
            "automargin": true,
            "type": "pie"
           }
          ],
          "scatter": [
           {
            "fillpattern": {
             "fillmode": "overlay",
             "size": 10,
             "solidity": 0.2
            },
            "type": "scatter"
           }
          ],
          "scatter3d": [
           {
            "line": {
             "colorbar": {
              "outlinewidth": 0,
              "ticks": ""
             }
            },
            "marker": {
             "colorbar": {
              "outlinewidth": 0,
              "ticks": ""
             }
            },
            "type": "scatter3d"
           }
          ],
          "scattercarpet": [
           {
            "marker": {
             "colorbar": {
              "outlinewidth": 0,
              "ticks": ""
             }
            },
            "type": "scattercarpet"
           }
          ],
          "scattergeo": [
           {
            "marker": {
             "colorbar": {
              "outlinewidth": 0,
              "ticks": ""
             }
            },
            "type": "scattergeo"
           }
          ],
          "scattergl": [
           {
            "marker": {
             "colorbar": {
              "outlinewidth": 0,
              "ticks": ""
             }
            },
            "type": "scattergl"
           }
          ],
          "scattermapbox": [
           {
            "marker": {
             "colorbar": {
              "outlinewidth": 0,
              "ticks": ""
             }
            },
            "type": "scattermapbox"
           }
          ],
          "scatterpolar": [
           {
            "marker": {
             "colorbar": {
              "outlinewidth": 0,
              "ticks": ""
             }
            },
            "type": "scatterpolar"
           }
          ],
          "scatterpolargl": [
           {
            "marker": {
             "colorbar": {
              "outlinewidth": 0,
              "ticks": ""
             }
            },
            "type": "scatterpolargl"
           }
          ],
          "scatterternary": [
           {
            "marker": {
             "colorbar": {
              "outlinewidth": 0,
              "ticks": ""
             }
            },
            "type": "scatterternary"
           }
          ],
          "surface": [
           {
            "colorbar": {
             "outlinewidth": 0,
             "ticks": ""
            },
            "colorscale": [
             [
              0,
              "#0d0887"
             ],
             [
              0.1111111111111111,
              "#46039f"
             ],
             [
              0.2222222222222222,
              "#7201a8"
             ],
             [
              0.3333333333333333,
              "#9c179e"
             ],
             [
              0.4444444444444444,
              "#bd3786"
             ],
             [
              0.5555555555555556,
              "#d8576b"
             ],
             [
              0.6666666666666666,
              "#ed7953"
             ],
             [
              0.7777777777777778,
              "#fb9f3a"
             ],
             [
              0.8888888888888888,
              "#fdca26"
             ],
             [
              1,
              "#f0f921"
             ]
            ],
            "type": "surface"
           }
          ],
          "table": [
           {
            "cells": {
             "fill": {
              "color": "#EBF0F8"
             },
             "line": {
              "color": "white"
             }
            },
            "header": {
             "fill": {
              "color": "#C8D4E3"
             },
             "line": {
              "color": "white"
             }
            },
            "type": "table"
           }
          ]
         },
         "layout": {
          "annotationdefaults": {
           "arrowcolor": "#2a3f5f",
           "arrowhead": 0,
           "arrowwidth": 1
          },
          "autotypenumbers": "strict",
          "coloraxis": {
           "colorbar": {
            "outlinewidth": 0,
            "ticks": ""
           }
          },
          "colorscale": {
           "diverging": [
            [
             0,
             "#8e0152"
            ],
            [
             0.1,
             "#c51b7d"
            ],
            [
             0.2,
             "#de77ae"
            ],
            [
             0.3,
             "#f1b6da"
            ],
            [
             0.4,
             "#fde0ef"
            ],
            [
             0.5,
             "#f7f7f7"
            ],
            [
             0.6,
             "#e6f5d0"
            ],
            [
             0.7,
             "#b8e186"
            ],
            [
             0.8,
             "#7fbc41"
            ],
            [
             0.9,
             "#4d9221"
            ],
            [
             1,
             "#276419"
            ]
           ],
           "sequential": [
            [
             0,
             "#0d0887"
            ],
            [
             0.1111111111111111,
             "#46039f"
            ],
            [
             0.2222222222222222,
             "#7201a8"
            ],
            [
             0.3333333333333333,
             "#9c179e"
            ],
            [
             0.4444444444444444,
             "#bd3786"
            ],
            [
             0.5555555555555556,
             "#d8576b"
            ],
            [
             0.6666666666666666,
             "#ed7953"
            ],
            [
             0.7777777777777778,
             "#fb9f3a"
            ],
            [
             0.8888888888888888,
             "#fdca26"
            ],
            [
             1,
             "#f0f921"
            ]
           ],
           "sequentialminus": [
            [
             0,
             "#0d0887"
            ],
            [
             0.1111111111111111,
             "#46039f"
            ],
            [
             0.2222222222222222,
             "#7201a8"
            ],
            [
             0.3333333333333333,
             "#9c179e"
            ],
            [
             0.4444444444444444,
             "#bd3786"
            ],
            [
             0.5555555555555556,
             "#d8576b"
            ],
            [
             0.6666666666666666,
             "#ed7953"
            ],
            [
             0.7777777777777778,
             "#fb9f3a"
            ],
            [
             0.8888888888888888,
             "#fdca26"
            ],
            [
             1,
             "#f0f921"
            ]
           ]
          },
          "colorway": [
           "#636efa",
           "#EF553B",
           "#00cc96",
           "#ab63fa",
           "#FFA15A",
           "#19d3f3",
           "#FF6692",
           "#B6E880",
           "#FF97FF",
           "#FECB52"
          ],
          "font": {
           "color": "#2a3f5f"
          },
          "geo": {
           "bgcolor": "white",
           "lakecolor": "white",
           "landcolor": "#E5ECF6",
           "showlakes": true,
           "showland": true,
           "subunitcolor": "white"
          },
          "hoverlabel": {
           "align": "left"
          },
          "hovermode": "closest",
          "mapbox": {
           "style": "light"
          },
          "paper_bgcolor": "white",
          "plot_bgcolor": "#E5ECF6",
          "polar": {
           "angularaxis": {
            "gridcolor": "white",
            "linecolor": "white",
            "ticks": ""
           },
           "bgcolor": "#E5ECF6",
           "radialaxis": {
            "gridcolor": "white",
            "linecolor": "white",
            "ticks": ""
           }
          },
          "scene": {
           "xaxis": {
            "backgroundcolor": "#E5ECF6",
            "gridcolor": "white",
            "gridwidth": 2,
            "linecolor": "white",
            "showbackground": true,
            "ticks": "",
            "zerolinecolor": "white"
           },
           "yaxis": {
            "backgroundcolor": "#E5ECF6",
            "gridcolor": "white",
            "gridwidth": 2,
            "linecolor": "white",
            "showbackground": true,
            "ticks": "",
            "zerolinecolor": "white"
           },
           "zaxis": {
            "backgroundcolor": "#E5ECF6",
            "gridcolor": "white",
            "gridwidth": 2,
            "linecolor": "white",
            "showbackground": true,
            "ticks": "",
            "zerolinecolor": "white"
           }
          },
          "shapedefaults": {
           "line": {
            "color": "#2a3f5f"
           }
          },
          "ternary": {
           "aaxis": {
            "gridcolor": "white",
            "linecolor": "white",
            "ticks": ""
           },
           "baxis": {
            "gridcolor": "white",
            "linecolor": "white",
            "ticks": ""
           },
           "bgcolor": "#E5ECF6",
           "caxis": {
            "gridcolor": "white",
            "linecolor": "white",
            "ticks": ""
           }
          },
          "title": {
           "x": 0.05
          },
          "xaxis": {
           "automargin": true,
           "gridcolor": "white",
           "linecolor": "white",
           "ticks": "",
           "title": {
            "standoff": 15
           },
           "zerolinecolor": "white",
           "zerolinewidth": 2
          },
          "yaxis": {
           "automargin": true,
           "gridcolor": "white",
           "linecolor": "white",
           "ticks": "",
           "title": {
            "standoff": 15
           },
           "zerolinecolor": "white",
           "zerolinewidth": 2
          }
         }
        },
        "xaxis": {
         "anchor": "y",
         "domain": [
          0,
          1
         ],
         "title": {
          "text": "MÊS DO FATO"
         }
        },
        "yaxis": {
         "anchor": "x",
         "domain": [
          0,
          1
         ],
         "title": {
          "text": "count"
         }
        }
       }
      }
     },
     "metadata": {},
     "output_type": "display_data"
    }
   ],
   "source": [
    "px.bar(df.iloc[:500], x='MÊS DO FATO')"
   ]
  },
  {
   "cell_type": "code",
   "execution_count": 17,
   "metadata": {},
   "outputs": [
    {
     "data": {
      "text/html": [
       "\n",
       "        <iframe\n",
       "            width=\"100%\"\n",
       "            height=\"650\"\n",
       "            src=\"http://127.0.0.1:8050/\"\n",
       "            frameborder=\"0\"\n",
       "            allowfullscreen\n",
       "            \n",
       "        ></iframe>\n",
       "        "
      ],
      "text/plain": [
       "<IPython.lib.display.IFrame at 0x28204d6aa50>"
      ]
     },
     "metadata": {},
     "output_type": "display_data"
    }
   ],
   "source": [
    "\n",
    "appA = Dash(__name__)\n",
    "\n",
    "\n",
    "appA.layout = html.Div([\n",
    "    html.H4('Restaurant tips by day of week'),\n",
    "    dcc.Dropdown(\n",
    "        id=\"dropdown\",\n",
    "        options=[\"Fri\", \"Sat\", \"Sun\"],\n",
    "        value=\"Fri\",\n",
    "        clearable=False,\n",
    "    ),\n",
    "    dcc.Graph(id=\"graph\"),\n",
    "])\n",
    "\n",
    "\n",
    "@appA.callback(\n",
    "    Output(\"graph\", \"figure\"), \n",
    "    Input(\"dropdown\", \"value\"))\n",
    "def update_bar_chart(day):\n",
    "    df = px.data.tips() # replace with your own data source\n",
    "    mask = df[\"day\"] == day\n",
    "    fig = px.bar(df[mask], x=\"sex\", y=\"total_bill\", \n",
    "                 color=\"smoker\", barmode=\"group\")\n",
    "    return fig\n",
    "\n",
    "\n",
    "appA.run_server(debug=True)"
   ]
  },
  {
   "cell_type": "code",
   "execution_count": null,
   "metadata": {},
   "outputs": [],
   "source": []
  }
 ],
 "metadata": {
  "kernelspec": {
   "display_name": "Python 3",
   "language": "python",
   "name": "python3"
  },
  "language_info": {
   "codemirror_mode": {
    "name": "ipython",
    "version": 3
   },
   "file_extension": ".py",
   "mimetype": "text/x-python",
   "name": "python",
   "nbconvert_exporter": "python",
   "pygments_lexer": "ipython3",
   "version": "3.11.9"
  }
 },
 "nbformat": 4,
 "nbformat_minor": 2
}
