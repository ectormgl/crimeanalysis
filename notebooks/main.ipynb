{
 "cells": [
  {
   "cell_type": "code",
   "execution_count": 1,
   "metadata": {},
   "outputs": [],
   "source": [
    "import pandas as pd\n",
    "import numpy as np\n",
    "from pyspark.sql import SparkSession\n",
    "import pandas as pd\n",
    "import os\n",
    "\n",
    "import plotly.graph_objects as go\n",
    "from dash import Dash, dcc, html, Input, Output\n",
    "import plotly.express as px\n",
    "from unidecode import unidecode\n",
    "import sys\n",
    "import os\n",
    "\n",
    "\n",
    "\n"
   ]
  },
  {
   "cell_type": "code",
   "execution_count": null,
   "metadata": {},
   "outputs": [],
   "source": []
  },
  {
   "cell_type": "code",
   "execution_count": null,
   "metadata": {},
   "outputs": [],
   "source": [
    "#df= pd.read_excel(os.path.join('..', '27_08_24.xlsx'))\n",
    "\n",
    "path= [os.path.join('..', 'data', x) for x in os.listdir(os.path.join('..', 'data'))]\n",
    "\n",
    "df_0= pd.read_excel(path[0])\n",
    "df_1= pd.read_excel(path[1])\n",
    "df_2= pd.read_excel(path[2])\n",
    "df_3= pd.read_excel(path[3])\n",
    "df_4= pd.read_excel(path[4])\n",
    "\n",
    "\n"
   ]
  },
  {
   "cell_type": "code",
   "execution_count": null,
   "metadata": {},
   "outputs": [],
   "source": []
  },
  {
   "cell_type": "code",
   "execution_count": 43,
   "metadata": {},
   "outputs": [],
   "source": [
    "df= pd.concat([df_0, df_1,df_2, df_3,df_4])"
   ]
  },
  {
   "cell_type": "code",
   "execution_count": null,
   "metadata": {},
   "outputs": [
    {
     "data": {
      "text/html": [
       "<div>\n",
       "<style scoped>\n",
       "    .dataframe tbody tr th:only-of-type {\n",
       "        vertical-align: middle;\n",
       "    }\n",
       "\n",
       "    .dataframe tbody tr th {\n",
       "        vertical-align: top;\n",
       "    }\n",
       "\n",
       "    .dataframe thead th {\n",
       "        text-align: right;\n",
       "    }\n",
       "</style>\n",
       "<table border=\"1\" class=\"dataframe\">\n",
       "  <thead>\n",
       "    <tr style=\"text-align: right;\">\n",
       "      <th></th>\n",
       "      <th>CONSOLIDADO(S)</th>\n",
       "      <th>ESPECIFICAÇÃO CRIME</th>\n",
       "      <th>MEIO EMPREGADO DEAC</th>\n",
       "      <th>MUNICÍPIO(S)</th>\n",
       "      <th>BAIRRO(S)</th>\n",
       "      <th>ANO DO FATO</th>\n",
       "      <th>MÊS DO FATO</th>\n",
       "      <th>RISP</th>\n",
       "      <th>AISP</th>\n",
       "      <th>DATA DO FATO</th>\n",
       "      <th>...</th>\n",
       "      <th>IDADE VÍTIMA</th>\n",
       "      <th>FAIXA ETÁRIA VÍTIMA</th>\n",
       "      <th>TIPO DE VÍTIMA</th>\n",
       "      <th>COR VÍTIMA</th>\n",
       "      <th>GRAU DE INSTRUÇÃO VÍTIMA</th>\n",
       "      <th>ESTADO CIVÍL VÍTIMA</th>\n",
       "      <th>SEXO AUTOR</th>\n",
       "      <th>IDADE AUTOR</th>\n",
       "      <th>COR AUTOR</th>\n",
       "      <th>GRAU DE RELACIONAMENTO</th>\n",
       "    </tr>\n",
       "  </thead>\n",
       "  <tbody>\n",
       "    <tr>\n",
       "      <th>0</th>\n",
       "      <td>HOMICIDIO</td>\n",
       "      <td>ACHADO DE CADAVER/EM DECOMPOSICAO</td>\n",
       "      <td>ARMA PERFUROCORTANTE</td>\n",
       "      <td>BELEM</td>\n",
       "      <td>TENONE</td>\n",
       "      <td>2024</td>\n",
       "      <td>MARCO</td>\n",
       "      <td>01ª RISP</td>\n",
       "      <td>13ª AISP</td>\n",
       "      <td>2024-03-13</td>\n",
       "      <td>...</td>\n",
       "      <td>64.0</td>\n",
       "      <td>ADULTO IV (35 A 64 ANOS)</td>\n",
       "      <td>IDOSO(A)</td>\n",
       "      <td>PARDA</td>\n",
       "      <td>ENSINO FUNDAMENTAL INCOMPLETO</td>\n",
       "      <td>SOLTEIRO(A)</td>\n",
       "      <td>P</td>\n",
       "      <td>66666.0</td>\n",
       "      <td>PREJUDICADO</td>\n",
       "      <td>NaN</td>\n",
       "    </tr>\n",
       "    <tr>\n",
       "      <th>1</th>\n",
       "      <td>LESAO CORPORAL</td>\n",
       "      <td>NaN</td>\n",
       "      <td>CONTUNDENTE</td>\n",
       "      <td>SANTAREM</td>\n",
       "      <td>LIBERDADE</td>\n",
       "      <td>2024</td>\n",
       "      <td>MAIO</td>\n",
       "      <td>12ª RISP</td>\n",
       "      <td>NaN</td>\n",
       "      <td>2024-05-22</td>\n",
       "      <td>...</td>\n",
       "      <td>50.0</td>\n",
       "      <td>ADULTO IV (35 A 64 ANOS)</td>\n",
       "      <td>PREJUDICADO</td>\n",
       "      <td>PREJUDICADO</td>\n",
       "      <td>ENSINO FUNDAMENTAL INCOMPLETO</td>\n",
       "      <td>SOLTEIRO(A)</td>\n",
       "      <td>M</td>\n",
       "      <td>66666.0</td>\n",
       "      <td>PREJUDICADO</td>\n",
       "      <td>NaN</td>\n",
       "    </tr>\n",
       "    <tr>\n",
       "      <th>2</th>\n",
       "      <td>LESAO CORPORAL</td>\n",
       "      <td>VIOLENCIA DOMESTICA</td>\n",
       "      <td>ARMA PERFUROCONTUNDENTE</td>\n",
       "      <td>BELEM</td>\n",
       "      <td>NAZARE</td>\n",
       "      <td>2024</td>\n",
       "      <td>MAIO</td>\n",
       "      <td>01ª RISP</td>\n",
       "      <td>02ª AISP</td>\n",
       "      <td>2024-05-03</td>\n",
       "      <td>...</td>\n",
       "      <td>21.0</td>\n",
       "      <td>ADULTO I (18 A 24 ANOS)</td>\n",
       "      <td>PREJUDICADO</td>\n",
       "      <td>PREJUDICADO</td>\n",
       "      <td>ENSINO FUNDAMENTAL INCOMPLETO</td>\n",
       "      <td>SOLTEIRO(A)</td>\n",
       "      <td>M</td>\n",
       "      <td>20.0</td>\n",
       "      <td>PREJUDICADO</td>\n",
       "      <td>COMPANHEIRO(A)</td>\n",
       "    </tr>\n",
       "    <tr>\n",
       "      <th>3</th>\n",
       "      <td>LESAO CORPORAL</td>\n",
       "      <td>MORDIDA DE CACHORRO</td>\n",
       "      <td>ARMA PERFUROCONTUNDENTE</td>\n",
       "      <td>BREVES</td>\n",
       "      <td>CENTRO DE BREVES</td>\n",
       "      <td>2024</td>\n",
       "      <td>MAIO</td>\n",
       "      <td>08ª RISP</td>\n",
       "      <td>NaN</td>\n",
       "      <td>2024-05-23</td>\n",
       "      <td>...</td>\n",
       "      <td>25.0</td>\n",
       "      <td>ADULTO II (25 A 29 ANOS)</td>\n",
       "      <td>PREJUDICADO</td>\n",
       "      <td>PREJUDICADO</td>\n",
       "      <td>ENSINO FUNDAMENTAL INCOMPLETO</td>\n",
       "      <td>CASADO(A)</td>\n",
       "      <td>P</td>\n",
       "      <td>66666.0</td>\n",
       "      <td>PREJUDICADO</td>\n",
       "      <td>NaN</td>\n",
       "    </tr>\n",
       "    <tr>\n",
       "      <th>4</th>\n",
       "      <td>LESAO CORPORAL</td>\n",
       "      <td>VIOLENCIA DOMESTICA</td>\n",
       "      <td>VIOLENCIA FISICA</td>\n",
       "      <td>MELGACO</td>\n",
       "      <td>CENTRO DE MELGACO</td>\n",
       "      <td>2024</td>\n",
       "      <td>MAIO</td>\n",
       "      <td>08ª RISP</td>\n",
       "      <td>NaN</td>\n",
       "      <td>2024-05-11</td>\n",
       "      <td>...</td>\n",
       "      <td>43.0</td>\n",
       "      <td>ADULTO IV (35 A 64 ANOS)</td>\n",
       "      <td>PREJUDICADO</td>\n",
       "      <td>PREJUDICADO</td>\n",
       "      <td>ENSINO MEDIO COMPLETO</td>\n",
       "      <td>SOLTEIRO(A)</td>\n",
       "      <td>M</td>\n",
       "      <td>66666.0</td>\n",
       "      <td>PREJUDICADO</td>\n",
       "      <td>EX-COMPANHEIRO(A)</td>\n",
       "    </tr>\n",
       "    <tr>\n",
       "      <th>...</th>\n",
       "      <td>...</td>\n",
       "      <td>...</td>\n",
       "      <td>...</td>\n",
       "      <td>...</td>\n",
       "      <td>...</td>\n",
       "      <td>...</td>\n",
       "      <td>...</td>\n",
       "      <td>...</td>\n",
       "      <td>...</td>\n",
       "      <td>...</td>\n",
       "      <td>...</td>\n",
       "      <td>...</td>\n",
       "      <td>...</td>\n",
       "      <td>...</td>\n",
       "      <td>...</td>\n",
       "      <td>...</td>\n",
       "      <td>...</td>\n",
       "      <td>...</td>\n",
       "      <td>...</td>\n",
       "      <td>...</td>\n",
       "      <td>...</td>\n",
       "    </tr>\n",
       "    <tr>\n",
       "      <th>821566</th>\n",
       "      <td>ROUBO</td>\n",
       "      <td>TRANSEUNTE/CELULAR</td>\n",
       "      <td>VIOLENCIA</td>\n",
       "      <td>OURILANDIA DO NORTE</td>\n",
       "      <td>CENTRO DE OURILANDIA DO NORTE</td>\n",
       "      <td>2024</td>\n",
       "      <td>JANEIRO</td>\n",
       "      <td>14ª RISP</td>\n",
       "      <td>NaN</td>\n",
       "      <td>2024-01-01</td>\n",
       "      <td>...</td>\n",
       "      <td>19.0</td>\n",
       "      <td>ADULTO I (18 A 24 ANOS)</td>\n",
       "      <td>PREJUDICADO</td>\n",
       "      <td>PREJUDICADO</td>\n",
       "      <td>ENSINO FUNDAMENTAL INCOMPLETO</td>\n",
       "      <td>SOLTEIRO(A)</td>\n",
       "      <td>M</td>\n",
       "      <td>66666.0</td>\n",
       "      <td>PREJUDICADO</td>\n",
       "      <td>NaN</td>\n",
       "    </tr>\n",
       "    <tr>\n",
       "      <th>821567</th>\n",
       "      <td>ROUBO</td>\n",
       "      <td>TRANSEUNTE/CELULAR</td>\n",
       "      <td>ARMA DE FOGO</td>\n",
       "      <td>BELEM</td>\n",
       "      <td>MARAMBAIA</td>\n",
       "      <td>2024</td>\n",
       "      <td>JANEIRO</td>\n",
       "      <td>01ª RISP</td>\n",
       "      <td>09ª AISP</td>\n",
       "      <td>2024-01-01</td>\n",
       "      <td>...</td>\n",
       "      <td>32.0</td>\n",
       "      <td>ADULTO III (30 A 34 ANOS)</td>\n",
       "      <td>PREJUDICADO</td>\n",
       "      <td>PREJUDICADO</td>\n",
       "      <td>ENSINO SUPERIOR COMPLETO</td>\n",
       "      <td>SOLTEIRO(A)</td>\n",
       "      <td>M</td>\n",
       "      <td>66666.0</td>\n",
       "      <td>PARDA</td>\n",
       "      <td>PREJUDICADO</td>\n",
       "    </tr>\n",
       "    <tr>\n",
       "      <th>821568</th>\n",
       "      <td>LESAO CORPORAL</td>\n",
       "      <td>NaN</td>\n",
       "      <td>VIOLENCIA FISICA</td>\n",
       "      <td>MARITUBA</td>\n",
       "      <td>SAO FRANCISCO MARITUBA</td>\n",
       "      <td>2024</td>\n",
       "      <td>JANEIRO</td>\n",
       "      <td>02ª RISP</td>\n",
       "      <td>22ª AISP</td>\n",
       "      <td>2024-01-01</td>\n",
       "      <td>...</td>\n",
       "      <td>37.0</td>\n",
       "      <td>ADULTO IV (35 A 64 ANOS)</td>\n",
       "      <td>PREJUDICADO</td>\n",
       "      <td>PREJUDICADO</td>\n",
       "      <td>ENSINO MEDIO COMPLETO</td>\n",
       "      <td>UNIAO ESTAVEL</td>\n",
       "      <td>F</td>\n",
       "      <td>66666.0</td>\n",
       "      <td>PREJUDICADO</td>\n",
       "      <td>COMPANHEIRO(A)</td>\n",
       "    </tr>\n",
       "    <tr>\n",
       "      <th>821569</th>\n",
       "      <td>FURTO</td>\n",
       "      <td>MEDIDOR DE ENERGIA</td>\n",
       "      <td>SEM INSTRUMENTO</td>\n",
       "      <td>MARABA</td>\n",
       "      <td>NOVA MARABA</td>\n",
       "      <td>2024</td>\n",
       "      <td>JANEIRO</td>\n",
       "      <td>10ª RISP</td>\n",
       "      <td>NaN</td>\n",
       "      <td>2024-01-01</td>\n",
       "      <td>...</td>\n",
       "      <td>88888.0</td>\n",
       "      <td>PJ, EP E OUTROS</td>\n",
       "      <td>PJ, EP E OUTROS</td>\n",
       "      <td>PJ, EP E OUTROS</td>\n",
       "      <td>PJ, EP E OUTROS</td>\n",
       "      <td>PJ, EP E OUTROS</td>\n",
       "      <td>P</td>\n",
       "      <td>66666.0</td>\n",
       "      <td>PREJUDICADO</td>\n",
       "      <td>NaN</td>\n",
       "    </tr>\n",
       "    <tr>\n",
       "      <th>821570</th>\n",
       "      <td>FURTO</td>\n",
       "      <td>TRANSEUNTE/CELULAR</td>\n",
       "      <td>SEM INSTRUMENTO</td>\n",
       "      <td>CASTANHAL</td>\n",
       "      <td>CENTRO DE CASTANHAL</td>\n",
       "      <td>2024</td>\n",
       "      <td>JANEIRO</td>\n",
       "      <td>03ª RISP</td>\n",
       "      <td>NaN</td>\n",
       "      <td>2024-01-01</td>\n",
       "      <td>...</td>\n",
       "      <td>43.0</td>\n",
       "      <td>ADULTO IV (35 A 64 ANOS)</td>\n",
       "      <td>PREJUDICADO</td>\n",
       "      <td>PREJUDICADO</td>\n",
       "      <td>ENSINO FUNDAMENTAL COMPLETO</td>\n",
       "      <td>CASADO(A)</td>\n",
       "      <td>M</td>\n",
       "      <td>30.0</td>\n",
       "      <td>PREJUDICADO</td>\n",
       "      <td>NaN</td>\n",
       "    </tr>\n",
       "  </tbody>\n",
       "</table>\n",
       "<p>821571 rows × 30 columns</p>\n",
       "</div>"
      ],
      "text/plain": [
       "        CONSOLIDADO(S)                ESPECIFICAÇÃO CRIME  \\\n",
       "0            HOMICIDIO  ACHADO DE CADAVER/EM DECOMPOSICAO   \n",
       "1       LESAO CORPORAL                                NaN   \n",
       "2       LESAO CORPORAL                VIOLENCIA DOMESTICA   \n",
       "3       LESAO CORPORAL                MORDIDA DE CACHORRO   \n",
       "4       LESAO CORPORAL                VIOLENCIA DOMESTICA   \n",
       "...                ...                                ...   \n",
       "821566           ROUBO                 TRANSEUNTE/CELULAR   \n",
       "821567           ROUBO                 TRANSEUNTE/CELULAR   \n",
       "821568  LESAO CORPORAL                                NaN   \n",
       "821569           FURTO                 MEDIDOR DE ENERGIA   \n",
       "821570           FURTO                 TRANSEUNTE/CELULAR   \n",
       "\n",
       "            MEIO EMPREGADO DEAC         MUNICÍPIO(S)  \\\n",
       "0          ARMA PERFUROCORTANTE                BELEM   \n",
       "1                   CONTUNDENTE             SANTAREM   \n",
       "2       ARMA PERFUROCONTUNDENTE                BELEM   \n",
       "3       ARMA PERFUROCONTUNDENTE               BREVES   \n",
       "4              VIOLENCIA FISICA              MELGACO   \n",
       "...                         ...                  ...   \n",
       "821566                VIOLENCIA  OURILANDIA DO NORTE   \n",
       "821567             ARMA DE FOGO                BELEM   \n",
       "821568         VIOLENCIA FISICA             MARITUBA   \n",
       "821569          SEM INSTRUMENTO               MARABA   \n",
       "821570          SEM INSTRUMENTO            CASTANHAL   \n",
       "\n",
       "                            BAIRRO(S)  ANO DO FATO MÊS DO FATO      RISP  \\\n",
       "0                              TENONE         2024       MARCO  01ª RISP   \n",
       "1                           LIBERDADE         2024        MAIO  12ª RISP   \n",
       "2                              NAZARE         2024        MAIO  01ª RISP   \n",
       "3                    CENTRO DE BREVES         2024        MAIO  08ª RISP   \n",
       "4                   CENTRO DE MELGACO         2024        MAIO  08ª RISP   \n",
       "...                               ...          ...         ...       ...   \n",
       "821566  CENTRO DE OURILANDIA DO NORTE         2024     JANEIRO  14ª RISP   \n",
       "821567                      MARAMBAIA         2024     JANEIRO  01ª RISP   \n",
       "821568         SAO FRANCISCO MARITUBA         2024     JANEIRO  02ª RISP   \n",
       "821569                    NOVA MARABA         2024     JANEIRO  10ª RISP   \n",
       "821570            CENTRO DE CASTANHAL         2024     JANEIRO  03ª RISP   \n",
       "\n",
       "            AISP DATA DO FATO  ... IDADE VÍTIMA        FAIXA ETÁRIA VÍTIMA  \\\n",
       "0       13ª AISP   2024-03-13  ...         64.0   ADULTO IV (35 A 64 ANOS)   \n",
       "1            NaN   2024-05-22  ...         50.0   ADULTO IV (35 A 64 ANOS)   \n",
       "2       02ª AISP   2024-05-03  ...         21.0    ADULTO I (18 A 24 ANOS)   \n",
       "3            NaN   2024-05-23  ...         25.0   ADULTO II (25 A 29 ANOS)   \n",
       "4            NaN   2024-05-11  ...         43.0   ADULTO IV (35 A 64 ANOS)   \n",
       "...          ...          ...  ...          ...                        ...   \n",
       "821566       NaN   2024-01-01  ...         19.0    ADULTO I (18 A 24 ANOS)   \n",
       "821567  09ª AISP   2024-01-01  ...         32.0  ADULTO III (30 A 34 ANOS)   \n",
       "821568  22ª AISP   2024-01-01  ...         37.0   ADULTO IV (35 A 64 ANOS)   \n",
       "821569       NaN   2024-01-01  ...      88888.0            PJ, EP E OUTROS   \n",
       "821570       NaN   2024-01-01  ...         43.0   ADULTO IV (35 A 64 ANOS)   \n",
       "\n",
       "         TIPO DE VÍTIMA       COR VÍTIMA       GRAU DE INSTRUÇÃO VÍTIMA  \\\n",
       "0              IDOSO(A)            PARDA  ENSINO FUNDAMENTAL INCOMPLETO   \n",
       "1           PREJUDICADO      PREJUDICADO  ENSINO FUNDAMENTAL INCOMPLETO   \n",
       "2           PREJUDICADO      PREJUDICADO  ENSINO FUNDAMENTAL INCOMPLETO   \n",
       "3           PREJUDICADO      PREJUDICADO  ENSINO FUNDAMENTAL INCOMPLETO   \n",
       "4           PREJUDICADO      PREJUDICADO          ENSINO MEDIO COMPLETO   \n",
       "...                 ...              ...                            ...   \n",
       "821566      PREJUDICADO      PREJUDICADO  ENSINO FUNDAMENTAL INCOMPLETO   \n",
       "821567      PREJUDICADO      PREJUDICADO       ENSINO SUPERIOR COMPLETO   \n",
       "821568      PREJUDICADO      PREJUDICADO          ENSINO MEDIO COMPLETO   \n",
       "821569  PJ, EP E OUTROS  PJ, EP E OUTROS                PJ, EP E OUTROS   \n",
       "821570      PREJUDICADO      PREJUDICADO    ENSINO FUNDAMENTAL COMPLETO   \n",
       "\n",
       "       ESTADO CIVÍL VÍTIMA SEXO AUTOR IDADE AUTOR    COR AUTOR  \\\n",
       "0              SOLTEIRO(A)          P     66666.0  PREJUDICADO   \n",
       "1              SOLTEIRO(A)          M     66666.0  PREJUDICADO   \n",
       "2              SOLTEIRO(A)          M        20.0  PREJUDICADO   \n",
       "3                CASADO(A)          P     66666.0  PREJUDICADO   \n",
       "4              SOLTEIRO(A)          M     66666.0  PREJUDICADO   \n",
       "...                    ...        ...         ...          ...   \n",
       "821566         SOLTEIRO(A)          M     66666.0  PREJUDICADO   \n",
       "821567         SOLTEIRO(A)          M     66666.0        PARDA   \n",
       "821568       UNIAO ESTAVEL          F     66666.0  PREJUDICADO   \n",
       "821569     PJ, EP E OUTROS          P     66666.0  PREJUDICADO   \n",
       "821570           CASADO(A)          M        30.0  PREJUDICADO   \n",
       "\n",
       "       GRAU DE RELACIONAMENTO  \n",
       "0                         NaN  \n",
       "1                         NaN  \n",
       "2              COMPANHEIRO(A)  \n",
       "3                         NaN  \n",
       "4           EX-COMPANHEIRO(A)  \n",
       "...                       ...  \n",
       "821566                    NaN  \n",
       "821567            PREJUDICADO  \n",
       "821568         COMPANHEIRO(A)  \n",
       "821569                    NaN  \n",
       "821570                    NaN  \n",
       "\n",
       "[821571 rows x 30 columns]"
      ]
     },
     "execution_count": 44,
     "metadata": {},
     "output_type": "execute_result"
    }
   ],
   "source": [
    "df.drop_duplicates(inplace=True)\n",
    "df.reset_index(drop=True, inplace=True)\n",
    "df\n"
   ]
  },
  {
   "cell_type": "markdown",
   "metadata": {},
   "source": [
    "<div style= \"background-color: gray; font-family: Segoe UI, Segoe UI Midlevel, Segoe WP, Arial, sans-serif; color: black;\">Primeiramente, tive que copiar cada cidade da lista de cidades do estado do pará, pegando cada um por subregião (como: região metropolitana). Então, tive que transformar cada nome de cidade em letra maiuscula e tirar todos os acentos de cada nome de cidade. (Precisou ser dessa forma pois, no dataframe, o nome de cada cidade não possui nenhuma acentuação).\n",
    "Então, depois de terminar cada região, tive que verificar se encaixava com a quantidade de cidades existentes somando todos os casos apresentados (deveria somar 144, supostamente o número de cidades do estado do Pará). Todavia, houve duas cidades que possuia no conjunto de dados, que não existiam formalmente nos escritos da prefeitura:</div>\n",
    "<div style= \"background-color: black; color: white;\">\n",
    "\n",
    "- Pau D Arco\n",
    "\n",
    "\n",
    "- ALTAMIRA/CASTELO DOS SONHOS</div>\n",
    "<div style= \"background-color: gray; font-family: Segoe UI, Segoe UI Midlevel, Segoe WP, Arial, sans-serif;\">\n",
    "Sendo cada um destes existentes no conjunto de dados como cidades diferentes.\n",
    "PS: 'Pau D Arco' é uma subregião pertecente a área da cidade de Santa Bárbara. Já 'ALTAMIRA/CASTELO DOS SONHOS' é uma subregião pertecente a área da cidade ALTAMIRA \n",
    "Então, o Pau D Arco foi adicionado a região metropolitana e ALTAMIRA/CASTELO DOS SONHOS foi para região sudoeste\n",
    "<div>"
   ]
  },
  {
   "cell_type": "code",
   "execution_count": null,
   "metadata": {},
   "outputs": [],
   "source": [
    "def get_subregion(municipio):\n",
    "    if pd.isna(municipio): \n",
    "        return 'Desconhecida'\n",
    "    elif municipio in baixo_amazonas:\n",
    "        return 'Baixo Amazonas'\n",
    "    elif municipio in marajo:\n",
    "        return 'Marajó'\n",
    "    elif municipio in metropolitana:\n",
    "        return 'Metropolitana'\n",
    "    elif municipio in sudoeste:\n",
    "        return 'Sudoeste'\n",
    "    elif municipio in nordeste:\n",
    "        return 'Nordeste'\n",
    "    elif municipio in sudeste:\n",
    "        return 'Sudeste'\n",
    "    else:\n",
    "        return 'Desconhecida'\n",
    "\n",
    "baixo_amazonas= ['Alenquer', 'Almeirim', 'Belterra', 'Curuá', 'Mojuí dos Campos', 'Faro', 'Juruti', 'Monte Alegre', 'Óbidos', 'Oriximiná', 'Prainha', 'Santarém','Terra Santa', 'PORTO DE MOZ', 'PLACAS']\n",
    "baixo_amazonas= list(map(str.upper, baixo_amazonas))\n",
    "baixo_amazonas= [unidecode(item) for item in baixo_amazonas]\n",
    "##########################################################################\n",
    "marajo= ['Cachoeira do Arari','Chaves','Muaná','Ponta de Pedras','Salvaterra','Santa Cruz do Arari','Soure','Afuá','Anajás','Breves','Curralinho','São Sebastião da Boa Vista','Bagre','Gurupá','Melgaço','Portel']\n",
    "marajo= list(map(str.upper, marajo))\n",
    "marajo= [unidecode(item) for item in marajo]\n",
    "marajo\n",
    "\n",
    "##########################################################################\n",
    "metropolitana= ['Ananindeua','Barcarena','Belém', 'Benevides', 'Marituba','Santa Bárbara do Pará','Bujaru','Castanhal','Inhangapi','Santa Izabel do Pará','Santo Antônio do Tauá', 'PAU D ARCO']\n",
    "metropolitana= list(map(str.upper, metropolitana))\n",
    "metropolitana= [unidecode(item) for item in metropolitana]\n",
    "metropolitana\n",
    "##########################################################################\n",
    "sudoeste= ['Altamira','Anapu','Brasil Novo','Medicilândia','Pacajá','Senador José Porfírio','Uruará','Vitória do Xingu','Aveiro','Itaituba','Jacareacanga','Novo Progresso','Rurópolis','Trairão', 'ALTAMIRA/CASTELO DOS SONHOS']\n",
    "sudoeste= list(map(str.upper, sudoeste))\n",
    "sudoeste=  [unidecode(item) for item in sudoeste]\n",
    "sudoeste\n",
    "##########################################################################\n",
    "nordeste= ['Augusto Corrêa', 'Bonito', 'Bragança', 'Capanema', 'Igarapé-Açu', 'Nova Timboteua', 'Peixe-Boi', 'Primavera', 'Quatipuru', 'Santa Maria do Pará', 'Santarém Novo', 'São Francisco do Pará', 'Tracuateua', 'Abaetetuba', 'Baião', 'Cametá', 'Igarapé-Miri', 'Limoeiro do Ajuru', 'Mocajuba', 'Oeiras do Pará', 'Aurora do Pará', 'Cachoeira do Piriá', 'Capitão Poço', 'Garrafão do Norte', 'Ipixuna do Pará', 'Irituia', 'Mãe do Rio', 'Nova Esperança do Piriá', 'Ourém', 'Santa Luzia do Pará', 'São Domingos do Capim', 'São Miguel do Guamá', 'Viseu', 'Colares', 'Curuçá', 'Magalhães Barata', 'Maracanã', 'Marapanim', 'Salinópolis', 'São Caetano de Odivelas', 'São João da Ponta', 'São João de Pirabas', 'Terra Alta', 'Vigia', 'Acará', 'Concórdia do Pará', 'Moju', 'Tailândia', 'Tomé-Açu']\n",
    "nordeste=list(map(str.upper, nordeste))\n",
    "nordeste=  [unidecode(item) for item in nordeste]\n",
    "##########################################################################\n",
    "sudeste= ['Conceição do Araguaia', 'Floresta do Araguaia', 'Santa Maria das Barreiras', 'Santana do Araguaia', 'Brejo Grande do Araguaia', 'Marabá', 'Palestina do Pará', 'São Domingos do Araguaia', 'São João do Araguaia', 'Abel Figueiredo', 'Bom Jesus do Tocantins', 'Dom Eliseu', 'Goianésia do Pará', 'Paragominas', 'Rondon do Pará', 'Ulianópolis', 'Água Azul do Norte', 'Canaã dos Carajás', 'Curionópolis', 'Eldorado dos Carajás', 'Parauapebas', 'Pau d\\'Arco', 'Piçarra', 'Redenção', 'Rio Maria', 'São Geraldo do Araguaia', 'Sapucaia', 'Xinguara', 'Bannach', 'Cumaru do Norte', 'Ourilândia do Norte', 'São Félix do Xingu', 'Tucumã', 'Breu Branco', 'Itupiranga', 'Jacundá', 'Nova Ipixuna', 'Novo Repartimento', 'Tucuruí']\n",
    "sudeste=list(map(str.upper, sudeste))\n",
    "sudeste=[unidecode(item) for item in sudeste]\n",
    "\n",
    "# Adicionar a nova coluna 'Sub-Região' ao DataFrame\n",
    "df['Sub-Região'] = df['MUNICÍPIO(S)'].apply(get_subregion)\n",
    "df['Sub-Região'].unique()"
   ]
  },
  {
   "cell_type": "code",
   "execution_count": 101,
   "metadata": {},
   "outputs": [
    {
     "data": {
      "text/plain": [
       "Index(['CONSOLIDADO(S)', 'ESPECIFICAÇÃO CRIME', 'MEIO EMPREGADO DEAC',\n",
       "       'MUNICÍPIO(S)', 'BAIRRO(S)', 'ANO DO FATO', 'MÊS DO FATO', 'RISP',\n",
       "       'AISP', 'DATA DO FATO', 'DIA DA SEMANA', 'HORA DO FATO',\n",
       "       'FAIXA 4 HORAS', 'FAIXA 12 HORAS', 'LATITUDE', 'LONGITUDE', 'DISTRITO',\n",
       "       'REGIÃO DE INTEGRAÇÃO', 'LOCAL DA OCORRÊNCIA', 'SEXO VÍTIMA',\n",
       "       'IDADE VÍTIMA', 'FAIXA ETÁRIA VÍTIMA', 'TIPO DE VÍTIMA', 'COR VÍTIMA',\n",
       "       'GRAU DE INSTRUÇÃO VÍTIMA', 'ESTADO CIVÍL VÍTIMA', 'SEXO AUTOR',\n",
       "       'IDADE AUTOR', 'COR AUTOR', 'GRAU DE RELACIONAMENTO'],\n",
       "      dtype='object')"
      ]
     },
     "execution_count": 101,
     "metadata": {},
     "output_type": "execute_result"
    }
   ],
   "source": [
    "df.columns"
   ]
  },
  {
   "cell_type": "code",
   "execution_count": 45,
   "metadata": {},
   "outputs": [],
   "source": [
    "lista_sexo= ['M', 'F', 'NÃO INFORMADO', 'PREJUDICADO', 'MASCULINO', 'FEMININO']\n",
    "df['AISP'].fillna('PREJUDICADO', inplace=True)\n",
    "df['GRAU DE RELACIONAMENTO'].fillna('PREJUDICADO', inplace=True)\n",
    "df['IDADE AUTOR']=df['IDADE AUTOR'].apply(lambda x: x if x<100 else 'PREJUDICADO')\n",
    "\n",
    "df['SEXO AUTOR']= df['SEXO AUTOR'].apply(lambda x: x if x in lista_sexo else 'PREJUDICADO')"
   ]
  },
  {
   "cell_type": "markdown",
   "metadata": {},
   "source": [
    "#### A coluna \"ESTADO CIVÍL VÍTIMA\" é um ótimo exemplo de como um desenvolvimento de software pode impactar durante a análise de dados. \n",
    "#### Na coluna em questão, ao invés de existir apenas 5 tipos de estados civis oficiais (segundo a legislação Brasileira), as quais são : **SOLTEIRO(A), CASADO(A), DIVORCIADO(A), VIÚVO(A), SEPARADO(A)**, existem diversas outras entradas, algumas inválidas.\n",
    "#### Junto a isso, dentre elas, estão presentes entradas com erros de digitação.\n",
    "No código abaixo, observe o quantos tipos de input **solteiro** existem.\n",
    "\n",
    "_ Solução: Ao invés de usar um Text Input para se preencher o campo de Estado Civíl (em casos de formulário online), colocar um dropdown button, por exemplo."
   ]
  },
  {
   "cell_type": "code",
   "execution_count": 24,
   "metadata": {},
   "outputs": [
    {
     "data": {
      "text/html": [
       "<div>\n",
       "<style scoped>\n",
       "    .dataframe tbody tr th:only-of-type {\n",
       "        vertical-align: middle;\n",
       "    }\n",
       "\n",
       "    .dataframe tbody tr th {\n",
       "        vertical-align: top;\n",
       "    }\n",
       "\n",
       "    .dataframe thead th {\n",
       "        text-align: right;\n",
       "    }\n",
       "</style>\n",
       "<table border=\"1\" class=\"dataframe\">\n",
       "  <thead>\n",
       "    <tr style=\"text-align: right;\">\n",
       "      <th></th>\n",
       "      <th>Tipos Estado Civil</th>\n",
       "    </tr>\n",
       "  </thead>\n",
       "  <tbody>\n",
       "    <tr>\n",
       "      <th>19</th>\n",
       "      <td>SOLTEIRA</td>\n",
       "    </tr>\n",
       "    <tr>\n",
       "      <th>20</th>\n",
       "      <td>SOLTEIRA(A)</td>\n",
       "    </tr>\n",
       "    <tr>\n",
       "      <th>21</th>\n",
       "      <td>SOLTEIRO</td>\n",
       "    </tr>\n",
       "    <tr>\n",
       "      <th>22</th>\n",
       "      <td>SOLTEIRO (A)</td>\n",
       "    </tr>\n",
       "    <tr>\n",
       "      <th>23</th>\n",
       "      <td>SOLTEIRO(A)</td>\n",
       "    </tr>\n",
       "    <tr>\n",
       "      <th>24</th>\n",
       "      <td>SOLTEIRO(A)_x000D_\\n</td>\n",
       "    </tr>\n",
       "    <tr>\n",
       "      <th>25</th>\n",
       "      <td>SOLTERIO(A)</td>\n",
       "    </tr>\n",
       "    <tr>\n",
       "      <th>26</th>\n",
       "      <td>SOLTERIRO(A)</td>\n",
       "    </tr>\n",
       "    <tr>\n",
       "      <th>27</th>\n",
       "      <td>SOLTIRO(A)</td>\n",
       "    </tr>\n",
       "    <tr>\n",
       "      <th>28</th>\n",
       "      <td>SOTEIRO(A)</td>\n",
       "    </tr>\n",
       "  </tbody>\n",
       "</table>\n",
       "</div>"
      ],
      "text/plain": [
       "      Tipos Estado Civil\n",
       "19              SOLTEIRA\n",
       "20           SOLTEIRA(A)\n",
       "21              SOLTEIRO\n",
       "22          SOLTEIRO (A)\n",
       "23           SOLTEIRO(A)\n",
       "24  SOLTEIRO(A)_x000D_\\n\n",
       "25           SOLTERIO(A)\n",
       "26          SOLTERIRO(A)\n",
       "27            SOLTIRO(A)\n",
       "28            SOTEIRO(A)"
      ]
     },
     "execution_count": 24,
     "metadata": {},
     "output_type": "execute_result"
    }
   ],
   "source": [
    "pd.DataFrame(sorted(df['ESTADO CIVÍL VÍTIMA'].dropna().unique()), columns={'Tipos Estado Civil':\"0\"}).iloc[19:29]"
   ]
  },
  {
   "cell_type": "code",
   "execution_count": 46,
   "metadata": {
    "vscode": {
     "languageId": "shellscript"
    }
   },
   "outputs": [
    {
     "data": {
      "text/plain": [
       "array(['PREJUDICADO', 'CASADO(A)', 'UNIAO ESTAVEL(A)', 'DIVORCIADO(A)',\n",
       "       'VIUVO(A)', 'SOLTEIRO(A)', 'SEPARADO(A)'], dtype=object)"
      ]
     },
     "execution_count": 46,
     "metadata": {},
     "output_type": "execute_result"
    }
   ],
   "source": [
    "\n",
    "def CleanEstadoCivil(arg):\n",
    "    if str(arg).upper()  in ['SOLTEIRO(A)_x000D_\\n', \"SOLTEIRO\", \"SOLTEIRO(A)_x000D_\\n\", \"SOTEIRO(A)\", \"SOLTEIRO (A)\", \"SOLTEIRA(A)\", \"SOLTERIO(A)\", \"SOLTIRO(A)\", \"SOLTERIRO(A)\", 'SOLTEIRA' ]:\n",
    "        return 'SOLTEIRO(A)'\n",
    "    elif str(arg).upper()    in ['CASADO', 'CASADO(A)']:\n",
    "        return 'CASADO(A)'\n",
    "    elif str(arg).upper()    in ['DIVORCIADO', 'DIVORCIADO(A)']:\n",
    "        return 'DIVORCIADO(A)'\n",
    "    elif str(arg).upper()    in ['VIUVO', 'VIUVO(A)', 'VIUVA', 'VIUVA(A)']:\n",
    "        return 'VIUVO(A)'\n",
    "\n",
    "\n",
    "    elif str(arg).upper()    in ['SEPARADO', 'SEPARADO(A)', 'SEPARADO(A)_x000D_']:\n",
    "        return 'SEPARADO(A)'\n",
    "\n",
    "    elif str(arg).upper()    in ['UNIAO ESTAVEL', 'UNIAO ESTAVEL ', 'UNIÃO ESTÁVEL', 'UNIAO ESTÁVEL', 'UNIÃO ESTAVEL', \"UNIÃO ESTÁVEL_x000D_\\n\"]:\n",
    "        return 'UNIAO ESTAVEL(A)'\n",
    "    \n",
    "    else:\n",
    "        return 'PREJUDICADO'\n",
    "df['ESTADO CIVÍL VÍTIMA']= df['ESTADO CIVÍL VÍTIMA'].apply(CleanEstadoCivil)\n",
    "df['ESTADO CIVÍL VÍTIMA'].unique()"
   ]
  },
  {
   "cell_type": "code",
   "execution_count": 51,
   "metadata": {
    "vscode": {
     "languageId": "shellscript"
    }
   },
   "outputs": [
    {
     "data": {
      "text/plain": [
       "array(['ENSINO FUNDAMENTAL INCOMPLETO', 'ENSINO MÉDIO COMPLETO',\n",
       "       'PREJUDICADO', 'SUPERIOR COMPLETO', 'SUPERIOR INCOMPLETO',\n",
       "       'ENSINO MÉDIO INCOMPLETO', 'ENSINO FUNDAMENTAL COMPLETO',\n",
       "       'ANALFABETO'], dtype=object)"
      ]
     },
     "execution_count": 51,
     "metadata": {},
     "output_type": "execute_result"
    }
   ],
   "source": [
    "df['GRAU DE INSTRUÇÃO VÍTIMA'].unique()\n",
    "def CleanGrauInstrucao(arg):\n",
    "    if str(arg).upper()  in ['ENSINO FUNDAMENTAL COMPLETO', 'ENSINO FUNDAMENTAL COMPLETO_x000D_\\n', 'ENSINO FUNDAMENTAL COMPLETO_x000D_', 'ENSINO FUNDAMENTAL COMPLETO_x000D_\\n', 'ENSINO FUNDAMENTAL INCOMPLET']:\n",
    "        return 'ENSINO FUNDAMENTAL COMPLETO'\n",
    "    elif str(arg).upper()    in ['ENSINO FUNDAMENTAL INCOMPLETO', 'ENSINO FUNDAMENTAL INCOMPLETO_x000D_\\n', 'ENSINO FUNDAMENTAL INCOMPLETO_x000D_', ' ENSINO FUNDAMENTAL INCOMPLETO']:\n",
    "        return 'ENSINO FUNDAMENTAL INCOMPLETO'\n",
    "    elif str(arg).upper()    in ['ENSINO MÉDIO COMPLETO', 'ENSINO MÉDIO COMPLETO_x000D_\\n', 'ENSINO MÉDIO COMPLETO_x000D_', 'ENSINO MEDIO COMPLETO']:\n",
    "        return 'ENSINO MÉDIO COMPLETO'\n",
    "    elif str(arg).upper()    in ['ENSINO MÉDIO INCOMPLETO', 'ENSINO MÉDIO INCOMPLETO_x000D_\\n', 'ENSINO MÉDIO INCOMPLETO_x000D_', 'ENSINO MEDIO INCOMPLETO']:\n",
    "        return 'ENSINO MÉDIO INCOMPLETO'\n",
    "    elif str(arg).upper()    in ['SUPERIOR COMPLETO', 'SUPERIOR COMPLETO_x000D_\\n', 'SUPERIOR COMPLETO_x000D_', 'ENSINO SUPERIOR COMPLETO']:\n",
    "        return 'SUPERIOR COMPLETO'\n",
    "    elif str(arg).upper()    in ['SUPERIOR INCOMPLETO', 'SUPERIOR INCOMPLETO_x000D_\\n', 'SUPERIOR INCOMPLETO_x000D_', 'ENSINO SUPERIOR INCOMPLETO']:\n",
    "        return 'SUPERIOR INCOMPLETO'\n",
    "    elif str(arg).upper()    in ['ANALFABETO', 'ANALFABETO_x000D_\\n', 'ANALFABETO_x000D_', 'NAO ALFABETIZADO']:\n",
    "        return 'ANALFABETO'\n",
    "    else:\n",
    "        return 'PREJUDICADO'\n",
    "df['GRAU DE INSTRUÇÃO VÍTIMA']=df['GRAU DE INSTRUÇÃO VÍTIMA'].apply(CleanGrauInstrucao)\n",
    "df['GRAU DE INSTRUÇÃO VÍTIMA'].unique()"
   ]
  },
  {
   "cell_type": "code",
   "execution_count": null,
   "metadata": {
    "vscode": {
     "languageId": "shellscript"
    }
   },
   "outputs": [
    {
     "data": {
      "text/plain": [
       "array(['PARDA', 'PREJUDICADO', 'PRETA', 'BRANCA', 'INDIGENA', 'AMARELA',\n",
       "       'JA LANCADO', nan], dtype=object)"
      ]
     },
     "execution_count": 64,
     "metadata": {},
     "output_type": "execute_result"
    }
   ],
   "source": [
    "df['COR VÍTIMA'].apply(lambda x: 'PREJUDICADO' if x=='PJ, EP E OUTROS' else x  ).unique()\n",
    "####################################################################\n",
    "####################################################################\n",
    "####################################################################\n",
    "\n",
    "####################################################################\n",
    "####################################################################\n",
    "####################################################################"
   ]
  },
  {
   "cell_type": "code",
   "execution_count": null,
   "metadata": {
    "vscode": {
     "languageId": "shellscript"
    }
   },
   "outputs": [
    {
     "data": {
      "text/plain": [
       "array(['IDOSO(A)', 'PREJUDICADO', 'PJ, EP E OUTROS', 'PM', 'MENOR',\n",
       "       'DOPADO(A)', 'RECEM NASCIDO', 'ALCOOLIZADO(A)',\n",
       "       'EX-PRESIDIARIO(A)/USUARIO(A) DE DROGAS',\n",
       "       'ANTECEDENTES/USUARIO(A) DE DROGAS', 'PESSOA COM DEFICIENCIA',\n",
       "       'PRESIDIARIO(A)', 'USUARIO(A) DE DROGAS', 'MILITAR DO EXERCITO',\n",
       "       'FOI DOPADO(A)', 'ANTECEDENTES',\n",
       "       'ANTECEDENTES/EX-PRESIDIARIO(A)/TRAFICANTE',\n",
       "       'ANTECEDENTES/ASSALTANTE/TRAFICANTE', 'PRESIDIARIO(A)/TRAFICANTE',\n",
       "       'MORADOR DE RUA', 'TRAFICANTE', 'GM', 'AG',\n",
       "       'ANTECEDENTES/EX-PRESIDIARIO(A)/USUARIO(A) DE DROGAS',\n",
       "       'MENOR/USUARIO(A) DE DROGAS', 'EX-PRESIDIARIO(A)', 'ASSALTANTE',\n",
       "       'LGBT', 'PRESIDIARIO(A)/LGBT', 'PP',\n",
       "       'ANTECEDENTES/ASSALTANTE/EX-PRESIDIARIO(A)/USUARIO(A) DE DROGAS/TRAFICANTE',\n",
       "       'TRAFICANTE/USUARIO(A) DE DROGAS', 'ANTECEDENTES/TRAFICANTE',\n",
       "       'ALCOOLIZADO(A)/MENOR',\n",
       "       'ANTECEDENTES/USUARIO(A) DE DROGAS/MORADOR(A) DE RUA', 'PC',\n",
       "       'ASSALTANTE/PRESIDIARIO(A)', 'GESTANTE', 'MENOR/DOPADO(A)',\n",
       "       'EX-PRESIDIARIO(A)/TRAFICANTE',\n",
       "       'MORADOR DE RUA/USUARIO(A) DE DROGAS', 'PM DA RESERVA',\n",
       "       'ANTECEDENTES/ASSALTANTE/PRESIDIARIO(A)',\n",
       "       'ASSALTANTE/ANTECEDENTES/EX-PRESIDIARIO(A)',\n",
       "       'EX-PRESIDIARIO(A)/FACCIONADO(A)/TRAFICANTE',\n",
       "       'ANTECEDENTES/FACCIONADO(A)/TRAFICANTE', 'PM/DOPADO(A)',\n",
       "       'ANTECEDENTES/ASSALTANTE/FACCIONADO(A)/TRAFICANTE',\n",
       "       'ANTECEDENTES/PRESIDIARIO(A)', 'MENOR/ALCOOLIZADO(A)',\n",
       "       'EX-PRESIDIARIO(A)/ANTECEDENTES', 'FORAGIDO(A) DE JUSTICA',\n",
       "       'FACCIONADO(A)', 'PRESIDIARIO(A)/ANTECEDENTES',\n",
       "       'PRESIDIARIO(A)/PESSOA COM DEFICIENCIA', 'EX-AGENTE PRISIONAL',\n",
       "       'PR', 'CBM', 'MENOR INFRATOR(A)',\n",
       "       'ANTECEDENTES/FORAGIDO(A) DA JUSTICA', 'VEREADOR(A)', 'BM',\n",
       "       'MENOR/FACCIONADO(A)',\n",
       "       'ASSALTANTE/ANTECEDENTES/FORAGIDO DE JUSTICA/USUARIO(A) DE DROGAS',\n",
       "       'ASSALTANTE/ANTECEDENTES/USUARIO(A) DE DROGAS', 'DEPRESSIVO(A)',\n",
       "       'ANTECEDENTES/EX-PRESIDIARIO(A)/FACCIONADO(A)',\n",
       "       'ASSALTANTE/EX-PRESIDIARIO(A)/FACCIONADO(A)',\n",
       "       'FOI DOPADO(A)/MENOR', 'ANTECEDENTES/FACCIONADO(A)',\n",
       "       'ANTECEDENTES/ASSALTANTE/PRESIDIARIO(A)/TRAFICANTE',\n",
       "       'EX-PRESIDIARIO/TRAFICANTE', 'FORAGIDO DE JUSTICA/TRAFICANTE',\n",
       "       'EX-PRESIDIARIO(A)/FACCIONADO(A)', 'LGBT/PRESIDIARIO(A)',\n",
       "       'MENOR/LGBT', 'USUARIO(A) DE DROGAS/MENOR/ANTECEDENTES',\n",
       "       'ASSALTANTE/FORAGIDO(A) DE JUSTICA/PRESIDIARIO(A)',\n",
       "       'ASSALTANTE/TRAFICANTE',\n",
       "       'TRAFICANTE/ANTECEDENTES/EX-PRESIDIARIO(A)',\n",
       "       'ANTECEDENTES/PRESIDIARIO(A)/TRAFICANTE',\n",
       "       'FACCIONADO(A)/EX-PRESIDIARIO(A)', 'INDIGENA',\n",
       "       'ANTECEDENTES/EX-PRESIDIARIO(A)',\n",
       "       'PRESIDIARIO(A)/USUARIO(A) DE DROGAS',\n",
       "       'FACCIONADO(A)/ANTECEDENTES/ASSALTANTE', 'ANTECEDENTES/ASSALTANTE',\n",
       "       'EX-PRESIDIARIO(A)/ANTECEDENTES/ASSALTANTE',\n",
       "       'EX-PRESIDIARIO(A)/TRAFICANTE/ANTECEDENTES',\n",
       "       'ALCOOLIZADO(A)/ANTECEDENTES', 'TRAFICANTE/EX-PRESIDIARIO(A)',\n",
       "       'AGENTE DE TRANSITO', 'ALCOOLIZADO(A)/USUARIO(A) DE DROGAS',\n",
       "       'ANTECEDENTES/FORAGIDO(A) DA JUSTICA/TRAFICANTE',\n",
       "       'FACCIONADO(A)/PRESIDIARIO(A)/TRAFICANTE',\n",
       "       'EX-PRESIDIARIO(A)/MORADOR(A) DE RUA',\n",
       "       'EX-PRESIDIARIO(A)/TRAFICANTE/USUARIO(A) DE DROGAS', 'JA LANCADO',\n",
       "       'MENOR/PESSOA COM DEFICIENCIA', 'IDOSO(A)/FOI DOPADO(A)',\n",
       "       'FACCIONADO(A)/TRAFICANTE', 'ASSALTANTE/EX-PRESIDIARIO(A)',\n",
       "       'ANTECEDENTE',\n",
       "       'ANTECEDENTES/EX-PRESIDIRIO(A)/FORAGIDO(A) DA JUSTICA',\n",
       "       'PRESIDIARIO(A)/FACCIONADO(A)', 'MENOR/TRAFICANTE',\n",
       "       'ASSALTANTE/FORAGIDO(A) DE JUSTICA/TRAFICANTE', 'PEJUDICADO',\n",
       "       'PRESIDIARIO(A)/FORAGIDO(A) DE JUSTICA',\n",
       "       'EX-PRESIDIARIO(A)/TRAFICANTE/ASSALTANTE', 'TORCIDA ORGANIZADA',\n",
       "       'EX-GM', 'IDOSO(A)/DOPADO(A)', 'PC/DOPADO(A)',\n",
       "       'MILITAR DA MARINHA',\n",
       "       'ANTECEDENTES/ASSALTANTE/PRESIDIARIO(A)/USUARIO(A) DE DROGAS',\n",
       "       'ANTECEDENTES/ASSALTANTE/EX-PRESIDIARIO(A)',\n",
       "       'LGBT/USUARIO(A) DE DROGAS', 'MILITAR DA AERONAUTICA',\n",
       "       'EX-PRESIDIARIO(A)/ASSALTANTE',\n",
       "       'USUARIO(A) DE DROGAS/MORADOR(A) DE RUA',\n",
       "       'USUARIO(A) DE DROGAS/LGBT', 'PM/IDOSO(A)', 'NAO INFORMADO',\n",
       "       'SEGURANCA', 'MANIACO DE MARITUBA', 'AERONAUTICA',\n",
       "       'AGENTE PRISIONAL', 'GAROTA DE PROGRAMA', 'POLITICO',\n",
       "       'FORCAS ARMADAS', 'PRF', 'GUARDA MUNICIPAL', 'EX PP',\n",
       "       'MENOR/VISTO', 'EX-PM', 'PF', 'PM REFORMADO',\n",
       "       'PM DA RESERVA/OUTRA UF', 'DESMAIADO(A)', 'VIGILANTE', 'FETO',\n",
       "       'BOMBEIRO CIVIL', 'PREFEITO(A)', 'OFICIAL DE JUSTICA', ' ',\n",
       "       'PC/AM', 'ASSALTANTE/USUARIO(A) DE DROGAS', 'MENOR/FACCIONADO',\n",
       "       'APOSENTADO(A)', 'QUILOMBO', 'NATIMORTO', 'DEPUTADO FEDERAL',\n",
       "       'VENEZUELANO'], dtype=object)"
      ]
     },
     "execution_count": 73,
     "metadata": {},
     "output_type": "execute_result"
    }
   ],
   "source": [
    "df['TIPO DE VÍTIMA'].fillna('PREJUDICADO', inplace=True)\n",
    "df['TIPO DE VÍTIMA'].unique()\n",
    "####################################################################\n",
    "####################################################################\n",
    "####################################################################\n",
    "#   TESTAR ALGUM ALGORITMO DE LLM COMO SIMILARIDADE DE COSENO PARA UNIR PALAVRAS PARECIDAS\n",
    "####################################################################\n",
    "####################################################################\n",
    "####################################################################\n"
   ]
  },
  {
   "cell_type": "code",
   "execution_count": 77,
   "metadata": {
    "vscode": {
     "languageId": "shellscript"
    }
   },
   "outputs": [
    {
     "data": {
      "text/plain": [
       "array(['ADULTO IV (35 A 64 ANOS)', 'ADULTO I (18 A 24 ANOS)',\n",
       "       'ADULTO II (25 A 29 ANOS)', 'PJ, EP E OUTROS',\n",
       "       'ADULTO III (30 A 34 ANOS)', 'ADOLESCENTE (12 A 17 ANOS)',\n",
       "       'CRIANCA (0 A 11 ANOS)', 'IDOSO (65 ANOS OU MAIS)', 'PREJUDICADO',\n",
       "       '040.744.492-00'], dtype=object)"
      ]
     },
     "execution_count": 77,
     "metadata": {},
     "output_type": "execute_result"
    }
   ],
   "source": [
    "df['FAIXA ETÁRIA VÍTIMA'].apply(lambda x: 'PREJUDICADO' if x=='JA LANCADO' else x, ).unique()"
   ]
  },
  {
   "cell_type": "code",
   "execution_count": 97,
   "metadata": {
    "vscode": {
     "languageId": "shellscript"
    }
   },
   "outputs": [
    {
     "data": {
      "text/plain": [
       "array([64.0, 50.0, 21.0, 25.0, 43.0, 'PREJUDICADO', 47.0, 31.0, 54.0,\n",
       "       22.0, 35.0, 32.0, 39.0, 33.0, 30.0, 36.0, 18.0, 34.0, 38.0, 44.0,\n",
       "       29.0, 15.0, 10.0, 65.0, 55.0, 45.0, 51.0, 24.0, 26.0, 77.0, 37.0,\n",
       "       67.0, 70.0, 48.0, 23.0, 20.0, 40.0, 14.0, 83.0, 11.0, 12.0, 46.0,\n",
       "       49.0, 78.0, 16.0, 52.0, 13.0, 17.0, 66.0, 58.0, 42.0, 28.0, 19.0,\n",
       "       9.0, 27.0, 6.0, 53.0, 71.0, 0.0, 68.0, 80.0, 56.0, 60.0, 73.0, 4.0,\n",
       "       57.0, 61.0, 63.0, 59.0, 75.0, 41.0, 74.0, 69.0, 76.0, 79.0, 84.0,\n",
       "       62.0, 87.0, 81.0, 3.0, 5.0, 72.0, 99.0, 8.0, 88.0, 7.0, 2.0, 85.0,\n",
       "       89.0, 91.0, 1.0, 82.0, 86.0, 92.0, 102.0, 90.0, 94.0, 93.0, 117.0,\n",
       "       97.0, 107.0, 106.0, 95.0, 100.0, 119.0, 110.0, 103.0, 112.0, 116.0,\n",
       "       96.0, 105.0, 101.0, 104.0, 111.0, 120.0, 98.0, 121.0, 108.0, 123.0],\n",
       "      dtype=object)"
      ]
     },
     "execution_count": 97,
     "metadata": {},
     "output_type": "execute_result"
    }
   ],
   "source": [
    "df['IDADE VÍTIMA'].apply(lambda x: 'PREJUDICADO' if x>140 else x ).fillna('PREJUDICADO').unique()"
   ]
  },
  {
   "cell_type": "code",
   "execution_count": 99,
   "metadata": {
    "vscode": {
     "languageId": "shellscript"
    }
   },
   "outputs": [
    {
     "data": {
      "text/plain": [
       "array(['01ª RISP', '12ª RISP', '08ª RISP', '02ª RISP', '10ª RISP',\n",
       "       '04ª RISP', '16ª RISP', '03ª RISP', '13ª RISP', '11ª RISP',\n",
       "       '05ª RISP', '15ª RISP', '06ª RISP', '14ª RISP', '09ª RISP',\n",
       "       '07ª RISP'], dtype=object)"
      ]
     },
     "execution_count": 99,
     "metadata": {},
     "output_type": "execute_result"
    }
   ],
   "source": [
    "df['RISP'].unique()"
   ]
  },
  {
   "cell_type": "code",
   "execution_count": 107,
   "metadata": {},
   "outputs": [
    {
     "data": {
      "text/plain": [
       "(821571, 30)"
      ]
     },
     "execution_count": 107,
     "metadata": {},
     "output_type": "execute_result"
    }
   ],
   "source": [
    "\n",
    "df.shape"
   ]
  },
  {
   "cell_type": "code",
   "execution_count": 10,
   "metadata": {},
   "outputs": [],
   "source": [
    "#month_en=[\"JANUARY\", \"FEBRUARY\", \"MARCH\", \"APRIL\", \"MAY\", \"JUNE\", \"JULY\", \"AUGUST\", \"SEPTEMBER\", \"OCTOBER\", \"NOVEMBER\", \"DECEMBER\"]"
   ]
  },
  {
   "cell_type": "code",
   "execution_count": 115,
   "metadata": {},
   "outputs": [
    {
     "data": {
      "text/html": [
       "\n",
       "        <iframe\n",
       "            width=\"100%\"\n",
       "            height=\"650\"\n",
       "            src=\"http://127.0.0.1:8050/\"\n",
       "            frameborder=\"0\"\n",
       "            allowfullscreen\n",
       "            \n",
       "        ></iframe>\n",
       "        "
      ],
      "text/plain": [
       "<IPython.lib.display.IFrame at 0x20c484bed50>"
      ]
     },
     "metadata": {},
     "output_type": "display_data"
    },
    {
     "name": "stderr",
     "output_type": "stream",
     "text": [
      "C:\\Users\\T-GAMER\\AppData\\Local\\Temp\\ipykernel_12824\\2857687910.py:39: SettingWithCopyWarning:\n",
      "\n",
      "\n",
      "A value is trying to be set on a copy of a slice from a DataFrame.\n",
      "Try using .loc[row_indexer,col_indexer] = value instead\n",
      "\n",
      "See the caveats in the documentation: https://pandas.pydata.org/pandas-docs/stable/user_guide/indexing.html#returning-a-view-versus-a-copy\n",
      "\n",
      "C:\\Users\\T-GAMER\\AppData\\Local\\Temp\\ipykernel_12824\\2857687910.py:39: FutureWarning:\n",
      "\n",
      "In a future version, `df.iloc[:, i] = newvals` will attempt to set the values inplace instead of always setting a new array. To retain the old behavior, use either `df[df.columns[i]] = newvals` or, if columns are non-unique, `df.isetitem(i, newvals)`\n",
      "\n"
     ]
    }
   ],
   "source": [
    "\n",
    "app = Dash(__name__)\n",
    "dfteste= pd.DataFrame([df['CONSOLIDADO(S)'], df['MÊS DO FATO'], df['ANO DO FATO']]).T\n",
    "#dfteste= dfteste.replace({'HOMICIDIO': 'MURDER'})\n",
    "#dfteste= dfteste.replace({\"JANEIRO\":\"JANUARY\", \"FEVEREIRO\":\"FEBRUARY\", \"MARÇO\":\"MARCH\", \"ABRIL\":\"APRIL\", \"MAIO\":\"MAY\", \"JUNHO\":\"JUNE\", \"JULHO\":\"JULY\", \"AGOSTO\":\"AUGUST\", \"SETEMBRO\":\"SEPTEMBER\", \"OUTUBRO\":\"OCTOBER\", \"NOVEMBRO\":\"NOVEMBER\", \"DEZEMBRO\":\"DECEMBER\"})\n",
    "#dfteste['YEAR']=  df['ANO DO FATO']\n",
    "\n",
    "dfteste= dfteste.groupby(['CONSOLIDADO(S)', 'MÊS DO FATO', 'ANO DO FATO']).size().reset_index(name='Contagem')\n",
    "# Layout da aplicação\n",
    "\n",
    "app.layout = html.Div([\n",
    "    html.H1(\"Gráfico de Ocorrências por Mês e Ano\", style={'textAlign': 'center', 'backgroundColor': 'white', 'marginTop': '20px'}),\n",
    "    \n",
    "    # Dropdown para selecionar o tipo de crime\n",
    "    dcc.Dropdown(\n",
    "        id='tipo-crime-dropdown',\n",
    "        options=[{'label': crime, 'value': crime} for crime in dfteste['CONSOLIDADO(S)'].unique()],\n",
    "        value=dfteste['CONSOLIDADO(S)'].unique()[0],  # Valor inicial\n",
    "        clearable=False\n",
    "    ),\n",
    "    # Componente para exibir o gráfico\n",
    "    dcc.Graph(id='crime-graph'),\n",
    "\n",
    "    # Anotação fora do gráfico\n",
    "    html.Div(\"Fonte: Banco de Dados SEGUP\", style={'textAlign': 'center', 'marginTop': '20px'})\n",
    "])\n",
    "\n",
    "# Callback para atualizar o gráfico com base na seleção do dropdown\n",
    "@app.callback(\n",
    "    Output('crime-graph', 'figure'),\n",
    "    Input('tipo-crime-dropdown', 'value')\n",
    ")\n",
    "def update_graph(selected_crime):\n",
    "    # Filtrar o DataFrame pelo tipo de crime selecionado\n",
    "    df_filtered = dfteste.loc[dfteste['CONSOLIDADO(S)'] == selected_crime]\n",
    "\n",
    "    # Ordenar os meses\n",
    "    meses_ordenados = [\"JANEIRO\", \"FEVEREIRO\", \"MARÇO\", \"ABRIL\", \"MAIO\", \"JUNHO\", \n",
    "                    \"JULHO\", \"AGOSTO\", \"SETEMBRO\", \"OUTUBRO\", \"NOVEMBRO\", \"DEZEMBRO\"]\n",
    "    df_filtered.loc[:, 'MÊS DO FATO'] = pd.Categorical(df_filtered['MÊS DO FATO'], categories=meses_ordenados, ordered=True)\n",
    "    df_filtered = df_filtered.sort_values(['ANO DO FATO', 'MÊS DO FATO'])\n",
    "\n",
    "    \n",
    "    # Criar o gráfico de linhas\n",
    "    fig = px.line(df_filtered, x='MÊS DO FATO', y='Contagem', color='ANO DO FATO', \n",
    "                  title=f'Ocorrências de {selected_crime} por Mês e Ano', markers=True)\n",
    "    \n",
    "    return fig\n",
    "\n",
    "# Rodar a aplicação\n",
    "if __name__ == '__main__':\n",
    "    app.run_server(debug=True)\n"
   ]
  },
  {
   "cell_type": "code",
   "execution_count": 12,
   "metadata": {},
   "outputs": [
    {
     "data": {
      "application/vnd.plotly.v1+json": {
       "config": {
        "plotlyServerURL": "https://plot.ly"
       },
       "data": [
        {
         "branchvalues": "total",
         "domain": {
          "x": [
           0,
           1
          ],
          "y": [
           0,
           1
          ]
         },
         "hovertemplate": "<b>%{label}</b><br>Contagem de casos: %{value} <extra></extra>",
         "ids": [
          "ADOLESCENTE (12 A 17 ANOS)/AMIGO(A)",
          "ADULTO I (18 A 24 ANOS)/AMIGO(A)",
          "ADULTO II (25 A 29 ANOS)/AMIGO(A)",
          "ADULTO III (30 A 34 ANOS)/AMIGO(A)",
          "ADULTO IV (35 A 64 ANOS)/AMIGO(A)",
          "CRIANCA (0 A 11 ANOS)/AMIGO(A)",
          "ADOLESCENTE (12 A 17 ANOS)/ASSALTANTE",
          "ADOLESCENTE (12 A 17 ANOS)/AVO",
          "ADULTO I (18 A 24 ANOS)/AVO",
          "ADULTO II (25 A 29 ANOS)/AVO",
          "ADULTO IV (35 A 64 ANOS)/AVO",
          "CRIANCA (0 A 11 ANOS)/AVO",
          "ADOLESCENTE (12 A 17 ANOS)/BISAVO",
          "CRIANCA (0 A 11 ANOS)/BISAVO",
          "ADOLESCENTE (12 A 17 ANOS)/COMPANHEIRO(A)",
          "ADULTO I (18 A 24 ANOS)/COMPANHEIRO(A)",
          "ADULTO II (25 A 29 ANOS)/COMPANHEIRO(A)",
          "ADULTO III (30 A 34 ANOS)/COMPANHEIRO(A)",
          "ADULTO IV (35 A 64 ANOS)/COMPANHEIRO(A)",
          "CRIANCA (0 A 11 ANOS)/COMPANHEIRO(A)",
          "IDOSO (65 ANOS OU MAIS)/COMPANHEIRO(A)",
          "ADOLESCENTE (12 A 17 ANOS)/CONHECIDO(A)",
          "ADULTO I (18 A 24 ANOS)/CONHECIDO(A)",
          "ADULTO II (25 A 29 ANOS)/CONHECIDO(A)",
          "ADULTO III (30 A 34 ANOS)/CONHECIDO(A)",
          "ADULTO IV (35 A 64 ANOS)/CONHECIDO(A)",
          "CRIANCA (0 A 11 ANOS)/CONHECIDO(A)",
          "IDOSO (65 ANOS OU MAIS)/CONHECIDO(A)",
          "ADOLESCENTE (12 A 17 ANOS)/CUNHADO(A)",
          "ADULTO I (18 A 24 ANOS)/CUNHADO(A)",
          "ADULTO II (25 A 29 ANOS)/CUNHADO(A)",
          "ADULTO III (30 A 34 ANOS)/CUNHADO(A)",
          "ADULTO IV (35 A 64 ANOS)/CUNHADO(A)",
          "CRIANCA (0 A 11 ANOS)/CUNHADO(A)",
          "ADOLESCENTE (12 A 17 ANOS)/DESCONHECIDO(A)",
          "ADULTO I (18 A 24 ANOS)/DESCONHECIDO(A)",
          "ADULTO II (25 A 29 ANOS)/DESCONHECIDO(A)",
          "ADULTO III (30 A 34 ANOS)/DESCONHECIDO(A)",
          "ADULTO IV (35 A 64 ANOS)/DESCONHECIDO(A)",
          "CRIANCA (0 A 11 ANOS)/DESCONHECIDO(A)",
          "IDOSO (65 ANOS OU MAIS)/DESCONHECIDO(A)",
          "ADOLESCENTE (12 A 17 ANOS)/DOCENTE",
          "ADOLESCENTE (12 A 17 ANOS)/DSECONHECIDO(A)",
          "CRIANCA (0 A 11 ANOS)/EMPREGADOR(A)",
          "ADOLESCENTE (12 A 17 ANOS)/ENTEADO(A)",
          "ADOLESCENTE (12 A 17 ANOS)/EX NAMORADO(A)",
          "ADULTO II (25 A 29 ANOS)/EX- TIO(A)",
          "ADOLESCENTE (12 A 17 ANOS)/EX-COMPANHEIRO(A)",
          "ADULTO I (18 A 24 ANOS)/EX-COMPANHEIRO(A)",
          "ADULTO II (25 A 29 ANOS)/EX-COMPANHEIRO(A)",
          "ADULTO III (30 A 34 ANOS)/EX-COMPANHEIRO(A)",
          "ADULTO IV (35 A 64 ANOS)/EX-COMPANHEIRO(A)",
          "CRIANCA (0 A 11 ANOS)/EX-COMPANHEIRO(A)",
          "IDOSO (65 ANOS OU MAIS)/EX-COMPANHEIRO(A)",
          "ADOLESCENTE (12 A 17 ANOS)/EX-CUNHADO(A)",
          "ADULTO IV (35 A 64 ANOS)/EX-CUNHADO(A)",
          "CRIANCA (0 A 11 ANOS)/EX-CUNHADO(A)",
          "ADOLESCENTE (12 A 17 ANOS)/EX-NAMORADO(A)",
          "ADULTO I (18 A 24 ANOS)/EX-NAMORADO(A)",
          "ADULTO II (25 A 29 ANOS)/EX-NAMORADO(A)",
          "ADULTO III (30 A 34 ANOS)/EX-NAMORADO(A)",
          "ADULTO IV (35 A 64 ANOS)/EX-NAMORADO(A)",
          "CRIANCA (0 A 11 ANOS)/EX-NAMORADO(A)",
          "ADOLESCENTE (12 A 17 ANOS)/EX-PADRASTO",
          "ADULTO I (18 A 24 ANOS)/EX-PADRASTO",
          "ADULTO II (25 A 29 ANOS)/EX-PADRASTO",
          "ADULTO III (30 A 34 ANOS)/EX-PADRASTO",
          "ADULTO IV (35 A 64 ANOS)/EX-PADRASTO",
          "CRIANCA (0 A 11 ANOS)/EX-PADRASTO",
          "ADOLESCENTE (12 A 17 ANOS)/EX-VIZINHO(A)",
          "IDOSO (65 ANOS OU MAIS)/FILHO(A)",
          "ADULTO IV (35 A 64 ANOS)/GENRO",
          "IDOSO (65 ANOS OU MAIS)/GENRO",
          "ADOLESCENTE (12 A 17 ANOS)/IRMAO(A)",
          "ADULTO I (18 A 24 ANOS)/IRMAO(A)",
          "ADULTO II (25 A 29 ANOS)/IRMAO(A)",
          "ADULTO III (30 A 34 ANOS)/IRMAO(A)",
          "ADULTO IV (35 A 64 ANOS)/IRMAO(A)",
          "CRIANCA (0 A 11 ANOS)/IRMAO(A)",
          "IDOSO (65 ANOS OU MAIS)/IRMAO(A)",
          "ADOLESCENTE (12 A 17 ANOS)/MADRASTA",
          "ADULTO I (18 A 24 ANOS)/MADRASTA",
          "CRIANCA (0 A 11 ANOS)/MADRASTA",
          "CRIANCA (0 A 11 ANOS)/MADRINHA",
          "ADOLESCENTE (12 A 17 ANOS)/MAE",
          "ADULTO I (18 A 24 ANOS)/MAE",
          "CRIANCA (0 A 11 ANOS)/MAE",
          "ADOLESCENTE (12 A 17 ANOS)/NAMARADO(A)",
          "ADOLESCENTE (12 A 17 ANOS)/NAMORADO",
          "ADULTO II (25 A 29 ANOS)/NAMORADO",
          "ADOLESCENTE (12 A 17 ANOS)/NAMORADO(A)",
          "ADULTO I (18 A 24 ANOS)/NAMORADO(A)",
          "ADULTO II (25 A 29 ANOS)/NAMORADO(A)",
          "ADULTO III (30 A 34 ANOS)/NAMORADO(A)",
          "ADULTO IV (35 A 64 ANOS)/NAMORADO(A)",
          "CRIANCA (0 A 11 ANOS)/NAMORADO(A)",
          "ADOLESCENTE (12 A 17 ANOS)/NAO",
          "ADOLESCENTE (12 A 17 ANOS)/NAO INFORMADO",
          "ADULTO I (18 A 24 ANOS)/NAO INFORMADO",
          "ADULTO II (25 A 29 ANOS)/NAO INFORMADO",
          "ADULTO III (30 A 34 ANOS)/NAO INFORMADO",
          "ADULTO IV (35 A 64 ANOS)/NAO INFORMADO",
          "CRIANCA (0 A 11 ANOS)/NAO INFORMADO",
          "IDOSO (65 ANOS OU MAIS)/NAO INFORMADO",
          "IDOSO (65 ANOS OU MAIS)/NETO(A)",
          "CRIANCA (0 A 11 ANOS)/PADASTRO",
          "ADOLESCENTE (12 A 17 ANOS)/PADRASTO",
          "ADULTO I (18 A 24 ANOS)/PADRASTO",
          "ADULTO II (25 A 29 ANOS)/PADRASTO",
          "ADULTO III (30 A 34 ANOS)/PADRASTO",
          "ADULTO IV (35 A 64 ANOS)/PADRASTO",
          "CRIANCA (0 A 11 ANOS)/PADRASTO",
          "ADOLESCENTE (12 A 17 ANOS)/PADRINHO",
          "CRIANCA (0 A 11 ANOS)/PADRINHO",
          "ADOLESCENTE (12 A 17 ANOS)/PAI",
          "ADULTO I (18 A 24 ANOS)/PAI",
          "ADULTO II (25 A 29 ANOS)/PAI",
          "ADULTO III (30 A 34 ANOS)/PAI",
          "ADULTO IV (35 A 64 ANOS)/PAI",
          "CRIANCA (0 A 11 ANOS)/PAI",
          "IDOSO (65 ANOS OU MAIS)/PAI",
          "CRIANCA (0 A 11 ANOS)/PAI DO PADRASTO",
          "ADOLESCENTE (12 A 17 ANOS)/PARENTESCO POR AFINIDADE",
          "ADULTO I (18 A 24 ANOS)/PARENTESCO POR AFINIDADE",
          "ADULTO II (25 A 29 ANOS)/PARENTESCO POR AFINIDADE",
          "ADULTO III (30 A 34 ANOS)/PARENTESCO POR AFINIDADE",
          "ADULTO IV (35 A 64 ANOS)/PARENTESCO POR AFINIDADE",
          "CRIANCA (0 A 11 ANOS)/PARENTESCO POR AFINIDADE",
          "IDOSO (65 ANOS OU MAIS)/PARENTESCO POR AFINIDADE",
          "ADOLESCENTE (12 A 17 ANOS)/PERJUDICADO",
          "ADOLESCENTE (12 A 17 ANOS)/PRIMO(A)",
          "ADULTO I (18 A 24 ANOS)/PRIMO(A)",
          "ADULTO II (25 A 29 ANOS)/PRIMO(A)",
          "ADULTO III (30 A 34 ANOS)/PRIMO(A)",
          "ADULTO IV (35 A 64 ANOS)/PRIMO(A)",
          "CRIANCA (0 A 11 ANOS)/PRIMO(A)",
          "IDOSO (65 ANOS OU MAIS)/PRIMO(A)",
          "ADOLESCENTE (12 A 17 ANOS)/PROFESSOR(A)",
          "ADULTO I (18 A 24 ANOS)/PROFESSOR(A)",
          "CRIANCA (0 A 11 ANOS)/PROFESSOR(A)",
          "ADULTO IV (35 A 64 ANOS)/S",
          "ADOLESCENTE (12 A 17 ANOS)/SOBRINHO(A)",
          "ADULTO IV (35 A 64 ANOS)/SOBRINHO(A)",
          "IDOSO (65 ANOS OU MAIS)/SOBRINHO(A)",
          "ADOLESCENTE (12 A 17 ANOS)/SOGRO(A)",
          "ADULTO I (18 A 24 ANOS)/SOGRO(A)",
          "ADULTO II (25 A 29 ANOS)/SOGRO(A)",
          "CRIANCA (0 A 11 ANOS)/SOGRO(A)",
          "ADULTO I (18 A 24 ANOS)/SUPERIOR HIERARQUICO",
          "ADOLESCENTE (12 A 17 ANOS)/TIO",
          "CRIANCA (0 A 11 ANOS)/TIO",
          "ADOLESCENTE (12 A 17 ANOS)/TIO (A)",
          "CRIANCA (0 A 11 ANOS)/TIO (A)",
          "ADOLESCENTE (12 A 17 ANOS)/TIO(A)",
          "ADULTO I (18 A 24 ANOS)/TIO(A)",
          "ADULTO II (25 A 29 ANOS)/TIO(A)",
          "ADULTO III (30 A 34 ANOS)/TIO(A)",
          "ADULTO IV (35 A 64 ANOS)/TIO(A)",
          "CRIANCA (0 A 11 ANOS)/TIO(A)",
          "ADOLESCENTE (12 A 17 ANOS)/VIZINHO(A)",
          "ADULTO I (18 A 24 ANOS)/VIZINHO(A)",
          "ADULTO II (25 A 29 ANOS)/VIZINHO(A)",
          "ADULTO III (30 A 34 ANOS)/VIZINHO(A)",
          "ADULTO IV (35 A 64 ANOS)/VIZINHO(A)",
          "CRIANCA (0 A 11 ANOS)/VIZINHO(A)",
          "IDOSO (65 ANOS OU MAIS)/VIZINHO(A)",
          "ADOLESCENTE (12 A 17 ANOS)",
          "ADULTO I (18 A 24 ANOS)",
          "ADULTO II (25 A 29 ANOS)",
          "ADULTO III (30 A 34 ANOS)",
          "ADULTO IV (35 A 64 ANOS)",
          "CRIANCA (0 A 11 ANOS)",
          "IDOSO (65 ANOS OU MAIS)"
         ],
         "labels": [
          "AMIGO(A)",
          "AMIGO(A)",
          "AMIGO(A)",
          "AMIGO(A)",
          "AMIGO(A)",
          "AMIGO(A)",
          "ASSALTANTE",
          "AVO",
          "AVO",
          "AVO",
          "AVO",
          "AVO",
          "BISAVO",
          "BISAVO",
          "COMPANHEIRO(A)",
          "COMPANHEIRO(A)",
          "COMPANHEIRO(A)",
          "COMPANHEIRO(A)",
          "COMPANHEIRO(A)",
          "COMPANHEIRO(A)",
          "COMPANHEIRO(A)",
          "CONHECIDO(A)",
          "CONHECIDO(A)",
          "CONHECIDO(A)",
          "CONHECIDO(A)",
          "CONHECIDO(A)",
          "CONHECIDO(A)",
          "CONHECIDO(A)",
          "CUNHADO(A)",
          "CUNHADO(A)",
          "CUNHADO(A)",
          "CUNHADO(A)",
          "CUNHADO(A)",
          "CUNHADO(A)",
          "DESCONHECIDO(A)",
          "DESCONHECIDO(A)",
          "DESCONHECIDO(A)",
          "DESCONHECIDO(A)",
          "DESCONHECIDO(A)",
          "DESCONHECIDO(A)",
          "DESCONHECIDO(A)",
          "DOCENTE",
          "DSECONHECIDO(A)",
          "EMPREGADOR(A)",
          "ENTEADO(A)",
          "EX NAMORADO(A)",
          "EX- TIO(A)",
          "EX-COMPANHEIRO(A)",
          "EX-COMPANHEIRO(A)",
          "EX-COMPANHEIRO(A)",
          "EX-COMPANHEIRO(A)",
          "EX-COMPANHEIRO(A)",
          "EX-COMPANHEIRO(A)",
          "EX-COMPANHEIRO(A)",
          "EX-CUNHADO(A)",
          "EX-CUNHADO(A)",
          "EX-CUNHADO(A)",
          "EX-NAMORADO(A)",
          "EX-NAMORADO(A)",
          "EX-NAMORADO(A)",
          "EX-NAMORADO(A)",
          "EX-NAMORADO(A)",
          "EX-NAMORADO(A)",
          "EX-PADRASTO",
          "EX-PADRASTO",
          "EX-PADRASTO",
          "EX-PADRASTO",
          "EX-PADRASTO",
          "EX-PADRASTO",
          "EX-VIZINHO(A)",
          "FILHO(A)",
          "GENRO",
          "GENRO",
          "IRMAO(A)",
          "IRMAO(A)",
          "IRMAO(A)",
          "IRMAO(A)",
          "IRMAO(A)",
          "IRMAO(A)",
          "IRMAO(A)",
          "MADRASTA",
          "MADRASTA",
          "MADRASTA",
          "MADRINHA",
          "MAE",
          "MAE",
          "MAE",
          "NAMARADO(A)",
          "NAMORADO",
          "NAMORADO",
          "NAMORADO(A)",
          "NAMORADO(A)",
          "NAMORADO(A)",
          "NAMORADO(A)",
          "NAMORADO(A)",
          "NAMORADO(A)",
          "NAO",
          "NAO INFORMADO",
          "NAO INFORMADO",
          "NAO INFORMADO",
          "NAO INFORMADO",
          "NAO INFORMADO",
          "NAO INFORMADO",
          "NAO INFORMADO",
          "NETO(A)",
          "PADASTRO",
          "PADRASTO",
          "PADRASTO",
          "PADRASTO",
          "PADRASTO",
          "PADRASTO",
          "PADRASTO",
          "PADRINHO",
          "PADRINHO",
          "PAI",
          "PAI",
          "PAI",
          "PAI",
          "PAI",
          "PAI",
          "PAI",
          "PAI DO PADRASTO",
          "PARENTESCO POR AFINIDADE",
          "PARENTESCO POR AFINIDADE",
          "PARENTESCO POR AFINIDADE",
          "PARENTESCO POR AFINIDADE",
          "PARENTESCO POR AFINIDADE",
          "PARENTESCO POR AFINIDADE",
          "PARENTESCO POR AFINIDADE",
          "PERJUDICADO",
          "PRIMO(A)",
          "PRIMO(A)",
          "PRIMO(A)",
          "PRIMO(A)",
          "PRIMO(A)",
          "PRIMO(A)",
          "PRIMO(A)",
          "PROFESSOR(A)",
          "PROFESSOR(A)",
          "PROFESSOR(A)",
          "S",
          "SOBRINHO(A)",
          "SOBRINHO(A)",
          "SOBRINHO(A)",
          "SOGRO(A)",
          "SOGRO(A)",
          "SOGRO(A)",
          "SOGRO(A)",
          "SUPERIOR HIERARQUICO",
          "TIO",
          "TIO",
          "TIO (A)",
          "TIO (A)",
          "TIO(A)",
          "TIO(A)",
          "TIO(A)",
          "TIO(A)",
          "TIO(A)",
          "TIO(A)",
          "VIZINHO(A)",
          "VIZINHO(A)",
          "VIZINHO(A)",
          "VIZINHO(A)",
          "VIZINHO(A)",
          "VIZINHO(A)",
          "VIZINHO(A)",
          "ADOLESCENTE (12 A 17 ANOS)",
          "ADULTO I (18 A 24 ANOS)",
          "ADULTO II (25 A 29 ANOS)",
          "ADULTO III (30 A 34 ANOS)",
          "ADULTO IV (35 A 64 ANOS)",
          "CRIANCA (0 A 11 ANOS)",
          "IDOSO (65 ANOS OU MAIS)"
         ],
         "name": "",
         "parents": [
          "ADOLESCENTE (12 A 17 ANOS)",
          "ADULTO I (18 A 24 ANOS)",
          "ADULTO II (25 A 29 ANOS)",
          "ADULTO III (30 A 34 ANOS)",
          "ADULTO IV (35 A 64 ANOS)",
          "CRIANCA (0 A 11 ANOS)",
          "ADOLESCENTE (12 A 17 ANOS)",
          "ADOLESCENTE (12 A 17 ANOS)",
          "ADULTO I (18 A 24 ANOS)",
          "ADULTO II (25 A 29 ANOS)",
          "ADULTO IV (35 A 64 ANOS)",
          "CRIANCA (0 A 11 ANOS)",
          "ADOLESCENTE (12 A 17 ANOS)",
          "CRIANCA (0 A 11 ANOS)",
          "ADOLESCENTE (12 A 17 ANOS)",
          "ADULTO I (18 A 24 ANOS)",
          "ADULTO II (25 A 29 ANOS)",
          "ADULTO III (30 A 34 ANOS)",
          "ADULTO IV (35 A 64 ANOS)",
          "CRIANCA (0 A 11 ANOS)",
          "IDOSO (65 ANOS OU MAIS)",
          "ADOLESCENTE (12 A 17 ANOS)",
          "ADULTO I (18 A 24 ANOS)",
          "ADULTO II (25 A 29 ANOS)",
          "ADULTO III (30 A 34 ANOS)",
          "ADULTO IV (35 A 64 ANOS)",
          "CRIANCA (0 A 11 ANOS)",
          "IDOSO (65 ANOS OU MAIS)",
          "ADOLESCENTE (12 A 17 ANOS)",
          "ADULTO I (18 A 24 ANOS)",
          "ADULTO II (25 A 29 ANOS)",
          "ADULTO III (30 A 34 ANOS)",
          "ADULTO IV (35 A 64 ANOS)",
          "CRIANCA (0 A 11 ANOS)",
          "ADOLESCENTE (12 A 17 ANOS)",
          "ADULTO I (18 A 24 ANOS)",
          "ADULTO II (25 A 29 ANOS)",
          "ADULTO III (30 A 34 ANOS)",
          "ADULTO IV (35 A 64 ANOS)",
          "CRIANCA (0 A 11 ANOS)",
          "IDOSO (65 ANOS OU MAIS)",
          "ADOLESCENTE (12 A 17 ANOS)",
          "ADOLESCENTE (12 A 17 ANOS)",
          "CRIANCA (0 A 11 ANOS)",
          "ADOLESCENTE (12 A 17 ANOS)",
          "ADOLESCENTE (12 A 17 ANOS)",
          "ADULTO II (25 A 29 ANOS)",
          "ADOLESCENTE (12 A 17 ANOS)",
          "ADULTO I (18 A 24 ANOS)",
          "ADULTO II (25 A 29 ANOS)",
          "ADULTO III (30 A 34 ANOS)",
          "ADULTO IV (35 A 64 ANOS)",
          "CRIANCA (0 A 11 ANOS)",
          "IDOSO (65 ANOS OU MAIS)",
          "ADOLESCENTE (12 A 17 ANOS)",
          "ADULTO IV (35 A 64 ANOS)",
          "CRIANCA (0 A 11 ANOS)",
          "ADOLESCENTE (12 A 17 ANOS)",
          "ADULTO I (18 A 24 ANOS)",
          "ADULTO II (25 A 29 ANOS)",
          "ADULTO III (30 A 34 ANOS)",
          "ADULTO IV (35 A 64 ANOS)",
          "CRIANCA (0 A 11 ANOS)",
          "ADOLESCENTE (12 A 17 ANOS)",
          "ADULTO I (18 A 24 ANOS)",
          "ADULTO II (25 A 29 ANOS)",
          "ADULTO III (30 A 34 ANOS)",
          "ADULTO IV (35 A 64 ANOS)",
          "CRIANCA (0 A 11 ANOS)",
          "ADOLESCENTE (12 A 17 ANOS)",
          "IDOSO (65 ANOS OU MAIS)",
          "ADULTO IV (35 A 64 ANOS)",
          "IDOSO (65 ANOS OU MAIS)",
          "ADOLESCENTE (12 A 17 ANOS)",
          "ADULTO I (18 A 24 ANOS)",
          "ADULTO II (25 A 29 ANOS)",
          "ADULTO III (30 A 34 ANOS)",
          "ADULTO IV (35 A 64 ANOS)",
          "CRIANCA (0 A 11 ANOS)",
          "IDOSO (65 ANOS OU MAIS)",
          "ADOLESCENTE (12 A 17 ANOS)",
          "ADULTO I (18 A 24 ANOS)",
          "CRIANCA (0 A 11 ANOS)",
          "CRIANCA (0 A 11 ANOS)",
          "ADOLESCENTE (12 A 17 ANOS)",
          "ADULTO I (18 A 24 ANOS)",
          "CRIANCA (0 A 11 ANOS)",
          "ADOLESCENTE (12 A 17 ANOS)",
          "ADOLESCENTE (12 A 17 ANOS)",
          "ADULTO II (25 A 29 ANOS)",
          "ADOLESCENTE (12 A 17 ANOS)",
          "ADULTO I (18 A 24 ANOS)",
          "ADULTO II (25 A 29 ANOS)",
          "ADULTO III (30 A 34 ANOS)",
          "ADULTO IV (35 A 64 ANOS)",
          "CRIANCA (0 A 11 ANOS)",
          "ADOLESCENTE (12 A 17 ANOS)",
          "ADOLESCENTE (12 A 17 ANOS)",
          "ADULTO I (18 A 24 ANOS)",
          "ADULTO II (25 A 29 ANOS)",
          "ADULTO III (30 A 34 ANOS)",
          "ADULTO IV (35 A 64 ANOS)",
          "CRIANCA (0 A 11 ANOS)",
          "IDOSO (65 ANOS OU MAIS)",
          "IDOSO (65 ANOS OU MAIS)",
          "CRIANCA (0 A 11 ANOS)",
          "ADOLESCENTE (12 A 17 ANOS)",
          "ADULTO I (18 A 24 ANOS)",
          "ADULTO II (25 A 29 ANOS)",
          "ADULTO III (30 A 34 ANOS)",
          "ADULTO IV (35 A 64 ANOS)",
          "CRIANCA (0 A 11 ANOS)",
          "ADOLESCENTE (12 A 17 ANOS)",
          "CRIANCA (0 A 11 ANOS)",
          "ADOLESCENTE (12 A 17 ANOS)",
          "ADULTO I (18 A 24 ANOS)",
          "ADULTO II (25 A 29 ANOS)",
          "ADULTO III (30 A 34 ANOS)",
          "ADULTO IV (35 A 64 ANOS)",
          "CRIANCA (0 A 11 ANOS)",
          "IDOSO (65 ANOS OU MAIS)",
          "CRIANCA (0 A 11 ANOS)",
          "ADOLESCENTE (12 A 17 ANOS)",
          "ADULTO I (18 A 24 ANOS)",
          "ADULTO II (25 A 29 ANOS)",
          "ADULTO III (30 A 34 ANOS)",
          "ADULTO IV (35 A 64 ANOS)",
          "CRIANCA (0 A 11 ANOS)",
          "IDOSO (65 ANOS OU MAIS)",
          "ADOLESCENTE (12 A 17 ANOS)",
          "ADOLESCENTE (12 A 17 ANOS)",
          "ADULTO I (18 A 24 ANOS)",
          "ADULTO II (25 A 29 ANOS)",
          "ADULTO III (30 A 34 ANOS)",
          "ADULTO IV (35 A 64 ANOS)",
          "CRIANCA (0 A 11 ANOS)",
          "IDOSO (65 ANOS OU MAIS)",
          "ADOLESCENTE (12 A 17 ANOS)",
          "ADULTO I (18 A 24 ANOS)",
          "CRIANCA (0 A 11 ANOS)",
          "ADULTO IV (35 A 64 ANOS)",
          "ADOLESCENTE (12 A 17 ANOS)",
          "ADULTO IV (35 A 64 ANOS)",
          "IDOSO (65 ANOS OU MAIS)",
          "ADOLESCENTE (12 A 17 ANOS)",
          "ADULTO I (18 A 24 ANOS)",
          "ADULTO II (25 A 29 ANOS)",
          "CRIANCA (0 A 11 ANOS)",
          "ADULTO I (18 A 24 ANOS)",
          "ADOLESCENTE (12 A 17 ANOS)",
          "CRIANCA (0 A 11 ANOS)",
          "ADOLESCENTE (12 A 17 ANOS)",
          "CRIANCA (0 A 11 ANOS)",
          "ADOLESCENTE (12 A 17 ANOS)",
          "ADULTO I (18 A 24 ANOS)",
          "ADULTO II (25 A 29 ANOS)",
          "ADULTO III (30 A 34 ANOS)",
          "ADULTO IV (35 A 64 ANOS)",
          "CRIANCA (0 A 11 ANOS)",
          "ADOLESCENTE (12 A 17 ANOS)",
          "ADULTO I (18 A 24 ANOS)",
          "ADULTO II (25 A 29 ANOS)",
          "ADULTO III (30 A 34 ANOS)",
          "ADULTO IV (35 A 64 ANOS)",
          "CRIANCA (0 A 11 ANOS)",
          "IDOSO (65 ANOS OU MAIS)",
          "",
          "",
          "",
          "",
          "",
          "",
          ""
         ],
         "type": "sunburst",
         "values": [
          75,
          55,
          15,
          5,
          13,
          45,
          1,
          154,
          6,
          3,
          1,
          399,
          1,
          17,
          189,
          24,
          22,
          13,
          62,
          8,
          5,
          279,
          71,
          25,
          12,
          23,
          181,
          3,
          89,
          22,
          8,
          6,
          10,
          32,
          113,
          28,
          3,
          5,
          13,
          65,
          1,
          2,
          1,
          1,
          3,
          1,
          1,
          15,
          43,
          41,
          27,
          62,
          4,
          1,
          6,
          2,
          6,
          39,
          20,
          4,
          4,
          12,
          1,
          151,
          10,
          1,
          1,
          1,
          120,
          1,
          1,
          2,
          1,
          112,
          9,
          2,
          4,
          2,
          140,
          1,
          1,
          1,
          3,
          1,
          14,
          3,
          15,
          1,
          3,
          1,
          717,
          14,
          3,
          8,
          5,
          42,
          1,
          621,
          123,
          35,
          30,
          60,
          412,
          3,
          1,
          1,
          1094,
          81,
          22,
          8,
          12,
          1081,
          9,
          11,
          479,
          46,
          9,
          12,
          8,
          591,
          1,
          2,
          291,
          30,
          10,
          9,
          7,
          443,
          1,
          1,
          222,
          21,
          7,
          3,
          4,
          349,
          1,
          10,
          1,
          5,
          1,
          2,
          2,
          1,
          2,
          1,
          1,
          3,
          1,
          1,
          2,
          1,
          1,
          537,
          54,
          13,
          7,
          11,
          650,
          260,
          30,
          14,
          6,
          13,
          330,
          2,
          5499,
          694,
          240,
          160,
          326,
          4961,
          23
         ]
        }
       ],
       "layout": {
        "annotations": [
         {
          "align": "left",
          "bgcolor": "lightgrey",
          "font": {
           "color": "black",
           "size": 15
          },
          "showarrow": false,
          "text": "Os maiores números de casos são entre vítimas que tem menos de 17 anos<br>Os maiores números de casos são com pessoas próximas e conhecidas",
          "x": -0.1,
          "y": -0.08
         }
        ],
        "height": 900,
        "legend": {
         "tracegroupgap": 0
        },
        "template": {
         "data": {
          "bar": [
           {
            "error_x": {
             "color": "#2a3f5f"
            },
            "error_y": {
             "color": "#2a3f5f"
            },
            "marker": {
             "line": {
              "color": "#E5ECF6",
              "width": 0.5
             },
             "pattern": {
              "fillmode": "overlay",
              "size": 10,
              "solidity": 0.2
             }
            },
            "type": "bar"
           }
          ],
          "barpolar": [
           {
            "marker": {
             "line": {
              "color": "#E5ECF6",
              "width": 0.5
             },
             "pattern": {
              "fillmode": "overlay",
              "size": 10,
              "solidity": 0.2
             }
            },
            "type": "barpolar"
           }
          ],
          "carpet": [
           {
            "aaxis": {
             "endlinecolor": "#2a3f5f",
             "gridcolor": "white",
             "linecolor": "white",
             "minorgridcolor": "white",
             "startlinecolor": "#2a3f5f"
            },
            "baxis": {
             "endlinecolor": "#2a3f5f",
             "gridcolor": "white",
             "linecolor": "white",
             "minorgridcolor": "white",
             "startlinecolor": "#2a3f5f"
            },
            "type": "carpet"
           }
          ],
          "choropleth": [
           {
            "colorbar": {
             "outlinewidth": 0,
             "ticks": ""
            },
            "type": "choropleth"
           }
          ],
          "contour": [
           {
            "colorbar": {
             "outlinewidth": 0,
             "ticks": ""
            },
            "colorscale": [
             [
              0,
              "#0d0887"
             ],
             [
              0.1111111111111111,
              "#46039f"
             ],
             [
              0.2222222222222222,
              "#7201a8"
             ],
             [
              0.3333333333333333,
              "#9c179e"
             ],
             [
              0.4444444444444444,
              "#bd3786"
             ],
             [
              0.5555555555555556,
              "#d8576b"
             ],
             [
              0.6666666666666666,
              "#ed7953"
             ],
             [
              0.7777777777777778,
              "#fb9f3a"
             ],
             [
              0.8888888888888888,
              "#fdca26"
             ],
             [
              1,
              "#f0f921"
             ]
            ],
            "type": "contour"
           }
          ],
          "contourcarpet": [
           {
            "colorbar": {
             "outlinewidth": 0,
             "ticks": ""
            },
            "type": "contourcarpet"
           }
          ],
          "heatmap": [
           {
            "colorbar": {
             "outlinewidth": 0,
             "ticks": ""
            },
            "colorscale": [
             [
              0,
              "#0d0887"
             ],
             [
              0.1111111111111111,
              "#46039f"
             ],
             [
              0.2222222222222222,
              "#7201a8"
             ],
             [
              0.3333333333333333,
              "#9c179e"
             ],
             [
              0.4444444444444444,
              "#bd3786"
             ],
             [
              0.5555555555555556,
              "#d8576b"
             ],
             [
              0.6666666666666666,
              "#ed7953"
             ],
             [
              0.7777777777777778,
              "#fb9f3a"
             ],
             [
              0.8888888888888888,
              "#fdca26"
             ],
             [
              1,
              "#f0f921"
             ]
            ],
            "type": "heatmap"
           }
          ],
          "heatmapgl": [
           {
            "colorbar": {
             "outlinewidth": 0,
             "ticks": ""
            },
            "colorscale": [
             [
              0,
              "#0d0887"
             ],
             [
              0.1111111111111111,
              "#46039f"
             ],
             [
              0.2222222222222222,
              "#7201a8"
             ],
             [
              0.3333333333333333,
              "#9c179e"
             ],
             [
              0.4444444444444444,
              "#bd3786"
             ],
             [
              0.5555555555555556,
              "#d8576b"
             ],
             [
              0.6666666666666666,
              "#ed7953"
             ],
             [
              0.7777777777777778,
              "#fb9f3a"
             ],
             [
              0.8888888888888888,
              "#fdca26"
             ],
             [
              1,
              "#f0f921"
             ]
            ],
            "type": "heatmapgl"
           }
          ],
          "histogram": [
           {
            "marker": {
             "pattern": {
              "fillmode": "overlay",
              "size": 10,
              "solidity": 0.2
             }
            },
            "type": "histogram"
           }
          ],
          "histogram2d": [
           {
            "colorbar": {
             "outlinewidth": 0,
             "ticks": ""
            },
            "colorscale": [
             [
              0,
              "#0d0887"
             ],
             [
              0.1111111111111111,
              "#46039f"
             ],
             [
              0.2222222222222222,
              "#7201a8"
             ],
             [
              0.3333333333333333,
              "#9c179e"
             ],
             [
              0.4444444444444444,
              "#bd3786"
             ],
             [
              0.5555555555555556,
              "#d8576b"
             ],
             [
              0.6666666666666666,
              "#ed7953"
             ],
             [
              0.7777777777777778,
              "#fb9f3a"
             ],
             [
              0.8888888888888888,
              "#fdca26"
             ],
             [
              1,
              "#f0f921"
             ]
            ],
            "type": "histogram2d"
           }
          ],
          "histogram2dcontour": [
           {
            "colorbar": {
             "outlinewidth": 0,
             "ticks": ""
            },
            "colorscale": [
             [
              0,
              "#0d0887"
             ],
             [
              0.1111111111111111,
              "#46039f"
             ],
             [
              0.2222222222222222,
              "#7201a8"
             ],
             [
              0.3333333333333333,
              "#9c179e"
             ],
             [
              0.4444444444444444,
              "#bd3786"
             ],
             [
              0.5555555555555556,
              "#d8576b"
             ],
             [
              0.6666666666666666,
              "#ed7953"
             ],
             [
              0.7777777777777778,
              "#fb9f3a"
             ],
             [
              0.8888888888888888,
              "#fdca26"
             ],
             [
              1,
              "#f0f921"
             ]
            ],
            "type": "histogram2dcontour"
           }
          ],
          "mesh3d": [
           {
            "colorbar": {
             "outlinewidth": 0,
             "ticks": ""
            },
            "type": "mesh3d"
           }
          ],
          "parcoords": [
           {
            "line": {
             "colorbar": {
              "outlinewidth": 0,
              "ticks": ""
             }
            },
            "type": "parcoords"
           }
          ],
          "pie": [
           {
            "automargin": true,
            "type": "pie"
           }
          ],
          "scatter": [
           {
            "fillpattern": {
             "fillmode": "overlay",
             "size": 10,
             "solidity": 0.2
            },
            "type": "scatter"
           }
          ],
          "scatter3d": [
           {
            "line": {
             "colorbar": {
              "outlinewidth": 0,
              "ticks": ""
             }
            },
            "marker": {
             "colorbar": {
              "outlinewidth": 0,
              "ticks": ""
             }
            },
            "type": "scatter3d"
           }
          ],
          "scattercarpet": [
           {
            "marker": {
             "colorbar": {
              "outlinewidth": 0,
              "ticks": ""
             }
            },
            "type": "scattercarpet"
           }
          ],
          "scattergeo": [
           {
            "marker": {
             "colorbar": {
              "outlinewidth": 0,
              "ticks": ""
             }
            },
            "type": "scattergeo"
           }
          ],
          "scattergl": [
           {
            "marker": {
             "colorbar": {
              "outlinewidth": 0,
              "ticks": ""
             }
            },
            "type": "scattergl"
           }
          ],
          "scattermapbox": [
           {
            "marker": {
             "colorbar": {
              "outlinewidth": 0,
              "ticks": ""
             }
            },
            "type": "scattermapbox"
           }
          ],
          "scatterpolar": [
           {
            "marker": {
             "colorbar": {
              "outlinewidth": 0,
              "ticks": ""
             }
            },
            "type": "scatterpolar"
           }
          ],
          "scatterpolargl": [
           {
            "marker": {
             "colorbar": {
              "outlinewidth": 0,
              "ticks": ""
             }
            },
            "type": "scatterpolargl"
           }
          ],
          "scatterternary": [
           {
            "marker": {
             "colorbar": {
              "outlinewidth": 0,
              "ticks": ""
             }
            },
            "type": "scatterternary"
           }
          ],
          "surface": [
           {
            "colorbar": {
             "outlinewidth": 0,
             "ticks": ""
            },
            "colorscale": [
             [
              0,
              "#0d0887"
             ],
             [
              0.1111111111111111,
              "#46039f"
             ],
             [
              0.2222222222222222,
              "#7201a8"
             ],
             [
              0.3333333333333333,
              "#9c179e"
             ],
             [
              0.4444444444444444,
              "#bd3786"
             ],
             [
              0.5555555555555556,
              "#d8576b"
             ],
             [
              0.6666666666666666,
              "#ed7953"
             ],
             [
              0.7777777777777778,
              "#fb9f3a"
             ],
             [
              0.8888888888888888,
              "#fdca26"
             ],
             [
              1,
              "#f0f921"
             ]
            ],
            "type": "surface"
           }
          ],
          "table": [
           {
            "cells": {
             "fill": {
              "color": "#EBF0F8"
             },
             "line": {
              "color": "white"
             }
            },
            "header": {
             "fill": {
              "color": "#C8D4E3"
             },
             "line": {
              "color": "white"
             }
            },
            "type": "table"
           }
          ]
         },
         "layout": {
          "annotationdefaults": {
           "arrowcolor": "#2a3f5f",
           "arrowhead": 0,
           "arrowwidth": 1
          },
          "autotypenumbers": "strict",
          "coloraxis": {
           "colorbar": {
            "outlinewidth": 0,
            "ticks": ""
           }
          },
          "colorscale": {
           "diverging": [
            [
             0,
             "#8e0152"
            ],
            [
             0.1,
             "#c51b7d"
            ],
            [
             0.2,
             "#de77ae"
            ],
            [
             0.3,
             "#f1b6da"
            ],
            [
             0.4,
             "#fde0ef"
            ],
            [
             0.5,
             "#f7f7f7"
            ],
            [
             0.6,
             "#e6f5d0"
            ],
            [
             0.7,
             "#b8e186"
            ],
            [
             0.8,
             "#7fbc41"
            ],
            [
             0.9,
             "#4d9221"
            ],
            [
             1,
             "#276419"
            ]
           ],
           "sequential": [
            [
             0,
             "#0d0887"
            ],
            [
             0.1111111111111111,
             "#46039f"
            ],
            [
             0.2222222222222222,
             "#7201a8"
            ],
            [
             0.3333333333333333,
             "#9c179e"
            ],
            [
             0.4444444444444444,
             "#bd3786"
            ],
            [
             0.5555555555555556,
             "#d8576b"
            ],
            [
             0.6666666666666666,
             "#ed7953"
            ],
            [
             0.7777777777777778,
             "#fb9f3a"
            ],
            [
             0.8888888888888888,
             "#fdca26"
            ],
            [
             1,
             "#f0f921"
            ]
           ],
           "sequentialminus": [
            [
             0,
             "#0d0887"
            ],
            [
             0.1111111111111111,
             "#46039f"
            ],
            [
             0.2222222222222222,
             "#7201a8"
            ],
            [
             0.3333333333333333,
             "#9c179e"
            ],
            [
             0.4444444444444444,
             "#bd3786"
            ],
            [
             0.5555555555555556,
             "#d8576b"
            ],
            [
             0.6666666666666666,
             "#ed7953"
            ],
            [
             0.7777777777777778,
             "#fb9f3a"
            ],
            [
             0.8888888888888888,
             "#fdca26"
            ],
            [
             1,
             "#f0f921"
            ]
           ]
          },
          "colorway": [
           "#636efa",
           "#EF553B",
           "#00cc96",
           "#ab63fa",
           "#FFA15A",
           "#19d3f3",
           "#FF6692",
           "#B6E880",
           "#FF97FF",
           "#FECB52"
          ],
          "font": {
           "color": "#2a3f5f"
          },
          "geo": {
           "bgcolor": "white",
           "lakecolor": "white",
           "landcolor": "#E5ECF6",
           "showlakes": true,
           "showland": true,
           "subunitcolor": "white"
          },
          "hoverlabel": {
           "align": "left"
          },
          "hovermode": "closest",
          "mapbox": {
           "style": "light"
          },
          "paper_bgcolor": "white",
          "plot_bgcolor": "#E5ECF6",
          "polar": {
           "angularaxis": {
            "gridcolor": "white",
            "linecolor": "white",
            "ticks": ""
           },
           "bgcolor": "#E5ECF6",
           "radialaxis": {
            "gridcolor": "white",
            "linecolor": "white",
            "ticks": ""
           }
          },
          "scene": {
           "xaxis": {
            "backgroundcolor": "#E5ECF6",
            "gridcolor": "white",
            "gridwidth": 2,
            "linecolor": "white",
            "showbackground": true,
            "ticks": "",
            "zerolinecolor": "white"
           },
           "yaxis": {
            "backgroundcolor": "#E5ECF6",
            "gridcolor": "white",
            "gridwidth": 2,
            "linecolor": "white",
            "showbackground": true,
            "ticks": "",
            "zerolinecolor": "white"
           },
           "zaxis": {
            "backgroundcolor": "#E5ECF6",
            "gridcolor": "white",
            "gridwidth": 2,
            "linecolor": "white",
            "showbackground": true,
            "ticks": "",
            "zerolinecolor": "white"
           }
          },
          "shapedefaults": {
           "line": {
            "color": "#2a3f5f"
           }
          },
          "ternary": {
           "aaxis": {
            "gridcolor": "white",
            "linecolor": "white",
            "ticks": ""
           },
           "baxis": {
            "gridcolor": "white",
            "linecolor": "white",
            "ticks": ""
           },
           "bgcolor": "#E5ECF6",
           "caxis": {
            "gridcolor": "white",
            "linecolor": "white",
            "ticks": ""
           }
          },
          "title": {
           "x": 0.05
          },
          "xaxis": {
           "automargin": true,
           "gridcolor": "white",
           "linecolor": "white",
           "ticks": "",
           "title": {
            "standoff": 15
           },
           "zerolinecolor": "white",
           "zerolinewidth": 2
          },
          "yaxis": {
           "automargin": true,
           "gridcolor": "white",
           "linecolor": "white",
           "ticks": "",
           "title": {
            "standoff": 15
           },
           "zerolinecolor": "white",
           "zerolinewidth": 2
          }
         }
        },
        "title": {
         "font": {
          "size": 20
         },
         "text": "Casos de estupro ocorridos no estado do Pará por grau de relacionamento"
        },
        "width": 900
       }
      }
     },
     "metadata": {},
     "output_type": "display_data"
    }
   ],
   "source": [
    "df_vulneravel= df[df['CONSOLIDADO(S)']=='ESTUPRO']\n",
    "df_vulneravel= pd.concat([df_vulneravel, df[df['CONSOLIDADO(S)']=='ESTUPRO DE VULNERAVEL']]).dropna(subset='GRAU DE RELACIONAMENTO')\n",
    "\n",
    "df_vulneravel= df_vulneravel.loc[df_vulneravel['GRAU DE RELACIONAMENTO']!='PREJUDICADO']\n",
    "df_vulneravel= df_vulneravel.loc[df_vulneravel['FAIXA ETÁRIA VÍTIMA']!='PREJUDICADO']\n",
    "\n",
    "fig = px.sunburst(df_vulneravel, path=['FAIXA ETÁRIA VÍTIMA', 'GRAU DE RELACIONAMENTO' ] , title='Casos de estupro ocorridos no estado do Pará por grau de relacionamento', width=900, height=900)\n",
    "fig.update_traces(\n",
    "    hovertemplate='<b>%{label}</b><br>Contagem de casos: %{value} <extra></extra>')\n",
    "annotations = [\n",
    "    dict(\n",
    "        x=-0.1, \n",
    "        y=-0.08, \n",
    "        text=\"Os maiores números de casos são entre vítimas que tem menos de 17 anos<br>Os maiores números de casos são com pessoas próximas e conhecidas\", \n",
    "        font=dict(size=15, color=\"black\"),\n",
    "        showarrow=False,\n",
    "        bgcolor=\"lightgrey\",  \n",
    "        align='left'\n",
    "    ),\n",
    "]\n",
    "\n",
    "fig.update_layout(annotations=annotations, title_font=dict(size=20) )\n",
    "\n",
    "fig.show()\n"
   ]
  },
  {
   "cell_type": "code",
   "execution_count": 13,
   "metadata": {},
   "outputs": [
    {
     "data": {
      "application/vnd.plotly.v1+json": {
       "config": {
        "plotlyServerURL": "https://plot.ly"
       },
       "data": [
        {
         "alignmentgroup": "True",
         "hovertemplate": "BAIRRO(S)=MARCO<br>MUNICÍPIO(S)=%{x}<br>count=%{y}<extra></extra>",
         "legendgroup": "MARCO",
         "marker": {
          "color": "#636efa",
          "pattern": {
           "shape": ""
          }
         },
         "name": "MARCO",
         "offsetgroup": "MARCO",
         "orientation": "v",
         "showlegend": true,
         "textposition": "auto",
         "type": "bar",
         "x": [
          "BELEM"
         ],
         "xaxis": "x",
         "y": [
          16738
         ],
         "yaxis": "y"
        },
        {
         "alignmentgroup": "True",
         "hovertemplate": "BAIRRO(S)=PEDREIRA<br>MUNICÍPIO(S)=%{x}<br>count=%{y}<extra></extra>",
         "legendgroup": "PEDREIRA",
         "marker": {
          "color": "#EF553B",
          "pattern": {
           "shape": ""
          }
         },
         "name": "PEDREIRA",
         "offsetgroup": "PEDREIRA",
         "orientation": "v",
         "showlegend": true,
         "textposition": "auto",
         "type": "bar",
         "x": [
          "BELEM"
         ],
         "xaxis": "x",
         "y": [
          14298
         ],
         "yaxis": "y"
        },
        {
         "alignmentgroup": "True",
         "hovertemplate": "BAIRRO(S)=GUAMA<br>MUNICÍPIO(S)=%{x}<br>count=%{y}<extra></extra>",
         "legendgroup": "GUAMA",
         "marker": {
          "color": "#00cc96",
          "pattern": {
           "shape": ""
          }
         },
         "name": "GUAMA",
         "offsetgroup": "GUAMA",
         "orientation": "v",
         "showlegend": true,
         "textposition": "auto",
         "type": "bar",
         "x": [
          "BELEM"
         ],
         "xaxis": "x",
         "y": [
          13855
         ],
         "yaxis": "y"
        },
        {
         "alignmentgroup": "True",
         "hovertemplate": "BAIRRO(S)=CIDADE NOVA<br>MUNICÍPIO(S)=%{x}<br>count=%{y}<extra></extra>",
         "legendgroup": "CIDADE NOVA",
         "marker": {
          "color": "#ab63fa",
          "pattern": {
           "shape": ""
          }
         },
         "name": "CIDADE NOVA",
         "offsetgroup": "CIDADE NOVA",
         "orientation": "v",
         "showlegend": true,
         "textposition": "auto",
         "type": "bar",
         "x": [
          "ANANINDEUA"
         ],
         "xaxis": "x",
         "y": [
          14037
         ],
         "yaxis": "y"
        },
        {
         "alignmentgroup": "True",
         "hovertemplate": "BAIRRO(S)=CENTRO DE ANANINDEUA<br>MUNICÍPIO(S)=%{x}<br>count=%{y}<extra></extra>",
         "legendgroup": "CENTRO DE ANANINDEUA",
         "marker": {
          "color": "#FFA15A",
          "pattern": {
           "shape": ""
          }
         },
         "name": "CENTRO DE ANANINDEUA",
         "offsetgroup": "CENTRO DE ANANINDEUA",
         "orientation": "v",
         "showlegend": true,
         "textposition": "auto",
         "type": "bar",
         "x": [
          "ANANINDEUA"
         ],
         "xaxis": "x",
         "y": [
          11075
         ],
         "yaxis": "y"
        },
        {
         "alignmentgroup": "True",
         "hovertemplate": "BAIRRO(S)=COQUEIRO ANANINDEUA<br>MUNICÍPIO(S)=%{x}<br>count=%{y}<extra></extra>",
         "legendgroup": "COQUEIRO ANANINDEUA",
         "marker": {
          "color": "#19d3f3",
          "pattern": {
           "shape": ""
          }
         },
         "name": "COQUEIRO ANANINDEUA",
         "offsetgroup": "COQUEIRO ANANINDEUA",
         "orientation": "v",
         "showlegend": true,
         "textposition": "auto",
         "type": "bar",
         "x": [
          "ANANINDEUA"
         ],
         "xaxis": "x",
         "y": [
          8968
         ],
         "yaxis": "y"
        }
       ],
       "layout": {
        "barmode": "group",
        "legend": {
         "title": {
          "text": "BAIRRO(S)"
         },
         "tracegroupgap": 0
        },
        "template": {
         "data": {
          "bar": [
           {
            "error_x": {
             "color": "#2a3f5f"
            },
            "error_y": {
             "color": "#2a3f5f"
            },
            "marker": {
             "line": {
              "color": "#E5ECF6",
              "width": 0.5
             },
             "pattern": {
              "fillmode": "overlay",
              "size": 10,
              "solidity": 0.2
             }
            },
            "type": "bar"
           }
          ],
          "barpolar": [
           {
            "marker": {
             "line": {
              "color": "#E5ECF6",
              "width": 0.5
             },
             "pattern": {
              "fillmode": "overlay",
              "size": 10,
              "solidity": 0.2
             }
            },
            "type": "barpolar"
           }
          ],
          "carpet": [
           {
            "aaxis": {
             "endlinecolor": "#2a3f5f",
             "gridcolor": "white",
             "linecolor": "white",
             "minorgridcolor": "white",
             "startlinecolor": "#2a3f5f"
            },
            "baxis": {
             "endlinecolor": "#2a3f5f",
             "gridcolor": "white",
             "linecolor": "white",
             "minorgridcolor": "white",
             "startlinecolor": "#2a3f5f"
            },
            "type": "carpet"
           }
          ],
          "choropleth": [
           {
            "colorbar": {
             "outlinewidth": 0,
             "ticks": ""
            },
            "type": "choropleth"
           }
          ],
          "contour": [
           {
            "colorbar": {
             "outlinewidth": 0,
             "ticks": ""
            },
            "colorscale": [
             [
              0,
              "#0d0887"
             ],
             [
              0.1111111111111111,
              "#46039f"
             ],
             [
              0.2222222222222222,
              "#7201a8"
             ],
             [
              0.3333333333333333,
              "#9c179e"
             ],
             [
              0.4444444444444444,
              "#bd3786"
             ],
             [
              0.5555555555555556,
              "#d8576b"
             ],
             [
              0.6666666666666666,
              "#ed7953"
             ],
             [
              0.7777777777777778,
              "#fb9f3a"
             ],
             [
              0.8888888888888888,
              "#fdca26"
             ],
             [
              1,
              "#f0f921"
             ]
            ],
            "type": "contour"
           }
          ],
          "contourcarpet": [
           {
            "colorbar": {
             "outlinewidth": 0,
             "ticks": ""
            },
            "type": "contourcarpet"
           }
          ],
          "heatmap": [
           {
            "colorbar": {
             "outlinewidth": 0,
             "ticks": ""
            },
            "colorscale": [
             [
              0,
              "#0d0887"
             ],
             [
              0.1111111111111111,
              "#46039f"
             ],
             [
              0.2222222222222222,
              "#7201a8"
             ],
             [
              0.3333333333333333,
              "#9c179e"
             ],
             [
              0.4444444444444444,
              "#bd3786"
             ],
             [
              0.5555555555555556,
              "#d8576b"
             ],
             [
              0.6666666666666666,
              "#ed7953"
             ],
             [
              0.7777777777777778,
              "#fb9f3a"
             ],
             [
              0.8888888888888888,
              "#fdca26"
             ],
             [
              1,
              "#f0f921"
             ]
            ],
            "type": "heatmap"
           }
          ],
          "heatmapgl": [
           {
            "colorbar": {
             "outlinewidth": 0,
             "ticks": ""
            },
            "colorscale": [
             [
              0,
              "#0d0887"
             ],
             [
              0.1111111111111111,
              "#46039f"
             ],
             [
              0.2222222222222222,
              "#7201a8"
             ],
             [
              0.3333333333333333,
              "#9c179e"
             ],
             [
              0.4444444444444444,
              "#bd3786"
             ],
             [
              0.5555555555555556,
              "#d8576b"
             ],
             [
              0.6666666666666666,
              "#ed7953"
             ],
             [
              0.7777777777777778,
              "#fb9f3a"
             ],
             [
              0.8888888888888888,
              "#fdca26"
             ],
             [
              1,
              "#f0f921"
             ]
            ],
            "type": "heatmapgl"
           }
          ],
          "histogram": [
           {
            "marker": {
             "pattern": {
              "fillmode": "overlay",
              "size": 10,
              "solidity": 0.2
             }
            },
            "type": "histogram"
           }
          ],
          "histogram2d": [
           {
            "colorbar": {
             "outlinewidth": 0,
             "ticks": ""
            },
            "colorscale": [
             [
              0,
              "#0d0887"
             ],
             [
              0.1111111111111111,
              "#46039f"
             ],
             [
              0.2222222222222222,
              "#7201a8"
             ],
             [
              0.3333333333333333,
              "#9c179e"
             ],
             [
              0.4444444444444444,
              "#bd3786"
             ],
             [
              0.5555555555555556,
              "#d8576b"
             ],
             [
              0.6666666666666666,
              "#ed7953"
             ],
             [
              0.7777777777777778,
              "#fb9f3a"
             ],
             [
              0.8888888888888888,
              "#fdca26"
             ],
             [
              1,
              "#f0f921"
             ]
            ],
            "type": "histogram2d"
           }
          ],
          "histogram2dcontour": [
           {
            "colorbar": {
             "outlinewidth": 0,
             "ticks": ""
            },
            "colorscale": [
             [
              0,
              "#0d0887"
             ],
             [
              0.1111111111111111,
              "#46039f"
             ],
             [
              0.2222222222222222,
              "#7201a8"
             ],
             [
              0.3333333333333333,
              "#9c179e"
             ],
             [
              0.4444444444444444,
              "#bd3786"
             ],
             [
              0.5555555555555556,
              "#d8576b"
             ],
             [
              0.6666666666666666,
              "#ed7953"
             ],
             [
              0.7777777777777778,
              "#fb9f3a"
             ],
             [
              0.8888888888888888,
              "#fdca26"
             ],
             [
              1,
              "#f0f921"
             ]
            ],
            "type": "histogram2dcontour"
           }
          ],
          "mesh3d": [
           {
            "colorbar": {
             "outlinewidth": 0,
             "ticks": ""
            },
            "type": "mesh3d"
           }
          ],
          "parcoords": [
           {
            "line": {
             "colorbar": {
              "outlinewidth": 0,
              "ticks": ""
             }
            },
            "type": "parcoords"
           }
          ],
          "pie": [
           {
            "automargin": true,
            "type": "pie"
           }
          ],
          "scatter": [
           {
            "fillpattern": {
             "fillmode": "overlay",
             "size": 10,
             "solidity": 0.2
            },
            "type": "scatter"
           }
          ],
          "scatter3d": [
           {
            "line": {
             "colorbar": {
              "outlinewidth": 0,
              "ticks": ""
             }
            },
            "marker": {
             "colorbar": {
              "outlinewidth": 0,
              "ticks": ""
             }
            },
            "type": "scatter3d"
           }
          ],
          "scattercarpet": [
           {
            "marker": {
             "colorbar": {
              "outlinewidth": 0,
              "ticks": ""
             }
            },
            "type": "scattercarpet"
           }
          ],
          "scattergeo": [
           {
            "marker": {
             "colorbar": {
              "outlinewidth": 0,
              "ticks": ""
             }
            },
            "type": "scattergeo"
           }
          ],
          "scattergl": [
           {
            "marker": {
             "colorbar": {
              "outlinewidth": 0,
              "ticks": ""
             }
            },
            "type": "scattergl"
           }
          ],
          "scattermapbox": [
           {
            "marker": {
             "colorbar": {
              "outlinewidth": 0,
              "ticks": ""
             }
            },
            "type": "scattermapbox"
           }
          ],
          "scatterpolar": [
           {
            "marker": {
             "colorbar": {
              "outlinewidth": 0,
              "ticks": ""
             }
            },
            "type": "scatterpolar"
           }
          ],
          "scatterpolargl": [
           {
            "marker": {
             "colorbar": {
              "outlinewidth": 0,
              "ticks": ""
             }
            },
            "type": "scatterpolargl"
           }
          ],
          "scatterternary": [
           {
            "marker": {
             "colorbar": {
              "outlinewidth": 0,
              "ticks": ""
             }
            },
            "type": "scatterternary"
           }
          ],
          "surface": [
           {
            "colorbar": {
             "outlinewidth": 0,
             "ticks": ""
            },
            "colorscale": [
             [
              0,
              "#0d0887"
             ],
             [
              0.1111111111111111,
              "#46039f"
             ],
             [
              0.2222222222222222,
              "#7201a8"
             ],
             [
              0.3333333333333333,
              "#9c179e"
             ],
             [
              0.4444444444444444,
              "#bd3786"
             ],
             [
              0.5555555555555556,
              "#d8576b"
             ],
             [
              0.6666666666666666,
              "#ed7953"
             ],
             [
              0.7777777777777778,
              "#fb9f3a"
             ],
             [
              0.8888888888888888,
              "#fdca26"
             ],
             [
              1,
              "#f0f921"
             ]
            ],
            "type": "surface"
           }
          ],
          "table": [
           {
            "cells": {
             "fill": {
              "color": "#EBF0F8"
             },
             "line": {
              "color": "white"
             }
            },
            "header": {
             "fill": {
              "color": "#C8D4E3"
             },
             "line": {
              "color": "white"
             }
            },
            "type": "table"
           }
          ]
         },
         "layout": {
          "annotationdefaults": {
           "arrowcolor": "#2a3f5f",
           "arrowhead": 0,
           "arrowwidth": 1
          },
          "autotypenumbers": "strict",
          "coloraxis": {
           "colorbar": {
            "outlinewidth": 0,
            "ticks": ""
           }
          },
          "colorscale": {
           "diverging": [
            [
             0,
             "#8e0152"
            ],
            [
             0.1,
             "#c51b7d"
            ],
            [
             0.2,
             "#de77ae"
            ],
            [
             0.3,
             "#f1b6da"
            ],
            [
             0.4,
             "#fde0ef"
            ],
            [
             0.5,
             "#f7f7f7"
            ],
            [
             0.6,
             "#e6f5d0"
            ],
            [
             0.7,
             "#b8e186"
            ],
            [
             0.8,
             "#7fbc41"
            ],
            [
             0.9,
             "#4d9221"
            ],
            [
             1,
             "#276419"
            ]
           ],
           "sequential": [
            [
             0,
             "#0d0887"
            ],
            [
             0.1111111111111111,
             "#46039f"
            ],
            [
             0.2222222222222222,
             "#7201a8"
            ],
            [
             0.3333333333333333,
             "#9c179e"
            ],
            [
             0.4444444444444444,
             "#bd3786"
            ],
            [
             0.5555555555555556,
             "#d8576b"
            ],
            [
             0.6666666666666666,
             "#ed7953"
            ],
            [
             0.7777777777777778,
             "#fb9f3a"
            ],
            [
             0.8888888888888888,
             "#fdca26"
            ],
            [
             1,
             "#f0f921"
            ]
           ],
           "sequentialminus": [
            [
             0,
             "#0d0887"
            ],
            [
             0.1111111111111111,
             "#46039f"
            ],
            [
             0.2222222222222222,
             "#7201a8"
            ],
            [
             0.3333333333333333,
             "#9c179e"
            ],
            [
             0.4444444444444444,
             "#bd3786"
            ],
            [
             0.5555555555555556,
             "#d8576b"
            ],
            [
             0.6666666666666666,
             "#ed7953"
            ],
            [
             0.7777777777777778,
             "#fb9f3a"
            ],
            [
             0.8888888888888888,
             "#fdca26"
            ],
            [
             1,
             "#f0f921"
            ]
           ]
          },
          "colorway": [
           "#636efa",
           "#EF553B",
           "#00cc96",
           "#ab63fa",
           "#FFA15A",
           "#19d3f3",
           "#FF6692",
           "#B6E880",
           "#FF97FF",
           "#FECB52"
          ],
          "font": {
           "color": "#2a3f5f"
          },
          "geo": {
           "bgcolor": "white",
           "lakecolor": "white",
           "landcolor": "#E5ECF6",
           "showlakes": true,
           "showland": true,
           "subunitcolor": "white"
          },
          "hoverlabel": {
           "align": "left"
          },
          "hovermode": "closest",
          "mapbox": {
           "style": "light"
          },
          "paper_bgcolor": "white",
          "plot_bgcolor": "#E5ECF6",
          "polar": {
           "angularaxis": {
            "gridcolor": "white",
            "linecolor": "white",
            "ticks": ""
           },
           "bgcolor": "#E5ECF6",
           "radialaxis": {
            "gridcolor": "white",
            "linecolor": "white",
            "ticks": ""
           }
          },
          "scene": {
           "xaxis": {
            "backgroundcolor": "#E5ECF6",
            "gridcolor": "white",
            "gridwidth": 2,
            "linecolor": "white",
            "showbackground": true,
            "ticks": "",
            "zerolinecolor": "white"
           },
           "yaxis": {
            "backgroundcolor": "#E5ECF6",
            "gridcolor": "white",
            "gridwidth": 2,
            "linecolor": "white",
            "showbackground": true,
            "ticks": "",
            "zerolinecolor": "white"
           },
           "zaxis": {
            "backgroundcolor": "#E5ECF6",
            "gridcolor": "white",
            "gridwidth": 2,
            "linecolor": "white",
            "showbackground": true,
            "ticks": "",
            "zerolinecolor": "white"
           }
          },
          "shapedefaults": {
           "line": {
            "color": "#2a3f5f"
           }
          },
          "ternary": {
           "aaxis": {
            "gridcolor": "white",
            "linecolor": "white",
            "ticks": ""
           },
           "baxis": {
            "gridcolor": "white",
            "linecolor": "white",
            "ticks": ""
           },
           "bgcolor": "#E5ECF6",
           "caxis": {
            "gridcolor": "white",
            "linecolor": "white",
            "ticks": ""
           }
          },
          "title": {
           "x": 0.05
          },
          "xaxis": {
           "automargin": true,
           "gridcolor": "white",
           "linecolor": "white",
           "ticks": "",
           "title": {
            "standoff": 15
           },
           "zerolinecolor": "white",
           "zerolinewidth": 2
          },
          "yaxis": {
           "automargin": true,
           "gridcolor": "white",
           "linecolor": "white",
           "ticks": "",
           "title": {
            "standoff": 15
           },
           "zerolinecolor": "white",
           "zerolinewidth": 2
          }
         }
        },
        "title": {
         "text": "Top 3 Bairros com Mais Incidentes em Belém e Ananindeua"
        },
        "xaxis": {
         "anchor": "y",
         "domain": [
          0,
          1
         ],
         "title": {
          "text": "MUNICÍPIO(S)"
         }
        },
        "yaxis": {
         "anchor": "x",
         "domain": [
          0,
          1
         ],
         "title": {
          "text": "count"
         }
        }
       }
      }
     },
     "metadata": {},
     "output_type": "display_data"
    }
   ],
   "source": [
    "\n",
    "df_filtered = df[df['MUNICÍPIO(S)'].isin(['BELEM', 'ANANINDEUA'])]\n",
    "\n",
    "df_grouped = df_filtered.groupby(['MUNICÍPIO(S)', 'BAIRRO(S)']).size().reset_index(name='count')\n",
    "\n",
    "df_top3 = df_grouped.sort_values(['MUNICÍPIO(S)', 'count'], ascending=False).groupby('MUNICÍPIO(S)').head(3)\n",
    "\n",
    "fig = px.bar(df_top3, x='MUNICÍPIO(S)', y='count', color='BAIRRO(S)', barmode='group',\n",
    "            title='Top 3 Bairros com Mais Incidentes em Belém e Ananindeua')\n",
    "fig.show()"
   ]
  },
  {
   "cell_type": "code",
   "execution_count": 14,
   "metadata": {},
   "outputs": [
    {
     "data": {
      "application/vnd.plotly.v1+json": {
       "config": {
        "plotlyServerURL": "https://plot.ly"
       },
       "data": [
        {
         "colorbar": {
          "title": {
           "text": "Número de Ocorrências"
          }
         },
         "colorscale": [
          [
           0,
           "#440154"
          ],
          [
           0.1111111111111111,
           "#482878"
          ],
          [
           0.2222222222222222,
           "#3e4989"
          ],
          [
           0.3333333333333333,
           "#31688e"
          ],
          [
           0.4444444444444444,
           "#26828e"
          ],
          [
           0.5555555555555556,
           "#1f9e89"
          ],
          [
           0.6666666666666666,
           "#35b779"
          ],
          [
           0.7777777777777778,
           "#6ece58"
          ],
          [
           0.8888888888888888,
           "#b5de2b"
          ],
          [
           1,
           "#fde725"
          ]
         ],
         "text": [
          [
           19522,
           17022,
           564,
           14402,
           14128
          ],
          [
           18447,
           13773,
           13762,
           13248,
           12905
          ],
          [
           15327,
           14098,
           15162,
           14268,
           13608
          ],
          [
           10513,
           14814,
           14899,
           14086,
           13550
          ],
          [
           11105,
           16689,
           15221,
           15284,
           14668
          ],
          [
           14896,
           16246,
           14761,
           15059,
           13929
          ],
          [
           16486,
           17430,
           15372,
           15120,
           12287
          ],
          [
           17620,
           17885,
           16203,
           14683,
           0
          ],
          [
           17118,
           17031,
           15562,
           14581,
           0
          ],
          [
           17704,
           17444,
           16185,
           15497,
           0
          ],
          [
           16644,
           16865,
           14547,
           14090,
           0
          ],
          [
           16240,
           15109,
           14235,
           13677,
           0
          ]
         ],
         "textfont": {
          "color": "white",
          "size": 12
         },
         "texttemplate": "%{text:.0f}",
         "type": "heatmap",
         "x": [
          2020,
          2021,
          2022,
          2023,
          2024
         ],
         "y": [
          1,
          2,
          3,
          4,
          5,
          6,
          7,
          8,
          9,
          10,
          11,
          12
         ],
         "z": [
          [
           19522,
           17022,
           564,
           14402,
           14128
          ],
          [
           18447,
           13773,
           13762,
           13248,
           12905
          ],
          [
           15327,
           14098,
           15162,
           14268,
           13608
          ],
          [
           10513,
           14814,
           14899,
           14086,
           13550
          ],
          [
           11105,
           16689,
           15221,
           15284,
           14668
          ],
          [
           14896,
           16246,
           14761,
           15059,
           13929
          ],
          [
           16486,
           17430,
           15372,
           15120,
           12287
          ],
          [
           17620,
           17885,
           16203,
           14683,
           0
          ],
          [
           17118,
           17031,
           15562,
           14581,
           0
          ],
          [
           17704,
           17444,
           16185,
           15497,
           0
          ],
          [
           16644,
           16865,
           14547,
           14090,
           0
          ],
          [
           16240,
           15109,
           14235,
           13677,
           0
          ]
         ]
        }
       ],
       "layout": {
        "autosize": false,
        "height": 600,
        "template": {
         "data": {
          "bar": [
           {
            "error_x": {
             "color": "#2a3f5f"
            },
            "error_y": {
             "color": "#2a3f5f"
            },
            "marker": {
             "line": {
              "color": "#E5ECF6",
              "width": 0.5
             },
             "pattern": {
              "fillmode": "overlay",
              "size": 10,
              "solidity": 0.2
             }
            },
            "type": "bar"
           }
          ],
          "barpolar": [
           {
            "marker": {
             "line": {
              "color": "#E5ECF6",
              "width": 0.5
             },
             "pattern": {
              "fillmode": "overlay",
              "size": 10,
              "solidity": 0.2
             }
            },
            "type": "barpolar"
           }
          ],
          "carpet": [
           {
            "aaxis": {
             "endlinecolor": "#2a3f5f",
             "gridcolor": "white",
             "linecolor": "white",
             "minorgridcolor": "white",
             "startlinecolor": "#2a3f5f"
            },
            "baxis": {
             "endlinecolor": "#2a3f5f",
             "gridcolor": "white",
             "linecolor": "white",
             "minorgridcolor": "white",
             "startlinecolor": "#2a3f5f"
            },
            "type": "carpet"
           }
          ],
          "choropleth": [
           {
            "colorbar": {
             "outlinewidth": 0,
             "ticks": ""
            },
            "type": "choropleth"
           }
          ],
          "contour": [
           {
            "colorbar": {
             "outlinewidth": 0,
             "ticks": ""
            },
            "colorscale": [
             [
              0,
              "#0d0887"
             ],
             [
              0.1111111111111111,
              "#46039f"
             ],
             [
              0.2222222222222222,
              "#7201a8"
             ],
             [
              0.3333333333333333,
              "#9c179e"
             ],
             [
              0.4444444444444444,
              "#bd3786"
             ],
             [
              0.5555555555555556,
              "#d8576b"
             ],
             [
              0.6666666666666666,
              "#ed7953"
             ],
             [
              0.7777777777777778,
              "#fb9f3a"
             ],
             [
              0.8888888888888888,
              "#fdca26"
             ],
             [
              1,
              "#f0f921"
             ]
            ],
            "type": "contour"
           }
          ],
          "contourcarpet": [
           {
            "colorbar": {
             "outlinewidth": 0,
             "ticks": ""
            },
            "type": "contourcarpet"
           }
          ],
          "heatmap": [
           {
            "colorbar": {
             "outlinewidth": 0,
             "ticks": ""
            },
            "colorscale": [
             [
              0,
              "#0d0887"
             ],
             [
              0.1111111111111111,
              "#46039f"
             ],
             [
              0.2222222222222222,
              "#7201a8"
             ],
             [
              0.3333333333333333,
              "#9c179e"
             ],
             [
              0.4444444444444444,
              "#bd3786"
             ],
             [
              0.5555555555555556,
              "#d8576b"
             ],
             [
              0.6666666666666666,
              "#ed7953"
             ],
             [
              0.7777777777777778,
              "#fb9f3a"
             ],
             [
              0.8888888888888888,
              "#fdca26"
             ],
             [
              1,
              "#f0f921"
             ]
            ],
            "type": "heatmap"
           }
          ],
          "heatmapgl": [
           {
            "colorbar": {
             "outlinewidth": 0,
             "ticks": ""
            },
            "colorscale": [
             [
              0,
              "#0d0887"
             ],
             [
              0.1111111111111111,
              "#46039f"
             ],
             [
              0.2222222222222222,
              "#7201a8"
             ],
             [
              0.3333333333333333,
              "#9c179e"
             ],
             [
              0.4444444444444444,
              "#bd3786"
             ],
             [
              0.5555555555555556,
              "#d8576b"
             ],
             [
              0.6666666666666666,
              "#ed7953"
             ],
             [
              0.7777777777777778,
              "#fb9f3a"
             ],
             [
              0.8888888888888888,
              "#fdca26"
             ],
             [
              1,
              "#f0f921"
             ]
            ],
            "type": "heatmapgl"
           }
          ],
          "histogram": [
           {
            "marker": {
             "pattern": {
              "fillmode": "overlay",
              "size": 10,
              "solidity": 0.2
             }
            },
            "type": "histogram"
           }
          ],
          "histogram2d": [
           {
            "colorbar": {
             "outlinewidth": 0,
             "ticks": ""
            },
            "colorscale": [
             [
              0,
              "#0d0887"
             ],
             [
              0.1111111111111111,
              "#46039f"
             ],
             [
              0.2222222222222222,
              "#7201a8"
             ],
             [
              0.3333333333333333,
              "#9c179e"
             ],
             [
              0.4444444444444444,
              "#bd3786"
             ],
             [
              0.5555555555555556,
              "#d8576b"
             ],
             [
              0.6666666666666666,
              "#ed7953"
             ],
             [
              0.7777777777777778,
              "#fb9f3a"
             ],
             [
              0.8888888888888888,
              "#fdca26"
             ],
             [
              1,
              "#f0f921"
             ]
            ],
            "type": "histogram2d"
           }
          ],
          "histogram2dcontour": [
           {
            "colorbar": {
             "outlinewidth": 0,
             "ticks": ""
            },
            "colorscale": [
             [
              0,
              "#0d0887"
             ],
             [
              0.1111111111111111,
              "#46039f"
             ],
             [
              0.2222222222222222,
              "#7201a8"
             ],
             [
              0.3333333333333333,
              "#9c179e"
             ],
             [
              0.4444444444444444,
              "#bd3786"
             ],
             [
              0.5555555555555556,
              "#d8576b"
             ],
             [
              0.6666666666666666,
              "#ed7953"
             ],
             [
              0.7777777777777778,
              "#fb9f3a"
             ],
             [
              0.8888888888888888,
              "#fdca26"
             ],
             [
              1,
              "#f0f921"
             ]
            ],
            "type": "histogram2dcontour"
           }
          ],
          "mesh3d": [
           {
            "colorbar": {
             "outlinewidth": 0,
             "ticks": ""
            },
            "type": "mesh3d"
           }
          ],
          "parcoords": [
           {
            "line": {
             "colorbar": {
              "outlinewidth": 0,
              "ticks": ""
             }
            },
            "type": "parcoords"
           }
          ],
          "pie": [
           {
            "automargin": true,
            "type": "pie"
           }
          ],
          "scatter": [
           {
            "fillpattern": {
             "fillmode": "overlay",
             "size": 10,
             "solidity": 0.2
            },
            "type": "scatter"
           }
          ],
          "scatter3d": [
           {
            "line": {
             "colorbar": {
              "outlinewidth": 0,
              "ticks": ""
             }
            },
            "marker": {
             "colorbar": {
              "outlinewidth": 0,
              "ticks": ""
             }
            },
            "type": "scatter3d"
           }
          ],
          "scattercarpet": [
           {
            "marker": {
             "colorbar": {
              "outlinewidth": 0,
              "ticks": ""
             }
            },
            "type": "scattercarpet"
           }
          ],
          "scattergeo": [
           {
            "marker": {
             "colorbar": {
              "outlinewidth": 0,
              "ticks": ""
             }
            },
            "type": "scattergeo"
           }
          ],
          "scattergl": [
           {
            "marker": {
             "colorbar": {
              "outlinewidth": 0,
              "ticks": ""
             }
            },
            "type": "scattergl"
           }
          ],
          "scattermapbox": [
           {
            "marker": {
             "colorbar": {
              "outlinewidth": 0,
              "ticks": ""
             }
            },
            "type": "scattermapbox"
           }
          ],
          "scatterpolar": [
           {
            "marker": {
             "colorbar": {
              "outlinewidth": 0,
              "ticks": ""
             }
            },
            "type": "scatterpolar"
           }
          ],
          "scatterpolargl": [
           {
            "marker": {
             "colorbar": {
              "outlinewidth": 0,
              "ticks": ""
             }
            },
            "type": "scatterpolargl"
           }
          ],
          "scatterternary": [
           {
            "marker": {
             "colorbar": {
              "outlinewidth": 0,
              "ticks": ""
             }
            },
            "type": "scatterternary"
           }
          ],
          "surface": [
           {
            "colorbar": {
             "outlinewidth": 0,
             "ticks": ""
            },
            "colorscale": [
             [
              0,
              "#0d0887"
             ],
             [
              0.1111111111111111,
              "#46039f"
             ],
             [
              0.2222222222222222,
              "#7201a8"
             ],
             [
              0.3333333333333333,
              "#9c179e"
             ],
             [
              0.4444444444444444,
              "#bd3786"
             ],
             [
              0.5555555555555556,
              "#d8576b"
             ],
             [
              0.6666666666666666,
              "#ed7953"
             ],
             [
              0.7777777777777778,
              "#fb9f3a"
             ],
             [
              0.8888888888888888,
              "#fdca26"
             ],
             [
              1,
              "#f0f921"
             ]
            ],
            "type": "surface"
           }
          ],
          "table": [
           {
            "cells": {
             "fill": {
              "color": "#EBF0F8"
             },
             "line": {
              "color": "white"
             }
            },
            "header": {
             "fill": {
              "color": "#C8D4E3"
             },
             "line": {
              "color": "white"
             }
            },
            "type": "table"
           }
          ]
         },
         "layout": {
          "annotationdefaults": {
           "arrowcolor": "#2a3f5f",
           "arrowhead": 0,
           "arrowwidth": 1
          },
          "autotypenumbers": "strict",
          "coloraxis": {
           "colorbar": {
            "outlinewidth": 0,
            "ticks": ""
           }
          },
          "colorscale": {
           "diverging": [
            [
             0,
             "#8e0152"
            ],
            [
             0.1,
             "#c51b7d"
            ],
            [
             0.2,
             "#de77ae"
            ],
            [
             0.3,
             "#f1b6da"
            ],
            [
             0.4,
             "#fde0ef"
            ],
            [
             0.5,
             "#f7f7f7"
            ],
            [
             0.6,
             "#e6f5d0"
            ],
            [
             0.7,
             "#b8e186"
            ],
            [
             0.8,
             "#7fbc41"
            ],
            [
             0.9,
             "#4d9221"
            ],
            [
             1,
             "#276419"
            ]
           ],
           "sequential": [
            [
             0,
             "#0d0887"
            ],
            [
             0.1111111111111111,
             "#46039f"
            ],
            [
             0.2222222222222222,
             "#7201a8"
            ],
            [
             0.3333333333333333,
             "#9c179e"
            ],
            [
             0.4444444444444444,
             "#bd3786"
            ],
            [
             0.5555555555555556,
             "#d8576b"
            ],
            [
             0.6666666666666666,
             "#ed7953"
            ],
            [
             0.7777777777777778,
             "#fb9f3a"
            ],
            [
             0.8888888888888888,
             "#fdca26"
            ],
            [
             1,
             "#f0f921"
            ]
           ],
           "sequentialminus": [
            [
             0,
             "#0d0887"
            ],
            [
             0.1111111111111111,
             "#46039f"
            ],
            [
             0.2222222222222222,
             "#7201a8"
            ],
            [
             0.3333333333333333,
             "#9c179e"
            ],
            [
             0.4444444444444444,
             "#bd3786"
            ],
            [
             0.5555555555555556,
             "#d8576b"
            ],
            [
             0.6666666666666666,
             "#ed7953"
            ],
            [
             0.7777777777777778,
             "#fb9f3a"
            ],
            [
             0.8888888888888888,
             "#fdca26"
            ],
            [
             1,
             "#f0f921"
            ]
           ]
          },
          "colorway": [
           "#636efa",
           "#EF553B",
           "#00cc96",
           "#ab63fa",
           "#FFA15A",
           "#19d3f3",
           "#FF6692",
           "#B6E880",
           "#FF97FF",
           "#FECB52"
          ],
          "font": {
           "color": "#2a3f5f"
          },
          "geo": {
           "bgcolor": "white",
           "lakecolor": "white",
           "landcolor": "#E5ECF6",
           "showlakes": true,
           "showland": true,
           "subunitcolor": "white"
          },
          "hoverlabel": {
           "align": "left"
          },
          "hovermode": "closest",
          "mapbox": {
           "style": "light"
          },
          "paper_bgcolor": "white",
          "plot_bgcolor": "#E5ECF6",
          "polar": {
           "angularaxis": {
            "gridcolor": "white",
            "linecolor": "white",
            "ticks": ""
           },
           "bgcolor": "#E5ECF6",
           "radialaxis": {
            "gridcolor": "white",
            "linecolor": "white",
            "ticks": ""
           }
          },
          "scene": {
           "xaxis": {
            "backgroundcolor": "#E5ECF6",
            "gridcolor": "white",
            "gridwidth": 2,
            "linecolor": "white",
            "showbackground": true,
            "ticks": "",
            "zerolinecolor": "white"
           },
           "yaxis": {
            "backgroundcolor": "#E5ECF6",
            "gridcolor": "white",
            "gridwidth": 2,
            "linecolor": "white",
            "showbackground": true,
            "ticks": "",
            "zerolinecolor": "white"
           },
           "zaxis": {
            "backgroundcolor": "#E5ECF6",
            "gridcolor": "white",
            "gridwidth": 2,
            "linecolor": "white",
            "showbackground": true,
            "ticks": "",
            "zerolinecolor": "white"
           }
          },
          "shapedefaults": {
           "line": {
            "color": "#2a3f5f"
           }
          },
          "ternary": {
           "aaxis": {
            "gridcolor": "white",
            "linecolor": "white",
            "ticks": ""
           },
           "baxis": {
            "gridcolor": "white",
            "linecolor": "white",
            "ticks": ""
           },
           "bgcolor": "#E5ECF6",
           "caxis": {
            "gridcolor": "white",
            "linecolor": "white",
            "ticks": ""
           }
          },
          "title": {
           "x": 0.05
          },
          "xaxis": {
           "automargin": true,
           "gridcolor": "white",
           "linecolor": "white",
           "ticks": "",
           "title": {
            "standoff": 15
           },
           "zerolinecolor": "white",
           "zerolinewidth": 2
          },
          "yaxis": {
           "automargin": true,
           "gridcolor": "white",
           "linecolor": "white",
           "ticks": "",
           "title": {
            "standoff": 15
           },
           "zerolinecolor": "white",
           "zerolinewidth": 2
          }
         }
        },
        "title": {
         "text": "Heatmap de Ocorrências por Ano e Mês"
        },
        "width": 800,
        "xaxis": {
         "tickmode": "linear",
         "title": {
          "text": "Ano do Fato"
         }
        },
        "yaxis": {
         "tickmode": "array",
         "ticktext": [
          "JANEIRO",
          "FEVEREIRO",
          "MARCO",
          "ABRIL",
          "MAIO",
          "JUNHO",
          "JULHO",
          "AGOSTO",
          "SETEMBRO",
          "OUTUBRO",
          "NOVEMBRO",
          "DEZEMBRO"
         ],
         "tickvals": [
          1,
          2,
          3,
          4,
          5,
          6,
          7,
          8,
          9,
          10,
          11,
          12
         ],
         "title": {
          "text": "Mês do Fato"
         }
        }
       }
      }
     },
     "metadata": {},
     "output_type": "display_data"
    }
   ],
   "source": [
    "\n",
    "month_mapping = {\n",
    "    'JANEIRO': 1, 'FEVEREIRO': 2, 'MARCO': 3, 'ABRIL': 4, 'MAIO': 5, 'JUNHO': 6,\n",
    "    'JULHO': 7, 'AGOSTO': 8, 'SETEMBRO': 9, 'OUTUBRO': 10, 'NOVEMBRO': 11, 'DEZEMBRO': 12\n",
    "}\n",
    "df_heat= df.copy()\n",
    "df_heat['MÊS DO FATO'] = df_heat['MÊS DO FATO'].replace(month_mapping)\n",
    "\n",
    "# Agregar dados por ano e mês\n",
    "heatmap_data = df_heat.groupby(['ANO DO FATO', 'MÊS DO FATO']).size().unstack(fill_value=0).T\n",
    "\n",
    "fig = go.Figure(data=go.Heatmap(\n",
    "    z=heatmap_data.values,\n",
    "    x=heatmap_data.columns,\n",
    "    y=heatmap_data.index,\n",
    "    colorscale='Viridis',\n",
    "    colorbar=dict(title='Número de Ocorrências'),\n",
    "    text=heatmap_data.values,        \n",
    "    texttemplate='%{text:.0f}',       \n",
    "    textfont=dict(size=12, color='white')  \n",
    "))\n",
    "\n",
    "# Adicionar títulos e rótulos\n",
    "fig.update_layout(\n",
    "    title='Heatmap de Ocorrências por Ano e Mês',\n",
    "    xaxis_title='Ano do Fato',\n",
    "    yaxis_title='Mês do Fato',\n",
    "    yaxis=dict(tickmode='array', tickvals=list(range(1, 13)), ticktext=list(month_mapping.keys())),\n",
    "    xaxis=dict(tickmode='linear'),\n",
    "    autosize=False,\n",
    "    width=800,\n",
    "    height=600\n",
    ")\n",
    "\n",
    "# Mostrar o heatmap\n",
    "fig.show()\n"
   ]
  },
  {
   "cell_type": "markdown",
   "metadata": {},
   "source": [
    "Primeiramente, tive que copiar cada cidade da lista de cidades do estado do pará, pegando cada um por subregião (como: região metropolitana). Então, tive que transformar cada nome de cidade em letra maiuscula e tirar todos os acentos de cada nome de cidade. (Precisou ser dessa forma pois, no dataframe, o nome de cada cidade não possui nenhuma acentuação).\n",
    "Então, depois de terminar cada região, tive que verificar se encaixava com a quantidade de cidades existentes somando todos os casos apresentados (deveria somar 144, supostamente o número de cidades do estado do Pará). Todavia, houve duas cidades que possuia no conjunto de dados, que não existiam formalmente nos escritos da prefeitura:\n",
    "- Pau D Arco\n",
    "- ALTAMIRA/CASTELO DOS SONHOS\n",
    "Sendo cada um destes existentes no conjunto de dados como cidades diferentes.\n",
    "PS: 'Pau D Arco' é uma subregião pertecente a área da cidade de Santa Bárbara. Já 'ALTAMIRA/CASTELO DOS SONHOS' é uma subregião pertecente a área da cidade ALTAMIRA \n",
    "Então, o Pau D Arco foi adicionado a região metropolitana e ALTAMIRA/CASTELO DOS SONHOS foi para região sudoeste"
   ]
  },
  {
   "cell_type": "code",
   "execution_count": null,
   "metadata": {},
   "outputs": [],
   "source": [
    "\n"
   ]
  },
  {
   "cell_type": "code",
   "execution_count": null,
   "metadata": {},
   "outputs": [],
   "source": []
  },
  {
   "cell_type": "code",
   "execution_count": 16,
   "metadata": {},
   "outputs": [
    {
     "data": {
      "text/plain": [
       "(145, 1)"
      ]
     },
     "execution_count": 16,
     "metadata": {},
     "output_type": "execute_result"
    }
   ],
   "source": [
    "a= pd.DataFrame(df[df['MUNICÍPIO(S)'].isin(baixo_amazonas)]['MUNICÍPIO(S)'].unique())\n",
    "b= pd.DataFrame(df[df['MUNICÍPIO(S)'].isin(marajo)]['MUNICÍPIO(S)'].unique())\n",
    "c= pd.DataFrame(df[df['MUNICÍPIO(S)'].isin(metropolitana)]['MUNICÍPIO(S)'].unique())\n",
    "d=pd.DataFrame(df[df['MUNICÍPIO(S)'].isin(sudoeste)]['MUNICÍPIO(S)'].unique())\n",
    "e= pd.DataFrame(df[df['MUNICÍPIO(S)'].isin(nordeste)]['MUNICÍPIO(S)'].unique())\n",
    "f= pd.DataFrame(df[df['MUNICÍPIO(S)'].isin(sudeste)]['MUNICÍPIO(S)'].unique())\n",
    "regions= pd.concat([a, b,c , d, e, f])\n",
    "regions.shape\n",
    "#sorted(regions[regions[0].duplicated(False)][0].to_list())\n"
   ]
  },
  {
   "cell_type": "code",
   "execution_count": 18,
   "metadata": {},
   "outputs": [
    {
     "data": {
      "text/html": [
       "<div>\n",
       "<style scoped>\n",
       "    .dataframe tbody tr th:only-of-type {\n",
       "        vertical-align: middle;\n",
       "    }\n",
       "\n",
       "    .dataframe tbody tr th {\n",
       "        vertical-align: top;\n",
       "    }\n",
       "\n",
       "    .dataframe thead th {\n",
       "        text-align: right;\n",
       "    }\n",
       "</style>\n",
       "<table border=\"1\" class=\"dataframe\">\n",
       "  <thead>\n",
       "    <tr style=\"text-align: right;\">\n",
       "      <th></th>\n",
       "      <th>0</th>\n",
       "    </tr>\n",
       "  </thead>\n",
       "  <tbody>\n",
       "    <tr>\n",
       "      <th>0</th>\n",
       "      <td>SANTAREM</td>\n",
       "    </tr>\n",
       "    <tr>\n",
       "      <th>1</th>\n",
       "      <td>ALMEIRIM</td>\n",
       "    </tr>\n",
       "    <tr>\n",
       "      <th>2</th>\n",
       "      <td>ALENQUER</td>\n",
       "    </tr>\n",
       "    <tr>\n",
       "      <th>3</th>\n",
       "      <td>MONTE ALEGRE</td>\n",
       "    </tr>\n",
       "    <tr>\n",
       "      <th>4</th>\n",
       "      <td>CURUA</td>\n",
       "    </tr>\n",
       "    <tr>\n",
       "      <th>5</th>\n",
       "      <td>TERRA SANTA</td>\n",
       "    </tr>\n",
       "    <tr>\n",
       "      <th>6</th>\n",
       "      <td>ORIXIMINA</td>\n",
       "    </tr>\n",
       "    <tr>\n",
       "      <th>7</th>\n",
       "      <td>MOJUI DOS CAMPOS</td>\n",
       "    </tr>\n",
       "    <tr>\n",
       "      <th>8</th>\n",
       "      <td>PRAINHA</td>\n",
       "    </tr>\n",
       "    <tr>\n",
       "      <th>9</th>\n",
       "      <td>PORTO DE MOZ</td>\n",
       "    </tr>\n",
       "    <tr>\n",
       "      <th>10</th>\n",
       "      <td>JURUTI</td>\n",
       "    </tr>\n",
       "    <tr>\n",
       "      <th>11</th>\n",
       "      <td>BELTERRA</td>\n",
       "    </tr>\n",
       "    <tr>\n",
       "      <th>12</th>\n",
       "      <td>FARO</td>\n",
       "    </tr>\n",
       "    <tr>\n",
       "      <th>13</th>\n",
       "      <td>OBIDOS</td>\n",
       "    </tr>\n",
       "    <tr>\n",
       "      <th>14</th>\n",
       "      <td>PLACAS</td>\n",
       "    </tr>\n",
       "  </tbody>\n",
       "</table>\n",
       "</div>"
      ],
      "text/plain": [
       "                   0\n",
       "0           SANTAREM\n",
       "1           ALMEIRIM\n",
       "2           ALENQUER\n",
       "3       MONTE ALEGRE\n",
       "4              CURUA\n",
       "5        TERRA SANTA\n",
       "6          ORIXIMINA\n",
       "7   MOJUI DOS CAMPOS\n",
       "8            PRAINHA\n",
       "9       PORTO DE MOZ\n",
       "10            JURUTI\n",
       "11          BELTERRA\n",
       "12              FARO\n",
       "13            OBIDOS\n",
       "14            PLACAS"
      ]
     },
     "execution_count": 18,
     "metadata": {},
     "output_type": "execute_result"
    }
   ],
   "source": [
    "a"
   ]
  },
  {
   "cell_type": "code",
   "execution_count": null,
   "metadata": {},
   "outputs": [],
   "source": []
  },
  {
   "cell_type": "code",
   "execution_count": 19,
   "metadata": {},
   "outputs": [
    {
     "data": {
      "text/plain": [
       "array([], dtype=object)"
      ]
     },
     "execution_count": 19,
     "metadata": {},
     "output_type": "execute_result"
    }
   ],
   "source": [
    "df[~df['MUNICÍPIO(S)'].isin(regions[0])]['MUNICÍPIO(S)'].unique()"
   ]
  }
 ],
 "metadata": {
  "kernelspec": {
   "display_name": "venv",
   "language": "python",
   "name": "python3"
  },
  "language_info": {
   "codemirror_mode": {
    "name": "ipython",
    "version": 3
   },
   "file_extension": ".py",
   "mimetype": "text/x-python",
   "name": "python",
   "nbconvert_exporter": "python",
   "pygments_lexer": "ipython3",
   "version": "3.11.9"
  }
 },
 "nbformat": 4,
 "nbformat_minor": 2
}
